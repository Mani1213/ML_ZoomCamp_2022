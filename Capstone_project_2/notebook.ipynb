{
 "cells": [
  {
   "cell_type": "code",
   "execution_count": 1,
   "metadata": {},
   "outputs": [],
   "source": [
    "import numpy as np\n",
    "import pandas as pd\n",
    "import matplotlib.pyplot as plt\n",
    "import seaborn as sns\n",
    "\n",
    "from sklearn.model_selection import train_test_split\n",
    "from sklearn.feature_extraction import DictVectorizer\n",
    "from sklearn.linear_model import LogisticRegression"
   ]
  },
  {
   "cell_type": "markdown",
   "metadata": {},
   "source": [
    "## Initial Analysis"
   ]
  },
  {
   "cell_type": "code",
   "execution_count": 2,
   "metadata": {},
   "outputs": [],
   "source": [
    "df = pd.read_csv('train.csv')\n",
    "df_submit = pd.read_csv('test.csv')"
   ]
  },
  {
   "cell_type": "code",
   "execution_count": 3,
   "metadata": {},
   "outputs": [
    {
     "data": {
      "text/html": [
       "<div>\n",
       "<style scoped>\n",
       "    .dataframe tbody tr th:only-of-type {\n",
       "        vertical-align: middle;\n",
       "    }\n",
       "\n",
       "    .dataframe tbody tr th {\n",
       "        vertical-align: top;\n",
       "    }\n",
       "\n",
       "    .dataframe thead th {\n",
       "        text-align: right;\n",
       "    }\n",
       "</style>\n",
       "<table border=\"1\" class=\"dataframe\">\n",
       "  <thead>\n",
       "    <tr style=\"text-align: right;\">\n",
       "      <th></th>\n",
       "      <th>PassengerId</th>\n",
       "      <th>HomePlanet</th>\n",
       "      <th>CryoSleep</th>\n",
       "      <th>Cabin</th>\n",
       "      <th>Destination</th>\n",
       "      <th>Age</th>\n",
       "      <th>VIP</th>\n",
       "      <th>RoomService</th>\n",
       "      <th>FoodCourt</th>\n",
       "      <th>ShoppingMall</th>\n",
       "      <th>Spa</th>\n",
       "      <th>VRDeck</th>\n",
       "      <th>Name</th>\n",
       "      <th>Transported</th>\n",
       "    </tr>\n",
       "  </thead>\n",
       "  <tbody>\n",
       "    <tr>\n",
       "      <th>0</th>\n",
       "      <td>0001_01</td>\n",
       "      <td>Europa</td>\n",
       "      <td>False</td>\n",
       "      <td>B/0/P</td>\n",
       "      <td>TRAPPIST-1e</td>\n",
       "      <td>39.0</td>\n",
       "      <td>False</td>\n",
       "      <td>0.0</td>\n",
       "      <td>0.0</td>\n",
       "      <td>0.0</td>\n",
       "      <td>0.0</td>\n",
       "      <td>0.0</td>\n",
       "      <td>Maham Ofracculy</td>\n",
       "      <td>False</td>\n",
       "    </tr>\n",
       "    <tr>\n",
       "      <th>1</th>\n",
       "      <td>0002_01</td>\n",
       "      <td>Earth</td>\n",
       "      <td>False</td>\n",
       "      <td>F/0/S</td>\n",
       "      <td>TRAPPIST-1e</td>\n",
       "      <td>24.0</td>\n",
       "      <td>False</td>\n",
       "      <td>109.0</td>\n",
       "      <td>9.0</td>\n",
       "      <td>25.0</td>\n",
       "      <td>549.0</td>\n",
       "      <td>44.0</td>\n",
       "      <td>Juanna Vines</td>\n",
       "      <td>True</td>\n",
       "    </tr>\n",
       "    <tr>\n",
       "      <th>2</th>\n",
       "      <td>0003_01</td>\n",
       "      <td>Europa</td>\n",
       "      <td>False</td>\n",
       "      <td>A/0/S</td>\n",
       "      <td>TRAPPIST-1e</td>\n",
       "      <td>58.0</td>\n",
       "      <td>True</td>\n",
       "      <td>43.0</td>\n",
       "      <td>3576.0</td>\n",
       "      <td>0.0</td>\n",
       "      <td>6715.0</td>\n",
       "      <td>49.0</td>\n",
       "      <td>Altark Susent</td>\n",
       "      <td>False</td>\n",
       "    </tr>\n",
       "    <tr>\n",
       "      <th>3</th>\n",
       "      <td>0003_02</td>\n",
       "      <td>Europa</td>\n",
       "      <td>False</td>\n",
       "      <td>A/0/S</td>\n",
       "      <td>TRAPPIST-1e</td>\n",
       "      <td>33.0</td>\n",
       "      <td>False</td>\n",
       "      <td>0.0</td>\n",
       "      <td>1283.0</td>\n",
       "      <td>371.0</td>\n",
       "      <td>3329.0</td>\n",
       "      <td>193.0</td>\n",
       "      <td>Solam Susent</td>\n",
       "      <td>False</td>\n",
       "    </tr>\n",
       "    <tr>\n",
       "      <th>4</th>\n",
       "      <td>0004_01</td>\n",
       "      <td>Earth</td>\n",
       "      <td>False</td>\n",
       "      <td>F/1/S</td>\n",
       "      <td>TRAPPIST-1e</td>\n",
       "      <td>16.0</td>\n",
       "      <td>False</td>\n",
       "      <td>303.0</td>\n",
       "      <td>70.0</td>\n",
       "      <td>151.0</td>\n",
       "      <td>565.0</td>\n",
       "      <td>2.0</td>\n",
       "      <td>Willy Santantines</td>\n",
       "      <td>True</td>\n",
       "    </tr>\n",
       "    <tr>\n",
       "      <th>...</th>\n",
       "      <td>...</td>\n",
       "      <td>...</td>\n",
       "      <td>...</td>\n",
       "      <td>...</td>\n",
       "      <td>...</td>\n",
       "      <td>...</td>\n",
       "      <td>...</td>\n",
       "      <td>...</td>\n",
       "      <td>...</td>\n",
       "      <td>...</td>\n",
       "      <td>...</td>\n",
       "      <td>...</td>\n",
       "      <td>...</td>\n",
       "      <td>...</td>\n",
       "    </tr>\n",
       "    <tr>\n",
       "      <th>8688</th>\n",
       "      <td>9276_01</td>\n",
       "      <td>Europa</td>\n",
       "      <td>False</td>\n",
       "      <td>A/98/P</td>\n",
       "      <td>55 Cancri e</td>\n",
       "      <td>41.0</td>\n",
       "      <td>True</td>\n",
       "      <td>0.0</td>\n",
       "      <td>6819.0</td>\n",
       "      <td>0.0</td>\n",
       "      <td>1643.0</td>\n",
       "      <td>74.0</td>\n",
       "      <td>Gravior Noxnuther</td>\n",
       "      <td>False</td>\n",
       "    </tr>\n",
       "    <tr>\n",
       "      <th>8689</th>\n",
       "      <td>9278_01</td>\n",
       "      <td>Earth</td>\n",
       "      <td>True</td>\n",
       "      <td>G/1499/S</td>\n",
       "      <td>PSO J318.5-22</td>\n",
       "      <td>18.0</td>\n",
       "      <td>False</td>\n",
       "      <td>0.0</td>\n",
       "      <td>0.0</td>\n",
       "      <td>0.0</td>\n",
       "      <td>0.0</td>\n",
       "      <td>0.0</td>\n",
       "      <td>Kurta Mondalley</td>\n",
       "      <td>False</td>\n",
       "    </tr>\n",
       "    <tr>\n",
       "      <th>8690</th>\n",
       "      <td>9279_01</td>\n",
       "      <td>Earth</td>\n",
       "      <td>False</td>\n",
       "      <td>G/1500/S</td>\n",
       "      <td>TRAPPIST-1e</td>\n",
       "      <td>26.0</td>\n",
       "      <td>False</td>\n",
       "      <td>0.0</td>\n",
       "      <td>0.0</td>\n",
       "      <td>1872.0</td>\n",
       "      <td>1.0</td>\n",
       "      <td>0.0</td>\n",
       "      <td>Fayey Connon</td>\n",
       "      <td>True</td>\n",
       "    </tr>\n",
       "    <tr>\n",
       "      <th>8691</th>\n",
       "      <td>9280_01</td>\n",
       "      <td>Europa</td>\n",
       "      <td>False</td>\n",
       "      <td>E/608/S</td>\n",
       "      <td>55 Cancri e</td>\n",
       "      <td>32.0</td>\n",
       "      <td>False</td>\n",
       "      <td>0.0</td>\n",
       "      <td>1049.0</td>\n",
       "      <td>0.0</td>\n",
       "      <td>353.0</td>\n",
       "      <td>3235.0</td>\n",
       "      <td>Celeon Hontichre</td>\n",
       "      <td>False</td>\n",
       "    </tr>\n",
       "    <tr>\n",
       "      <th>8692</th>\n",
       "      <td>9280_02</td>\n",
       "      <td>Europa</td>\n",
       "      <td>False</td>\n",
       "      <td>E/608/S</td>\n",
       "      <td>TRAPPIST-1e</td>\n",
       "      <td>44.0</td>\n",
       "      <td>False</td>\n",
       "      <td>126.0</td>\n",
       "      <td>4688.0</td>\n",
       "      <td>0.0</td>\n",
       "      <td>0.0</td>\n",
       "      <td>12.0</td>\n",
       "      <td>Propsh Hontichre</td>\n",
       "      <td>True</td>\n",
       "    </tr>\n",
       "  </tbody>\n",
       "</table>\n",
       "<p>8693 rows × 14 columns</p>\n",
       "</div>"
      ],
      "text/plain": [
       "     PassengerId HomePlanet CryoSleep     Cabin    Destination   Age    VIP  \\\n",
       "0        0001_01     Europa     False     B/0/P    TRAPPIST-1e  39.0  False   \n",
       "1        0002_01      Earth     False     F/0/S    TRAPPIST-1e  24.0  False   \n",
       "2        0003_01     Europa     False     A/0/S    TRAPPIST-1e  58.0   True   \n",
       "3        0003_02     Europa     False     A/0/S    TRAPPIST-1e  33.0  False   \n",
       "4        0004_01      Earth     False     F/1/S    TRAPPIST-1e  16.0  False   \n",
       "...          ...        ...       ...       ...            ...   ...    ...   \n",
       "8688     9276_01     Europa     False    A/98/P    55 Cancri e  41.0   True   \n",
       "8689     9278_01      Earth      True  G/1499/S  PSO J318.5-22  18.0  False   \n",
       "8690     9279_01      Earth     False  G/1500/S    TRAPPIST-1e  26.0  False   \n",
       "8691     9280_01     Europa     False   E/608/S    55 Cancri e  32.0  False   \n",
       "8692     9280_02     Europa     False   E/608/S    TRAPPIST-1e  44.0  False   \n",
       "\n",
       "      RoomService  FoodCourt  ShoppingMall     Spa  VRDeck               Name  \\\n",
       "0             0.0        0.0           0.0     0.0     0.0    Maham Ofracculy   \n",
       "1           109.0        9.0          25.0   549.0    44.0       Juanna Vines   \n",
       "2            43.0     3576.0           0.0  6715.0    49.0      Altark Susent   \n",
       "3             0.0     1283.0         371.0  3329.0   193.0       Solam Susent   \n",
       "4           303.0       70.0         151.0   565.0     2.0  Willy Santantines   \n",
       "...           ...        ...           ...     ...     ...                ...   \n",
       "8688          0.0     6819.0           0.0  1643.0    74.0  Gravior Noxnuther   \n",
       "8689          0.0        0.0           0.0     0.0     0.0    Kurta Mondalley   \n",
       "8690          0.0        0.0        1872.0     1.0     0.0       Fayey Connon   \n",
       "8691          0.0     1049.0           0.0   353.0  3235.0   Celeon Hontichre   \n",
       "8692        126.0     4688.0           0.0     0.0    12.0   Propsh Hontichre   \n",
       "\n",
       "      Transported  \n",
       "0           False  \n",
       "1            True  \n",
       "2           False  \n",
       "3           False  \n",
       "4            True  \n",
       "...           ...  \n",
       "8688        False  \n",
       "8689        False  \n",
       "8690         True  \n",
       "8691        False  \n",
       "8692         True  \n",
       "\n",
       "[8693 rows x 14 columns]"
      ]
     },
     "execution_count": 3,
     "metadata": {},
     "output_type": "execute_result"
    }
   ],
   "source": [
    "df"
   ]
  },
  {
   "cell_type": "code",
   "execution_count": 4,
   "metadata": {},
   "outputs": [
    {
     "data": {
      "text/plain": [
       "PassengerId      object\n",
       "HomePlanet       object\n",
       "CryoSleep        object\n",
       "Cabin            object\n",
       "Destination      object\n",
       "Age             float64\n",
       "VIP              object\n",
       "RoomService     float64\n",
       "FoodCourt       float64\n",
       "ShoppingMall    float64\n",
       "Spa             float64\n",
       "VRDeck          float64\n",
       "Name             object\n",
       "Transported        bool\n",
       "dtype: object"
      ]
     },
     "execution_count": 4,
     "metadata": {},
     "output_type": "execute_result"
    }
   ],
   "source": [
    "df.dtypes"
   ]
  },
  {
   "cell_type": "markdown",
   "metadata": {},
   "source": [
    "### Missing Values"
   ]
  },
  {
   "cell_type": "markdown",
   "metadata": {},
   "source": [
    "% of missing values in train..."
   ]
  },
  {
   "cell_type": "code",
   "execution_count": 5,
   "metadata": {},
   "outputs": [
    {
     "data": {
      "text/plain": [
       "PassengerId     0.000000\n",
       "HomePlanet      2.312205\n",
       "CryoSleep       2.496261\n",
       "Cabin           2.289198\n",
       "Destination     2.093639\n",
       "Age             2.059128\n",
       "VIP             2.335212\n",
       "RoomService     2.082135\n",
       "FoodCourt       2.105142\n",
       "ShoppingMall    2.392730\n",
       "Spa             2.105142\n",
       "VRDeck          2.162660\n",
       "Name            2.300702\n",
       "Transported     0.000000\n",
       "dtype: float64"
      ]
     },
     "execution_count": 5,
     "metadata": {},
     "output_type": "execute_result"
    }
   ],
   "source": [
    "df.isnull().sum()/len(df)*100"
   ]
  },
  {
   "cell_type": "markdown",
   "metadata": {},
   "source": [
    "...and submit datasets"
   ]
  },
  {
   "cell_type": "code",
   "execution_count": 6,
   "metadata": {},
   "outputs": [
    {
     "data": {
      "text/plain": [
       "PassengerId     0.000000\n",
       "HomePlanet      2.034136\n",
       "CryoSleep       2.174421\n",
       "Cabin           2.338087\n",
       "Destination     2.151040\n",
       "Age             2.127660\n",
       "VIP             2.174421\n",
       "RoomService     1.917232\n",
       "FoodCourt       2.478373\n",
       "ShoppingMall    2.291326\n",
       "Spa             2.361468\n",
       "VRDeck          1.870470\n",
       "Name            2.197802\n",
       "dtype: float64"
      ]
     },
     "execution_count": 6,
     "metadata": {},
     "output_type": "execute_result"
    }
   ],
   "source": [
    "df_submit.isnull().sum()/len(df_submit)*100"
   ]
  },
  {
   "cell_type": "markdown",
   "metadata": {},
   "source": [
    "### Finding 1 => Initial Analysis and missing values.\n",
    "- We will have to transform column and data to lowercase, remove spaces, etc\n",
    "- There are categorical variables (PassengerId and Cabin) than we can split in order to obtain several useful features\n",
    "    - *PassengerId* : Number of members in a group\n",
    "    - *Cabin* : Deck, Number, Side\n",
    "- There are missing values in both train and submit datasets, but in a small percentage (< 2.5%). We can replace them with the most frequent values ​​without too much loss of accuracy"
   ]
  },
  {
   "cell_type": "markdown",
   "metadata": {},
   "source": [
    "## Data Preparation"
   ]
  },
  {
   "cell_type": "markdown",
   "metadata": {},
   "source": [
    "Adaptating categorical columns"
   ]
  },
  {
   "cell_type": "code",
   "execution_count": 7,
   "metadata": {},
   "outputs": [],
   "source": [
    "df.columns = df.columns.str.lower().str.replace(' ', '_')\n",
    "\n",
    "df.cryosleep = pd.to_numeric(df.cryosleep, errors='coerce')\n",
    "df.vip = pd.to_numeric(df.vip, errors='coerce')\n",
    "df.transported = pd.to_numeric(df.transported, errors='coerce')\n",
    "\n",
    "categorical_columns = list(df.dtypes[df.dtypes == 'object'].index)\n",
    "for c in categorical_columns:\n",
    "    df[c] = df[c].str.lower().str.replace(' ', '_')"
   ]
  },
  {
   "cell_type": "markdown",
   "metadata": {},
   "source": [
    "Split of PassengerId (id / size)"
   ]
  },
  {
   "cell_type": "code",
   "execution_count": 8,
   "metadata": {},
   "outputs": [],
   "source": [
    "df['groupid'] = df['passengerid'].apply(lambda x: int(x[:4]))\n",
    "gr = pd.DataFrame(df['groupid'].value_counts()).reset_index().rename({'index': 'groupid', \n",
    "                      'groupid': 'groupsize'}, axis=1)\n",
    "df = df.merge(gr, on='groupid', how='left')"
   ]
  },
  {
   "cell_type": "markdown",
   "metadata": {},
   "source": [
    "Split of Cabin (deck / number / side)"
   ]
  },
  {
   "cell_type": "code",
   "execution_count": 9,
   "metadata": {},
   "outputs": [],
   "source": [
    "splitcabin = df['cabin'].str.split('/', expand=True).rename({0: 'deck', 1: 'num', 2: 'side'}, axis=1)\n",
    "df = df.merge(splitcabin, left_index=True, right_index=True, how='left')"
   ]
  },
  {
   "cell_type": "markdown",
   "metadata": {},
   "source": [
    "I won't use identifier variables (passengerid, cabin, name, groupid, num)"
   ]
  },
  {
   "cell_type": "code",
   "execution_count": 10,
   "metadata": {},
   "outputs": [],
   "source": [
    "df = df.drop(columns = ['passengerid', 'cabin', 'name', 'groupid', 'num'])"
   ]
  },
  {
   "cell_type": "code",
   "execution_count": 11,
   "metadata": {},
   "outputs": [
    {
     "data": {
      "text/html": [
       "<div>\n",
       "<style scoped>\n",
       "    .dataframe tbody tr th:only-of-type {\n",
       "        vertical-align: middle;\n",
       "    }\n",
       "\n",
       "    .dataframe tbody tr th {\n",
       "        vertical-align: top;\n",
       "    }\n",
       "\n",
       "    .dataframe thead th {\n",
       "        text-align: right;\n",
       "    }\n",
       "</style>\n",
       "<table border=\"1\" class=\"dataframe\">\n",
       "  <thead>\n",
       "    <tr style=\"text-align: right;\">\n",
       "      <th></th>\n",
       "      <th>cryosleep</th>\n",
       "      <th>age</th>\n",
       "      <th>vip</th>\n",
       "      <th>roomservice</th>\n",
       "      <th>foodcourt</th>\n",
       "      <th>shoppingmall</th>\n",
       "      <th>spa</th>\n",
       "      <th>vrdeck</th>\n",
       "      <th>groupsize</th>\n",
       "    </tr>\n",
       "  </thead>\n",
       "  <tbody>\n",
       "    <tr>\n",
       "      <th>count</th>\n",
       "      <td>8476.000000</td>\n",
       "      <td>8514.000000</td>\n",
       "      <td>8490.000000</td>\n",
       "      <td>8512.000000</td>\n",
       "      <td>8510.000000</td>\n",
       "      <td>8485.000000</td>\n",
       "      <td>8510.000000</td>\n",
       "      <td>8505.000000</td>\n",
       "      <td>8693.000000</td>\n",
       "    </tr>\n",
       "    <tr>\n",
       "      <th>mean</th>\n",
       "      <td>0.358306</td>\n",
       "      <td>28.827930</td>\n",
       "      <td>0.023439</td>\n",
       "      <td>224.687617</td>\n",
       "      <td>458.077203</td>\n",
       "      <td>173.729169</td>\n",
       "      <td>311.138778</td>\n",
       "      <td>304.854791</td>\n",
       "      <td>2.035546</td>\n",
       "    </tr>\n",
       "    <tr>\n",
       "      <th>std</th>\n",
       "      <td>0.479531</td>\n",
       "      <td>14.489021</td>\n",
       "      <td>0.151303</td>\n",
       "      <td>666.717663</td>\n",
       "      <td>1611.489240</td>\n",
       "      <td>604.696458</td>\n",
       "      <td>1136.705535</td>\n",
       "      <td>1145.717189</td>\n",
       "      <td>1.596347</td>\n",
       "    </tr>\n",
       "    <tr>\n",
       "      <th>min</th>\n",
       "      <td>0.000000</td>\n",
       "      <td>0.000000</td>\n",
       "      <td>0.000000</td>\n",
       "      <td>0.000000</td>\n",
       "      <td>0.000000</td>\n",
       "      <td>0.000000</td>\n",
       "      <td>0.000000</td>\n",
       "      <td>0.000000</td>\n",
       "      <td>1.000000</td>\n",
       "    </tr>\n",
       "    <tr>\n",
       "      <th>25%</th>\n",
       "      <td>0.000000</td>\n",
       "      <td>19.000000</td>\n",
       "      <td>0.000000</td>\n",
       "      <td>0.000000</td>\n",
       "      <td>0.000000</td>\n",
       "      <td>0.000000</td>\n",
       "      <td>0.000000</td>\n",
       "      <td>0.000000</td>\n",
       "      <td>1.000000</td>\n",
       "    </tr>\n",
       "    <tr>\n",
       "      <th>50%</th>\n",
       "      <td>0.000000</td>\n",
       "      <td>27.000000</td>\n",
       "      <td>0.000000</td>\n",
       "      <td>0.000000</td>\n",
       "      <td>0.000000</td>\n",
       "      <td>0.000000</td>\n",
       "      <td>0.000000</td>\n",
       "      <td>0.000000</td>\n",
       "      <td>1.000000</td>\n",
       "    </tr>\n",
       "    <tr>\n",
       "      <th>75%</th>\n",
       "      <td>1.000000</td>\n",
       "      <td>38.000000</td>\n",
       "      <td>0.000000</td>\n",
       "      <td>47.000000</td>\n",
       "      <td>76.000000</td>\n",
       "      <td>27.000000</td>\n",
       "      <td>59.000000</td>\n",
       "      <td>46.000000</td>\n",
       "      <td>3.000000</td>\n",
       "    </tr>\n",
       "    <tr>\n",
       "      <th>max</th>\n",
       "      <td>1.000000</td>\n",
       "      <td>79.000000</td>\n",
       "      <td>1.000000</td>\n",
       "      <td>14327.000000</td>\n",
       "      <td>29813.000000</td>\n",
       "      <td>23492.000000</td>\n",
       "      <td>22408.000000</td>\n",
       "      <td>24133.000000</td>\n",
       "      <td>8.000000</td>\n",
       "    </tr>\n",
       "  </tbody>\n",
       "</table>\n",
       "</div>"
      ],
      "text/plain": [
       "         cryosleep          age          vip   roomservice     foodcourt  \\\n",
       "count  8476.000000  8514.000000  8490.000000   8512.000000   8510.000000   \n",
       "mean      0.358306    28.827930     0.023439    224.687617    458.077203   \n",
       "std       0.479531    14.489021     0.151303    666.717663   1611.489240   \n",
       "min       0.000000     0.000000     0.000000      0.000000      0.000000   \n",
       "25%       0.000000    19.000000     0.000000      0.000000      0.000000   \n",
       "50%       0.000000    27.000000     0.000000      0.000000      0.000000   \n",
       "75%       1.000000    38.000000     0.000000     47.000000     76.000000   \n",
       "max       1.000000    79.000000     1.000000  14327.000000  29813.000000   \n",
       "\n",
       "       shoppingmall           spa        vrdeck    groupsize  \n",
       "count   8485.000000   8510.000000   8505.000000  8693.000000  \n",
       "mean     173.729169    311.138778    304.854791     2.035546  \n",
       "std      604.696458   1136.705535   1145.717189     1.596347  \n",
       "min        0.000000      0.000000      0.000000     1.000000  \n",
       "25%        0.000000      0.000000      0.000000     1.000000  \n",
       "50%        0.000000      0.000000      0.000000     1.000000  \n",
       "75%       27.000000     59.000000     46.000000     3.000000  \n",
       "max    23492.000000  22408.000000  24133.000000     8.000000  "
      ]
     },
     "execution_count": 11,
     "metadata": {},
     "output_type": "execute_result"
    }
   ],
   "source": [
    "df.describe()"
   ]
  },
  {
   "cell_type": "code",
   "execution_count": 12,
   "metadata": {},
   "outputs": [
    {
     "data": {
      "text/html": [
       "<div>\n",
       "<style scoped>\n",
       "    .dataframe tbody tr th:only-of-type {\n",
       "        vertical-align: middle;\n",
       "    }\n",
       "\n",
       "    .dataframe tbody tr th {\n",
       "        vertical-align: top;\n",
       "    }\n",
       "\n",
       "    .dataframe thead th {\n",
       "        text-align: right;\n",
       "    }\n",
       "</style>\n",
       "<table border=\"1\" class=\"dataframe\">\n",
       "  <thead>\n",
       "    <tr style=\"text-align: right;\">\n",
       "      <th></th>\n",
       "      <th>homeplanet</th>\n",
       "      <th>destination</th>\n",
       "      <th>deck</th>\n",
       "      <th>side</th>\n",
       "    </tr>\n",
       "  </thead>\n",
       "  <tbody>\n",
       "    <tr>\n",
       "      <th>count</th>\n",
       "      <td>8492</td>\n",
       "      <td>8511</td>\n",
       "      <td>8494</td>\n",
       "      <td>8494</td>\n",
       "    </tr>\n",
       "    <tr>\n",
       "      <th>unique</th>\n",
       "      <td>3</td>\n",
       "      <td>3</td>\n",
       "      <td>8</td>\n",
       "      <td>2</td>\n",
       "    </tr>\n",
       "    <tr>\n",
       "      <th>top</th>\n",
       "      <td>earth</td>\n",
       "      <td>trappist-1e</td>\n",
       "      <td>f</td>\n",
       "      <td>s</td>\n",
       "    </tr>\n",
       "    <tr>\n",
       "      <th>freq</th>\n",
       "      <td>4602</td>\n",
       "      <td>5915</td>\n",
       "      <td>2794</td>\n",
       "      <td>4288</td>\n",
       "    </tr>\n",
       "  </tbody>\n",
       "</table>\n",
       "</div>"
      ],
      "text/plain": [
       "       homeplanet  destination  deck  side\n",
       "count        8492         8511  8494  8494\n",
       "unique          3            3     8     2\n",
       "top         earth  trappist-1e     f     s\n",
       "freq         4602         5915  2794  4288"
      ]
     },
     "execution_count": 12,
     "metadata": {},
     "output_type": "execute_result"
    }
   ],
   "source": [
    "df.describe(include = ['O'])"
   ]
  },
  {
   "cell_type": "markdown",
   "metadata": {},
   "source": [
    "In order to correct missing values I'm going to impute:\n",
    "- mean() value in numerical features\n",
    "- most frequent value in categorical ones"
   ]
  },
  {
   "cell_type": "code",
   "execution_count": 13,
   "metadata": {},
   "outputs": [],
   "source": [
    "df.cryosleep = df.cryosleep.fillna(df.cryosleep.median()).astype(int)\n",
    "df.age = df.age.fillna(df.age.mean()).astype(int)\n",
    "df.vip = df.vip.fillna(df.vip.median()).astype(int)\n",
    "df.roomservice = df.roomservice.fillna(df.roomservice.mean()).astype(int)\n",
    "df.foodcourt = df.foodcourt.fillna(df.foodcourt.mean()).astype(int)\n",
    "df.shoppingmall = df.shoppingmall.fillna(df.shoppingmall.mean()).astype(int)\n",
    "df.spa = df.spa.fillna(df.spa.mean()).astype(int)\n",
    "df.vrdeck = df.vrdeck.fillna(df.spa.mean()).astype(int)\n",
    "df.groupsize = df.groupsize.fillna(df.groupsize.mean()).astype(int)\n",
    "df.homeplanet = df.homeplanet.fillna('earth')\n",
    "df.destination = df.destination.fillna('trappist-1e')\n",
    "df.deck = df.deck.fillna('f')\n",
    "df.side = df.side.fillna('s')"
   ]
  },
  {
   "cell_type": "code",
   "execution_count": 14,
   "metadata": {},
   "outputs": [
    {
     "data": {
      "text/plain": [
       "homeplanet      0.0\n",
       "cryosleep       0.0\n",
       "destination     0.0\n",
       "age             0.0\n",
       "vip             0.0\n",
       "roomservice     0.0\n",
       "foodcourt       0.0\n",
       "shoppingmall    0.0\n",
       "spa             0.0\n",
       "vrdeck          0.0\n",
       "transported     0.0\n",
       "groupsize       0.0\n",
       "deck            0.0\n",
       "side            0.0\n",
       "dtype: float64"
      ]
     },
     "execution_count": 14,
     "metadata": {},
     "output_type": "execute_result"
    }
   ],
   "source": [
    "df.isnull().sum()/len(df)*100"
   ]
  },
  {
   "cell_type": "code",
   "execution_count": 15,
   "metadata": {},
   "outputs": [
    {
     "data": {
      "text/plain": [
       "homeplanet      object\n",
       "cryosleep        int32\n",
       "destination     object\n",
       "age              int32\n",
       "vip              int32\n",
       "roomservice      int32\n",
       "foodcourt        int32\n",
       "shoppingmall     int32\n",
       "spa              int32\n",
       "vrdeck           int32\n",
       "transported       bool\n",
       "groupsize        int32\n",
       "deck            object\n",
       "side            object\n",
       "dtype: object"
      ]
     },
     "execution_count": 15,
     "metadata": {},
     "output_type": "execute_result"
    }
   ],
   "source": [
    "df.dtypes"
   ]
  },
  {
   "cell_type": "code",
   "execution_count": 16,
   "metadata": {},
   "outputs": [
    {
     "data": {
      "text/plain": [
       "homeplanet         3\n",
       "cryosleep          2\n",
       "destination        3\n",
       "age               80\n",
       "vip                2\n",
       "roomservice     1273\n",
       "foodcourt       1507\n",
       "shoppingmall    1116\n",
       "spa             1327\n",
       "vrdeck          1306\n",
       "transported        2\n",
       "groupsize          8\n",
       "deck               8\n",
       "side               2\n",
       "dtype: int64"
      ]
     },
     "execution_count": 16,
     "metadata": {},
     "output_type": "execute_result"
    }
   ],
   "source": [
    "df.nunique()"
   ]
  },
  {
   "cell_type": "code",
   "execution_count": 17,
   "metadata": {},
   "outputs": [],
   "source": [
    "from sklearn.model_selection import train_test_split\n",
    "\n",
    "def split_dataframe(dataframe): \n",
    "  df_full_train, df_test = train_test_split(dataframe, test_size=0.2, random_state=1)\n",
    "\n",
    "  df_full_train = df_full_train.reset_index(drop=True)\n",
    "  df_test = df_test.reset_index(drop=True)\n",
    "\n",
    "  #y_train = df_train.trip_duration.values\n",
    "  #y_val = df_val.trip_duration.values\n",
    "  #y_test = df_test.trip_duration.values\n",
    "\n",
    "  return df_full_train, df_test\n",
    "\n",
    "  # df_train.drop(columns=['trip_duration'], inplace=True)\n",
    "  # df_val.drop(columns=['trip_duration'], inplace=True)"
   ]
  },
  {
   "cell_type": "code",
   "execution_count": 18,
   "metadata": {},
   "outputs": [],
   "source": [
    "df_rest, df_tmp = train_test_split(df, test_size=0.1, random_state=1)\n",
    "df_full_train, df_test = split_dataframe(df_tmp)"
   ]
  },
  {
   "cell_type": "markdown",
   "metadata": {},
   "source": [
    "#### We impute missing_values\n",
    "- Categorical: Space\n",
    "- Numerical: Zero or mean()"
   ]
  },
  {
   "cell_type": "code",
   "execution_count": 19,
   "metadata": {},
   "outputs": [],
   "source": [
    "# Imputamos los distintos valores\n",
    "\n"
   ]
  },
  {
   "cell_type": "code",
   "execution_count": 20,
   "metadata": {},
   "outputs": [
    {
     "data": {
      "text/html": [
       "<div>\n",
       "<style scoped>\n",
       "    .dataframe tbody tr th:only-of-type {\n",
       "        vertical-align: middle;\n",
       "    }\n",
       "\n",
       "    .dataframe tbody tr th {\n",
       "        vertical-align: top;\n",
       "    }\n",
       "\n",
       "    .dataframe thead th {\n",
       "        text-align: right;\n",
       "    }\n",
       "</style>\n",
       "<table border=\"1\" class=\"dataframe\">\n",
       "  <thead>\n",
       "    <tr style=\"text-align: right;\">\n",
       "      <th></th>\n",
       "      <th>homeplanet</th>\n",
       "      <th>cryosleep</th>\n",
       "      <th>destination</th>\n",
       "      <th>age</th>\n",
       "      <th>vip</th>\n",
       "      <th>roomservice</th>\n",
       "      <th>foodcourt</th>\n",
       "      <th>shoppingmall</th>\n",
       "      <th>spa</th>\n",
       "      <th>vrdeck</th>\n",
       "      <th>transported</th>\n",
       "      <th>groupsize</th>\n",
       "      <th>deck</th>\n",
       "      <th>side</th>\n",
       "    </tr>\n",
       "  </thead>\n",
       "  <tbody>\n",
       "    <tr>\n",
       "      <th>0</th>\n",
       "      <td>europa</td>\n",
       "      <td>0</td>\n",
       "      <td>trappist-1e</td>\n",
       "      <td>39</td>\n",
       "      <td>0</td>\n",
       "      <td>0</td>\n",
       "      <td>0</td>\n",
       "      <td>0</td>\n",
       "      <td>0</td>\n",
       "      <td>0</td>\n",
       "      <td>False</td>\n",
       "      <td>1</td>\n",
       "      <td>b</td>\n",
       "      <td>p</td>\n",
       "    </tr>\n",
       "    <tr>\n",
       "      <th>1</th>\n",
       "      <td>earth</td>\n",
       "      <td>0</td>\n",
       "      <td>trappist-1e</td>\n",
       "      <td>24</td>\n",
       "      <td>0</td>\n",
       "      <td>109</td>\n",
       "      <td>9</td>\n",
       "      <td>25</td>\n",
       "      <td>549</td>\n",
       "      <td>44</td>\n",
       "      <td>True</td>\n",
       "      <td>1</td>\n",
       "      <td>f</td>\n",
       "      <td>s</td>\n",
       "    </tr>\n",
       "    <tr>\n",
       "      <th>2</th>\n",
       "      <td>europa</td>\n",
       "      <td>0</td>\n",
       "      <td>trappist-1e</td>\n",
       "      <td>58</td>\n",
       "      <td>1</td>\n",
       "      <td>43</td>\n",
       "      <td>3576</td>\n",
       "      <td>0</td>\n",
       "      <td>6715</td>\n",
       "      <td>49</td>\n",
       "      <td>False</td>\n",
       "      <td>2</td>\n",
       "      <td>a</td>\n",
       "      <td>s</td>\n",
       "    </tr>\n",
       "    <tr>\n",
       "      <th>3</th>\n",
       "      <td>europa</td>\n",
       "      <td>0</td>\n",
       "      <td>trappist-1e</td>\n",
       "      <td>33</td>\n",
       "      <td>0</td>\n",
       "      <td>0</td>\n",
       "      <td>1283</td>\n",
       "      <td>371</td>\n",
       "      <td>3329</td>\n",
       "      <td>193</td>\n",
       "      <td>False</td>\n",
       "      <td>2</td>\n",
       "      <td>a</td>\n",
       "      <td>s</td>\n",
       "    </tr>\n",
       "    <tr>\n",
       "      <th>4</th>\n",
       "      <td>earth</td>\n",
       "      <td>0</td>\n",
       "      <td>trappist-1e</td>\n",
       "      <td>16</td>\n",
       "      <td>0</td>\n",
       "      <td>303</td>\n",
       "      <td>70</td>\n",
       "      <td>151</td>\n",
       "      <td>565</td>\n",
       "      <td>2</td>\n",
       "      <td>True</td>\n",
       "      <td>1</td>\n",
       "      <td>f</td>\n",
       "      <td>s</td>\n",
       "    </tr>\n",
       "    <tr>\n",
       "      <th>...</th>\n",
       "      <td>...</td>\n",
       "      <td>...</td>\n",
       "      <td>...</td>\n",
       "      <td>...</td>\n",
       "      <td>...</td>\n",
       "      <td>...</td>\n",
       "      <td>...</td>\n",
       "      <td>...</td>\n",
       "      <td>...</td>\n",
       "      <td>...</td>\n",
       "      <td>...</td>\n",
       "      <td>...</td>\n",
       "      <td>...</td>\n",
       "      <td>...</td>\n",
       "    </tr>\n",
       "    <tr>\n",
       "      <th>8688</th>\n",
       "      <td>europa</td>\n",
       "      <td>0</td>\n",
       "      <td>55_cancri_e</td>\n",
       "      <td>41</td>\n",
       "      <td>1</td>\n",
       "      <td>0</td>\n",
       "      <td>6819</td>\n",
       "      <td>0</td>\n",
       "      <td>1643</td>\n",
       "      <td>74</td>\n",
       "      <td>False</td>\n",
       "      <td>1</td>\n",
       "      <td>a</td>\n",
       "      <td>p</td>\n",
       "    </tr>\n",
       "    <tr>\n",
       "      <th>8689</th>\n",
       "      <td>earth</td>\n",
       "      <td>1</td>\n",
       "      <td>pso_j318.5-22</td>\n",
       "      <td>18</td>\n",
       "      <td>0</td>\n",
       "      <td>0</td>\n",
       "      <td>0</td>\n",
       "      <td>0</td>\n",
       "      <td>0</td>\n",
       "      <td>0</td>\n",
       "      <td>False</td>\n",
       "      <td>1</td>\n",
       "      <td>g</td>\n",
       "      <td>s</td>\n",
       "    </tr>\n",
       "    <tr>\n",
       "      <th>8690</th>\n",
       "      <td>earth</td>\n",
       "      <td>0</td>\n",
       "      <td>trappist-1e</td>\n",
       "      <td>26</td>\n",
       "      <td>0</td>\n",
       "      <td>0</td>\n",
       "      <td>0</td>\n",
       "      <td>1872</td>\n",
       "      <td>1</td>\n",
       "      <td>0</td>\n",
       "      <td>True</td>\n",
       "      <td>1</td>\n",
       "      <td>g</td>\n",
       "      <td>s</td>\n",
       "    </tr>\n",
       "    <tr>\n",
       "      <th>8691</th>\n",
       "      <td>europa</td>\n",
       "      <td>0</td>\n",
       "      <td>55_cancri_e</td>\n",
       "      <td>32</td>\n",
       "      <td>0</td>\n",
       "      <td>0</td>\n",
       "      <td>1049</td>\n",
       "      <td>0</td>\n",
       "      <td>353</td>\n",
       "      <td>3235</td>\n",
       "      <td>False</td>\n",
       "      <td>2</td>\n",
       "      <td>e</td>\n",
       "      <td>s</td>\n",
       "    </tr>\n",
       "    <tr>\n",
       "      <th>8692</th>\n",
       "      <td>europa</td>\n",
       "      <td>0</td>\n",
       "      <td>trappist-1e</td>\n",
       "      <td>44</td>\n",
       "      <td>0</td>\n",
       "      <td>126</td>\n",
       "      <td>4688</td>\n",
       "      <td>0</td>\n",
       "      <td>0</td>\n",
       "      <td>12</td>\n",
       "      <td>True</td>\n",
       "      <td>2</td>\n",
       "      <td>e</td>\n",
       "      <td>s</td>\n",
       "    </tr>\n",
       "  </tbody>\n",
       "</table>\n",
       "<p>8693 rows × 14 columns</p>\n",
       "</div>"
      ],
      "text/plain": [
       "     homeplanet  cryosleep    destination  age  vip  roomservice  foodcourt  \\\n",
       "0        europa          0    trappist-1e   39    0            0          0   \n",
       "1         earth          0    trappist-1e   24    0          109          9   \n",
       "2        europa          0    trappist-1e   58    1           43       3576   \n",
       "3        europa          0    trappist-1e   33    0            0       1283   \n",
       "4         earth          0    trappist-1e   16    0          303         70   \n",
       "...         ...        ...            ...  ...  ...          ...        ...   \n",
       "8688     europa          0    55_cancri_e   41    1            0       6819   \n",
       "8689      earth          1  pso_j318.5-22   18    0            0          0   \n",
       "8690      earth          0    trappist-1e   26    0            0          0   \n",
       "8691     europa          0    55_cancri_e   32    0            0       1049   \n",
       "8692     europa          0    trappist-1e   44    0          126       4688   \n",
       "\n",
       "      shoppingmall   spa  vrdeck  transported  groupsize deck side  \n",
       "0                0     0       0        False          1    b    p  \n",
       "1               25   549      44         True          1    f    s  \n",
       "2                0  6715      49        False          2    a    s  \n",
       "3              371  3329     193        False          2    a    s  \n",
       "4              151   565       2         True          1    f    s  \n",
       "...            ...   ...     ...          ...        ...  ...  ...  \n",
       "8688             0  1643      74        False          1    a    p  \n",
       "8689             0     0       0        False          1    g    s  \n",
       "8690          1872     1       0         True          1    g    s  \n",
       "8691             0   353    3235        False          2    e    s  \n",
       "8692             0     0      12         True          2    e    s  \n",
       "\n",
       "[8693 rows x 14 columns]"
      ]
     },
     "execution_count": 20,
     "metadata": {},
     "output_type": "execute_result"
    }
   ],
   "source": [
    "df"
   ]
  },
  {
   "cell_type": "code",
   "execution_count": 21,
   "metadata": {},
   "outputs": [
    {
     "data": {
      "text/plain": [
       "homeplanet      object\n",
       "cryosleep        int32\n",
       "destination     object\n",
       "age              int32\n",
       "vip              int32\n",
       "roomservice      int32\n",
       "foodcourt        int32\n",
       "shoppingmall     int32\n",
       "spa              int32\n",
       "vrdeck           int32\n",
       "transported       bool\n",
       "groupsize        int32\n",
       "deck            object\n",
       "side            object\n",
       "dtype: object"
      ]
     },
     "execution_count": 21,
     "metadata": {},
     "output_type": "execute_result"
    }
   ],
   "source": [
    "df.dtypes"
   ]
  },
  {
   "cell_type": "markdown",
   "metadata": {},
   "source": [
    "#### Cambios\n",
    "- Pasar booleanos a 0-1"
   ]
  },
  {
   "cell_type": "code",
   "execution_count": 22,
   "metadata": {},
   "outputs": [],
   "source": [
    "from sklearn.feature_extraction import DictVectorizer\n",
    "from sklearn.model_selection import KFold\n",
    "from sklearn.metrics import roc_auc_score"
   ]
  },
  {
   "cell_type": "markdown",
   "metadata": {},
   "source": [
    "## Logistic Regression"
   ]
  },
  {
   "cell_type": "code",
   "execution_count": 23,
   "metadata": {},
   "outputs": [],
   "source": [
    "from sklearn.linear_model import LogisticRegression"
   ]
  },
  {
   "cell_type": "code",
   "execution_count": 24,
   "metadata": {},
   "outputs": [],
   "source": [
    "# Functions to calculate Logistic Regression model\n",
    "def LR_train(df_train, df_val, features):\n",
    "    # OHE\n",
    "    dv = DictVectorizer(sparse=False)\n",
    "    train_dict = df_train[features].to_dict(orient='records')\n",
    "    X_train = dv.fit_transform(train_dict)\n",
    "    val_dict = df_val[features].to_dict(orient='records')\n",
    "    X_val = dv.transform(val_dict)\n",
    "\n",
    "    y_train = df_train.transported.values\n",
    "\n",
    "    model = LogisticRegression(max_iter=1000)\n",
    "    model.fit(X_train, y_train)\n",
    "\n",
    "    return(model,X_train,X_val)\n",
    "  \n",
    "def LR_predict(X_train, X_val, model):\n",
    "    y_pred_train = model.predict_proba(X_train)[:, 1]\n",
    "    y_pred_val = model.predict_proba(X_val)[:, 1]\n",
    "\n",
    "    return(y_pred_train, y_pred_val)\n",
    "\n",
    "def LR_calculate(features, n_splits=5): # Number of splits for Cross validation by default is 3 because it's a very large dataset\n",
    "    # Cross-Validating\n",
    "    print('Doing validation with %s splits' % n_splits)\n",
    "    kfold = KFold(n_splits=n_splits, shuffle=True, random_state=1)\n",
    "    scores_train = []\n",
    "    scores_val = []\n",
    "    fold = 0\n",
    "\n",
    "    for train_idx, val_idx in kfold.split(df_full_train):\n",
    "        df_train = df_full_train.iloc[train_idx]\n",
    "        df_val = df_full_train.iloc[val_idx]\n",
    "\n",
    "        model, X_train, X_val = LR_train(df_train, df_val, features)\n",
    "        y_pred_train, y_pred_val = LR_predict(X_train, X_val, model)\n",
    "\n",
    "        y_train = df_train.transported.values\n",
    "        y_val = df_val.transported.values\n",
    "        scores_train.append(round(roc_auc_score(y_train, y_pred_train),4))\n",
    "        scores_val.append(round(roc_auc_score(y_val, y_pred_val),4))\n",
    "\n",
    "        # Calculates and prints metrics\n",
    "        print(f'Fold {fold} ROC_AUC train: {round(roc_auc_score(y_train, y_pred_train),4)} ROC_AUC val: {round(roc_auc_score(y_val, y_pred_val),4)}...')\n",
    "        fold = fold + 1\n",
    "\n",
    "    print('Validation results:')\n",
    "    print('ROC_AUC_train: %.3f +- %.3f' % (np.mean(scores_train), np.std(scores_train))) \n",
    "    print('ROC_AUC_val: %.3f +- %.3f' % (np.mean(scores_val), np.std(scores_val))) \n",
    "\n",
    "    #Final model\n",
    "    print(\"Final model...\")\n",
    "    model, X_train, X_test = LR_train(df_full_train, df_test, features)\n",
    "    y_pred_train, y_pred_test = LR_predict(X_train, X_test, model)\n",
    "\n",
    "    y_train = df_full_train.transported.values\n",
    "    y_test = df_test.transported.values\n",
    "   \n",
    "    print('ROC_AUC train: ',round(roc_auc_score(y_train, y_pred_train),4), ' ROC_AUC test: ',round(roc_auc_score(y_test, y_pred_test),4))"
   ]
  },
  {
   "cell_type": "code",
   "execution_count": 25,
   "metadata": {},
   "outputs": [
    {
     "name": "stdout",
     "output_type": "stream",
     "text": [
      "Doing validation with 5 splits\n"
     ]
    },
    {
     "name": "stderr",
     "output_type": "stream",
     "text": [
      "C:\\Users\\gmani\\anaconda3\\lib\\site-packages\\sklearn\\linear_model\\_logistic.py:814: ConvergenceWarning: lbfgs failed to converge (status=1):\n",
      "STOP: TOTAL NO. of ITERATIONS REACHED LIMIT.\n",
      "\n",
      "Increase the number of iterations (max_iter) or scale the data as shown in:\n",
      "    https://scikit-learn.org/stable/modules/preprocessing.html\n",
      "Please also refer to the documentation for alternative solver options:\n",
      "    https://scikit-learn.org/stable/modules/linear_model.html#logistic-regression\n",
      "  n_iter_i = _check_optimize_result(\n"
     ]
    },
    {
     "name": "stdout",
     "output_type": "stream",
     "text": [
      "Fold 0 ROC_AUC train: 0.8978 ROC_AUC val: 0.8761...\n"
     ]
    },
    {
     "name": "stderr",
     "output_type": "stream",
     "text": [
      "C:\\Users\\gmani\\anaconda3\\lib\\site-packages\\sklearn\\linear_model\\_logistic.py:814: ConvergenceWarning: lbfgs failed to converge (status=1):\n",
      "STOP: TOTAL NO. of ITERATIONS REACHED LIMIT.\n",
      "\n",
      "Increase the number of iterations (max_iter) or scale the data as shown in:\n",
      "    https://scikit-learn.org/stable/modules/preprocessing.html\n",
      "Please also refer to the documentation for alternative solver options:\n",
      "    https://scikit-learn.org/stable/modules/linear_model.html#logistic-regression\n",
      "  n_iter_i = _check_optimize_result(\n"
     ]
    },
    {
     "name": "stdout",
     "output_type": "stream",
     "text": [
      "Fold 1 ROC_AUC train: 0.8865 ROC_AUC val: 0.9159...\n",
      "Fold 2 ROC_AUC train: 0.8942 ROC_AUC val: 0.8813...\n"
     ]
    },
    {
     "name": "stderr",
     "output_type": "stream",
     "text": [
      "C:\\Users\\gmani\\anaconda3\\lib\\site-packages\\sklearn\\linear_model\\_logistic.py:814: ConvergenceWarning: lbfgs failed to converge (status=1):\n",
      "STOP: TOTAL NO. of ITERATIONS REACHED LIMIT.\n",
      "\n",
      "Increase the number of iterations (max_iter) or scale the data as shown in:\n",
      "    https://scikit-learn.org/stable/modules/preprocessing.html\n",
      "Please also refer to the documentation for alternative solver options:\n",
      "    https://scikit-learn.org/stable/modules/linear_model.html#logistic-regression\n",
      "  n_iter_i = _check_optimize_result(\n"
     ]
    },
    {
     "name": "stdout",
     "output_type": "stream",
     "text": [
      "Fold 3 ROC_AUC train: 0.9112 ROC_AUC val: 0.8099...\n",
      "Fold 4 ROC_AUC train: 0.8893 ROC_AUC val: 0.9021...\n",
      "Validation results:\n",
      "ROC_AUC_train: 0.896 +- 0.009\n",
      "ROC_AUC_val: 0.877 +- 0.037\n",
      "Final model...\n",
      "ROC_AUC train:  0.894  ROC_AUC test:  0.8965\n"
     ]
    },
    {
     "name": "stderr",
     "output_type": "stream",
     "text": [
      "C:\\Users\\gmani\\anaconda3\\lib\\site-packages\\sklearn\\linear_model\\_logistic.py:814: ConvergenceWarning: lbfgs failed to converge (status=1):\n",
      "STOP: TOTAL NO. of ITERATIONS REACHED LIMIT.\n",
      "\n",
      "Increase the number of iterations (max_iter) or scale the data as shown in:\n",
      "    https://scikit-learn.org/stable/modules/preprocessing.html\n",
      "Please also refer to the documentation for alternative solver options:\n",
      "    https://scikit-learn.org/stable/modules/linear_model.html#logistic-regression\n",
      "  n_iter_i = _check_optimize_result(\n"
     ]
    }
   ],
   "source": [
    "features = ['homeplanet', 'cryosleep', 'destination', 'age',\n",
    "            'vip', 'roomservice', 'foodcourt', 'shoppingmall', 'spa', 'vrdeck', 'groupsize', 'deck', 'side']\n",
    "LR_calculate(features)"
   ]
  },
  {
   "cell_type": "markdown",
   "metadata": {},
   "source": [
    "### Findings about Linear Regression model\n",
    "1. ROC_AUC = 0.8978. Great result !"
   ]
  },
  {
   "cell_type": "markdown",
   "metadata": {},
   "source": [
    "## Decision Tree"
   ]
  },
  {
   "cell_type": "code",
   "execution_count": 26,
   "metadata": {},
   "outputs": [],
   "source": [
    "from sklearn.tree import DecisionTreeClassifier\n",
    "from sklearn.tree import export_text"
   ]
  },
  {
   "cell_type": "code",
   "execution_count": 27,
   "metadata": {},
   "outputs": [],
   "source": [
    "# Functions to calculate Decision Tree model\n",
    "def DT_train(df_train, df_val, features, max_d):\n",
    "    # OHE\n",
    "    dv = DictVectorizer(sparse=False)\n",
    "    train_dict = df_train[features].to_dict(orient='records')\n",
    "    X_train = dv.fit_transform(train_dict)\n",
    "    val_dict = df_val[features].to_dict(orient='records')\n",
    "    X_val = dv.transform(val_dict)\n",
    "    #X_train = df_train[features].values\n",
    "    #X_val = df_val[features].values\n",
    "\n",
    "    y_train = df_train.transported.values\n",
    "\n",
    "    model = DecisionTreeClassifier(max_depth=max_d, random_state=1)\n",
    "    model.fit(X_train, y_train)\n",
    "\n",
    "    return(dv,model,X_train,X_val)\n",
    "  \n",
    "def DT_predict(X_train, X_val, model):\n",
    "    y_pred_train = model.predict(X_train)\n",
    "    y_pred_val = model.predict(X_val)\n",
    "\n",
    "    return(y_pred_train, y_pred_val)\n",
    "\n",
    "def DT_calculate(features, max_d=None, print_ft_tree=False, n_splits=5):\n",
    "    # Cross-Validating\n",
    "    print('Doing validation with %s splits' % n_splits)\n",
    "    kfold = KFold(n_splits=n_splits, shuffle=True, random_state=1)\n",
    "    scores_train = []\n",
    "    scores_val = []\n",
    "    fold = 0\n",
    "    dv = 0\n",
    "\n",
    "    for train_idx, val_idx in kfold.split(df_full_train):\n",
    "        df_train = df_full_train.iloc[train_idx]\n",
    "        df_val = df_full_train.iloc[val_idx]\n",
    "\n",
    "        dv, model, X_train, X_val = DT_train(df_train, df_val, features, max_d)\n",
    "        y_pred_train, y_pred_val = DT_predict(X_train, X_val, model)\n",
    "\n",
    "        y_train = df_train.transported.values\n",
    "        y_val = df_val.transported.values\n",
    "        scores_train.append(round(roc_auc_score(y_train, y_pred_train),4))\n",
    "        scores_val.append(round(roc_auc_score(y_val, y_pred_val),4))\n",
    "\n",
    "        # Calculates and prints metrics\n",
    "        print(f'Fold {fold} ROC_AUC train: {round(roc_auc_score(y_train, y_pred_train),4)} ROC_AUC val: {round(roc_auc_score(y_val, y_pred_val),4)}...')\n",
    "        fold = fold + 1\n",
    "\n",
    "    print('Validation results:')\n",
    "    print('ROC_AUC_train: %.3f +- %.3f' % (np.mean(scores_train), np.std(scores_train))) \n",
    "    print('ROC_AUC_val: %.3f +- %.3f' % (np.mean(scores_val), np.std(scores_val))) \n",
    "\n",
    "    #Final model\n",
    "    print(\"Final model...\")\n",
    "    dv, model, X_train, X_test = DT_train(df_full_train, df_test, features, max_d)\n",
    "    y_pred_train, y_pred_test = DT_predict(X_train, X_test, model)\n",
    "\n",
    "    y_train = df_full_train.transported.values\n",
    "    y_test = df_test.transported.values\n",
    "   \n",
    "    print('ROC_AUC train: ',round(roc_auc_score(y_train, y_pred_train),4), ' ROC_AUC test: ',round(roc_auc_score(y_test, y_pred_test),4))\n",
    " \n",
    "    # Feature importances\n",
    "    features = dv.get_feature_names_out()\n",
    "    if print_ft_tree:\n",
    "      print('Feature importances')\n",
    "      for n,value in enumerate(features):\n",
    "        print(features[n],': ',model.feature_importances_[n])\n",
    "    \"\"\"\n",
    "    if print_ft_tree:\n",
    "      # Tree\n",
    "      print('DecisionTree')\n",
    "      print(export_text(model, feature_names=features))\n",
    "    \"\"\"\n",
    "    return(round(roc_auc_score(y_test, y_pred_test),4), model)"
   ]
  },
  {
   "cell_type": "code",
   "execution_count": 28,
   "metadata": {},
   "outputs": [
    {
     "name": "stdout",
     "output_type": "stream",
     "text": [
      "Doing validation with 5 splits\n",
      "Fold 0 ROC_AUC train: 0.963 ROC_AUC val: 0.75...\n",
      "Fold 1 ROC_AUC train: 0.9278 ROC_AUC val: 0.7767...\n",
      "Fold 2 ROC_AUC train: 0.952 ROC_AUC val: 0.7003...\n",
      "Fold 3 ROC_AUC train: 0.9517 ROC_AUC val: 0.6661...\n",
      "Fold 4 ROC_AUC train: 0.9353 ROC_AUC val: 0.6831...\n",
      "Validation results:\n",
      "ROC_AUC_train: 0.946 +- 0.013\n",
      "ROC_AUC_val: 0.715 +- 0.042\n",
      "Final model...\n",
      "ROC_AUC train:  0.9374  ROC_AUC test:  0.7925\n",
      "Feature importances\n",
      "age :  0.10359886653810446\n",
      "cryosleep :  0.27276071937755547\n",
      "deck=a :  0.0\n",
      "deck=b :  0.005906387447206114\n",
      "deck=c :  0.0048121436337616565\n",
      "deck=d :  0.004929151743046717\n",
      "deck=e :  0.0034658098193297245\n",
      "deck=f :  0.00369686380728504\n",
      "deck=g :  0.051370093926853364\n",
      "destination=55_cancri_e :  0.0\n",
      "destination=pso_j318.5-22 :  0.009189574517914315\n",
      "destination=trappist-1e :  0.02535992558709547\n",
      "foodcourt :  0.10945354792792329\n",
      "groupsize :  0.02548784572075019\n",
      "homeplanet=earth :  0.0010397429457989168\n",
      "homeplanet=europa :  0.01964315718883575\n",
      "homeplanet=mars :  0.0\n",
      "roomservice :  0.11729434570312323\n",
      "shoppingmall :  0.05995667031066397\n",
      "side=p :  0.0\n",
      "side=s :  0.016876649271492433\n",
      "spa :  0.07422548359394474\n",
      "vip :  0.0\n",
      "vrdeck :  0.09093302093931528\n"
     ]
    },
    {
     "data": {
      "text/plain": [
       "(0.7925, DecisionTreeClassifier(max_depth=10, random_state=1))"
      ]
     },
     "execution_count": 28,
     "metadata": {},
     "output_type": "execute_result"
    }
   ],
   "source": [
    "features = ['homeplanet', 'cryosleep', 'destination', 'age',\n",
    "            'vip', 'roomservice', 'foodcourt', 'shoppingmall', 'spa', 'vrdeck', 'groupsize', 'deck', 'side']\n",
    "DT_calculate(features, 10, True)"
   ]
  },
  {
   "cell_type": "markdown",
   "metadata": {},
   "source": [
    "### Findings about Decission Tree model\n",
    "1. ROC_AUC = 0.7925. It gets a worse result than the logistic regression model\n",
    "2. The most important features are cryosleep, luxury amenities, age, and deck=g"
   ]
  },
  {
   "cell_type": "markdown",
   "metadata": {},
   "source": [
    "## Random Forest"
   ]
  },
  {
   "cell_type": "code",
   "execution_count": 29,
   "metadata": {},
   "outputs": [],
   "source": [
    "from sklearn.ensemble import RandomForestRegressor"
   ]
  },
  {
   "cell_type": "code",
   "execution_count": 30,
   "metadata": {},
   "outputs": [],
   "source": [
    "# Functions to calculate Random Forest model\n",
    "def RF_train(df_train, df_val, features, n_est, max_d):\n",
    "    # OHE\n",
    "    dv = DictVectorizer(sparse=False)\n",
    "    train_dict = df_train[features].to_dict(orient='records')\n",
    "    X_train = dv.fit_transform(train_dict)\n",
    "    val_dict = df_val[features].to_dict(orient='records')\n",
    "    X_val = dv.transform(val_dict)\n",
    "\n",
    "    y_train = df_train.transported.values\n",
    "\n",
    "    model = RandomForestRegressor(n_estimators=n_est, max_depth=max_d, random_state=1, n_jobs=-1)\n",
    "    model.fit(X_train, y_train)\n",
    "\n",
    "    return(dv,model,X_train,X_val)\n",
    "  \n",
    "def RF_predict(X_train, X_val, model):\n",
    "    y_pred_train = model.predict(X_train)\n",
    "    y_pred_val = model.predict(X_val)\n",
    "\n",
    "    return(y_pred_train, y_pred_val)\n",
    "\n",
    "def RF_calculate(features, n_est=100, max_d=None, print_ft=False, print_kfold=True, n_splits=5):\n",
    "    # Cross-Validating\n",
    "    if print_kfold: print('Doing validation with %s splits' % n_splits)\n",
    "    kfold = KFold(n_splits=n_splits, shuffle=True, random_state=1)\n",
    "    scores_train = []\n",
    "    scores_val = []\n",
    "    fold = 0\n",
    "    dv = 0\n",
    "\n",
    "    for train_idx, val_idx in kfold.split(df_full_train):\n",
    "        df_train = df_full_train.iloc[train_idx]\n",
    "        df_val = df_full_train.iloc[val_idx]\n",
    "\n",
    "        dv, model, X_train, X_val = RF_train(df_train, df_val, features, n_est, max_d)\n",
    "        y_pred_train, y_pred_val = RF_predict(X_train, X_val, model)\n",
    "\n",
    "        y_train = df_train.transported.values\n",
    "        y_val = df_val.transported.values\n",
    "        scores_train.append(round(roc_auc_score(y_train, y_pred_train),4))\n",
    "        scores_val.append(round(roc_auc_score(y_val, y_pred_val),4))\n",
    "\n",
    "        # Calculates and prints metrics\n",
    "        if print_kfold: print(f'Fold {fold} ROC_AUC train: {round(roc_auc_score(y_train, y_pred_train),4)} ROC_AUC val: {round(roc_auc_score(y_val, y_pred_val),4)}...')\n",
    "        fold = fold + 1\n",
    "\n",
    "    if print_kfold: print('Validation results:')\n",
    "    if print_kfold: print('ROC_AUC_train: %.3f +- %.3f' % (np.mean(scores_train), np.std(scores_train))) \n",
    "    if print_kfold: print('ROC_AUC_val: %.3f +- %.3f' % (np.mean(scores_val), np.std(scores_val))) \n",
    "\n",
    "    #Final model\n",
    "    print(\"Final model...\")\n",
    "    dv, model, X_train, X_test = RF_train(df_full_train, df_test, features, n_est, max_d)\n",
    "    y_pred_train, y_pred_test = RF_predict(X_train, X_test, model)\n",
    "\n",
    "    y_train = df_full_train.transported.values\n",
    "    y_test = df_test.transported.values\n",
    "   \n",
    "    print('ROC_AUC train: ',round(roc_auc_score(y_train, y_pred_train),4), ' ROC_AUC test: ',round(roc_auc_score(y_test, y_pred_test),4))\n",
    " \n",
    "    # Feature importances\n",
    "    features = dv.get_feature_names_out()\n",
    "    if print_ft:\n",
    "      print('Feature importances')\n",
    "      for n,value in enumerate(features):\n",
    "        print(features[n],': ',model.feature_importances_[n])\n",
    "      \n",
    "    return(round(roc_auc_score(y_train, y_pred_train),4), round(roc_auc_score(y_test, y_pred_test),4), model)"
   ]
  },
  {
   "cell_type": "code",
   "execution_count": 31,
   "metadata": {},
   "outputs": [
    {
     "name": "stdout",
     "output_type": "stream",
     "text": [
      "Doing validation with 5 splits\n",
      "Fold 0 ROC_AUC train: 0.9997 ROC_AUC val: 0.8398...\n",
      "Fold 1 ROC_AUC train: 0.9997 ROC_AUC val: 0.8948...\n",
      "Fold 2 ROC_AUC train: 0.9999 ROC_AUC val: 0.8567...\n",
      "Fold 3 ROC_AUC train: 1.0 ROC_AUC val: 0.7543...\n",
      "Fold 4 ROC_AUC train: 0.9999 ROC_AUC val: 0.8529...\n",
      "Validation results:\n",
      "ROC_AUC_train: 1.000 +- 0.000\n",
      "ROC_AUC_val: 0.840 +- 0.046\n",
      "Final model...\n",
      "ROC_AUC train:  0.9999  ROC_AUC test:  0.9\n",
      "Feature importances\n",
      "age :  0.1524146362826277\n",
      "cryosleep :  0.23472778398897154\n",
      "deck=a :  0.001884380412978413\n",
      "deck=b :  0.0044040720442726855\n",
      "deck=c :  0.004543305838986941\n",
      "deck=d :  0.0015846516521583697\n",
      "deck=e :  0.006765809607569554\n",
      "deck=f :  0.00973552777193563\n",
      "deck=g :  0.038606175978401804\n",
      "destination=55_cancri_e :  0.009786498554172577\n",
      "destination=pso_j318.5-22 :  0.009803789973427735\n",
      "destination=trappist-1e :  0.01347630406229872\n",
      "foodcourt :  0.09786766496732424\n",
      "groupsize :  0.040704011415642456\n",
      "homeplanet=earth :  0.013329149732689739\n",
      "homeplanet=europa :  0.005889100328317854\n",
      "homeplanet=mars :  0.0019529305281528655\n",
      "roomservice :  0.08721472725632687\n",
      "shoppingmall :  0.07245110331852678\n",
      "side=p :  0.015365851413552293\n",
      "side=s :  0.015808782231403133\n",
      "spa :  0.07924505428235934\n",
      "vip :  0.0017282002363457304\n",
      "vrdeck :  0.08071048812155714\n"
     ]
    },
    {
     "data": {
      "text/plain": [
       "(0.9999, 0.9, RandomForestRegressor(max_depth=15, n_jobs=-1, random_state=1))"
      ]
     },
     "execution_count": 31,
     "metadata": {},
     "output_type": "execute_result"
    }
   ],
   "source": [
    "features = ['homeplanet', 'cryosleep', 'destination', 'age',\n",
    "            'vip', 'roomservice', 'foodcourt', 'shoppingmall', 'spa', 'vrdeck', 'groupsize', 'deck', 'side']\n",
    "RF_calculate(features, 100, 15, True, True)"
   ]
  },
  {
   "cell_type": "markdown",
   "metadata": {},
   "source": [
    "### Findings about Random Forest model\n",
    "1. ROC_AUC = 0.9000. Slightly improves previous models\n",
    "2. The most important features are cryosleep, age and luxury amenities"
   ]
  },
  {
   "cell_type": "markdown",
   "metadata": {},
   "source": [
    "## XGBoost"
   ]
  },
  {
   "cell_type": "code",
   "execution_count": 32,
   "metadata": {},
   "outputs": [],
   "source": [
    "from sklearn.feature_extraction import DictVectorizer\n",
    "import xgboost as xgb\n",
    "from sklearn.model_selection import KFold\n",
    "from sklearn.metrics import roc_auc_score"
   ]
  },
  {
   "cell_type": "code",
   "execution_count": 33,
   "metadata": {},
   "outputs": [],
   "source": [
    "features = ['homeplanet', 'cryosleep', 'destination', 'age',\n",
    "            'vip', 'roomservice', 'foodcourt', 'shoppingmall', 'spa', 'vrdeck', 'groupsize', 'deck', 'side']\n",
    "            \n",
    "train_dicts = df_full_train[features].to_dict(orient='records')\n",
    "val_dicts = df_test[features].to_dict(orient='records')\n",
    "dv = DictVectorizer(sparse=False) # OHE\n",
    "X_train = dv.fit_transform(train_dicts)\n",
    "X_val = dv.transform(val_dicts)\n",
    "\n",
    "y_train = df_full_train.transported.values\n",
    "y_val = df_test.transported.values\n",
    "\n",
    "features = dv.get_feature_names_out()\n",
    "dtrain = xgb.DMatrix(X_train, label=y_train, feature_names=features)\n",
    "dval = xgb.DMatrix(X_val, label=y_val, feature_names=features)"
   ]
  },
  {
   "cell_type": "code",
   "execution_count": 34,
   "metadata": {},
   "outputs": [],
   "source": [
    "def parse_xgb_output(output):\n",
    "    results = []\n",
    "\n",
    "    for line in output.stdout.strip().split('\\n'):\n",
    "        it_line, train_line, val_line = line.split('\\t')\n",
    "\n",
    "        it = int(it_line.strip('[]'))\n",
    "        train = float(train_line.split(':')[1])\n",
    "        val = float(val_line.split(':')[1])\n",
    "\n",
    "        results.append((it, train, val))\n",
    "    \n",
    "    columns = ['num_iter', 'train_auc', 'val_auc']\n",
    "    df_results = pd.DataFrame(results, columns=columns)\n",
    "    return df_results"
   ]
  },
  {
   "cell_type": "code",
   "execution_count": 39,
   "metadata": {},
   "outputs": [],
   "source": [
    "%%capture output\n",
    "\n",
    "score = []\n",
    "for eta in [0.001, 0.01, 0.05, 0.1, 0.2, 0.3, 0.5]:\n",
    "  for md in [2, 4, 6, 8, 10, 15]:\n",
    "    xgb_params = {'eta': eta, 'max_depth': md, 'min_child_weight': 1, 'objective': 'binary:logistic', 'eval_metric': 'auc', 'nthread': 8, 'seed': 1, 'verbosity': 1}   \n",
    "    watchlist = [(dtrain, 'train'), (dval, 'val')]\n",
    "    model = xgb.train(xgb_params, dtrain, num_boost_round=200, verbose_eval=5, evals=watchlist)\n",
    "    for ni in range(0,201,5):\n",
    "      score.append((eta, md))\n",
    "\n",
    "df_score = pd.DataFrame(score, columns=['eta', 'max_depth'])\n",
    "df_parse = parse_xgb_output(output)\n",
    "df_score = pd.concat([df_score, df_parse], axis=1)"
   ]
  },
  {
   "cell_type": "code",
   "execution_count": 40,
   "metadata": {},
   "outputs": [
    {
     "data": {
      "text/html": [
       "<div>\n",
       "<style scoped>\n",
       "    .dataframe tbody tr th:only-of-type {\n",
       "        vertical-align: middle;\n",
       "    }\n",
       "\n",
       "    .dataframe tbody tr th {\n",
       "        vertical-align: top;\n",
       "    }\n",
       "\n",
       "    .dataframe thead th {\n",
       "        text-align: right;\n",
       "    }\n",
       "</style>\n",
       "<table border=\"1\" class=\"dataframe\">\n",
       "  <thead>\n",
       "    <tr style=\"text-align: right;\">\n",
       "      <th></th>\n",
       "      <th>eta</th>\n",
       "      <th>max_depth</th>\n",
       "      <th>num_iter</th>\n",
       "      <th>train_auc</th>\n",
       "      <th>val_auc</th>\n",
       "    </tr>\n",
       "  </thead>\n",
       "  <tbody>\n",
       "    <tr>\n",
       "      <th>count</th>\n",
       "      <td>1722.000000</td>\n",
       "      <td>1722.000000</td>\n",
       "      <td>1722.000000</td>\n",
       "      <td>1722.000000</td>\n",
       "      <td>1722.000000</td>\n",
       "    </tr>\n",
       "    <tr>\n",
       "      <th>mean</th>\n",
       "      <td>0.165857</td>\n",
       "      <td>7.500000</td>\n",
       "      <td>99.975610</td>\n",
       "      <td>0.961880</td>\n",
       "      <td>0.883958</td>\n",
       "    </tr>\n",
       "    <tr>\n",
       "      <th>std</th>\n",
       "      <td>0.169097</td>\n",
       "      <td>4.234038</td>\n",
       "      <td>59.136931</td>\n",
       "      <td>0.044984</td>\n",
       "      <td>0.018686</td>\n",
       "    </tr>\n",
       "    <tr>\n",
       "      <th>min</th>\n",
       "      <td>0.001000</td>\n",
       "      <td>2.000000</td>\n",
       "      <td>0.000000</td>\n",
       "      <td>0.790890</td>\n",
       "      <td>0.784460</td>\n",
       "    </tr>\n",
       "    <tr>\n",
       "      <th>25%</th>\n",
       "      <td>0.010000</td>\n",
       "      <td>4.000000</td>\n",
       "      <td>50.000000</td>\n",
       "      <td>0.937915</td>\n",
       "      <td>0.873930</td>\n",
       "    </tr>\n",
       "    <tr>\n",
       "      <th>50%</th>\n",
       "      <td>0.100000</td>\n",
       "      <td>7.000000</td>\n",
       "      <td>100.000000</td>\n",
       "      <td>0.979185</td>\n",
       "      <td>0.885185</td>\n",
       "    </tr>\n",
       "    <tr>\n",
       "      <th>75%</th>\n",
       "      <td>0.300000</td>\n",
       "      <td>10.000000</td>\n",
       "      <td>150.000000</td>\n",
       "      <td>0.998865</td>\n",
       "      <td>0.898320</td>\n",
       "    </tr>\n",
       "    <tr>\n",
       "      <th>max</th>\n",
       "      <td>0.500000</td>\n",
       "      <td>15.000000</td>\n",
       "      <td>199.000000</td>\n",
       "      <td>0.999930</td>\n",
       "      <td>0.919140</td>\n",
       "    </tr>\n",
       "  </tbody>\n",
       "</table>\n",
       "</div>"
      ],
      "text/plain": [
       "               eta    max_depth     num_iter    train_auc      val_auc\n",
       "count  1722.000000  1722.000000  1722.000000  1722.000000  1722.000000\n",
       "mean      0.165857     7.500000    99.975610     0.961880     0.883958\n",
       "std       0.169097     4.234038    59.136931     0.044984     0.018686\n",
       "min       0.001000     2.000000     0.000000     0.790890     0.784460\n",
       "25%       0.010000     4.000000    50.000000     0.937915     0.873930\n",
       "50%       0.100000     7.000000   100.000000     0.979185     0.885185\n",
       "75%       0.300000    10.000000   150.000000     0.998865     0.898320\n",
       "max       0.500000    15.000000   199.000000     0.999930     0.919140"
      ]
     },
     "execution_count": 40,
     "metadata": {},
     "output_type": "execute_result"
    }
   ],
   "source": [
    "df_score.describe()"
   ]
  },
  {
   "cell_type": "code",
   "execution_count": 41,
   "metadata": {},
   "outputs": [
    {
     "data": {
      "text/html": [
       "<div>\n",
       "<style scoped>\n",
       "    .dataframe tbody tr th:only-of-type {\n",
       "        vertical-align: middle;\n",
       "    }\n",
       "\n",
       "    .dataframe tbody tr th {\n",
       "        vertical-align: top;\n",
       "    }\n",
       "\n",
       "    .dataframe thead th {\n",
       "        text-align: right;\n",
       "    }\n",
       "</style>\n",
       "<table border=\"1\" class=\"dataframe\">\n",
       "  <thead>\n",
       "    <tr style=\"text-align: right;\">\n",
       "      <th></th>\n",
       "      <th>eta</th>\n",
       "      <th>max_depth</th>\n",
       "      <th>num_iter</th>\n",
       "      <th>train_auc</th>\n",
       "      <th>val_auc</th>\n",
       "    </tr>\n",
       "  </thead>\n",
       "  <tbody>\n",
       "    <tr>\n",
       "      <th>1238</th>\n",
       "      <td>0.3</td>\n",
       "      <td>2</td>\n",
       "      <td>40</td>\n",
       "      <td>0.92913</td>\n",
       "      <td>0.91914</td>\n",
       "    </tr>\n",
       "    <tr>\n",
       "      <th>1239</th>\n",
       "      <td>0.3</td>\n",
       "      <td>2</td>\n",
       "      <td>45</td>\n",
       "      <td>0.93457</td>\n",
       "      <td>0.91880</td>\n",
       "    </tr>\n",
       "    <tr>\n",
       "      <th>1241</th>\n",
       "      <td>0.3</td>\n",
       "      <td>2</td>\n",
       "      <td>55</td>\n",
       "      <td>0.93888</td>\n",
       "      <td>0.91854</td>\n",
       "    </tr>\n",
       "    <tr>\n",
       "      <th>1240</th>\n",
       "      <td>0.3</td>\n",
       "      <td>2</td>\n",
       "      <td>50</td>\n",
       "      <td>0.93669</td>\n",
       "      <td>0.91814</td>\n",
       "    </tr>\n",
       "    <tr>\n",
       "      <th>824</th>\n",
       "      <td>0.1</td>\n",
       "      <td>6</td>\n",
       "      <td>20</td>\n",
       "      <td>0.95385</td>\n",
       "      <td>0.91607</td>\n",
       "    </tr>\n",
       "    <tr>\n",
       "      <th>1237</th>\n",
       "      <td>0.3</td>\n",
       "      <td>2</td>\n",
       "      <td>35</td>\n",
       "      <td>0.92619</td>\n",
       "      <td>0.91526</td>\n",
       "    </tr>\n",
       "    <tr>\n",
       "      <th>1031</th>\n",
       "      <td>0.2</td>\n",
       "      <td>4</td>\n",
       "      <td>30</td>\n",
       "      <td>0.95602</td>\n",
       "      <td>0.91446</td>\n",
       "    </tr>\n",
       "    <tr>\n",
       "      <th>823</th>\n",
       "      <td>0.1</td>\n",
       "      <td>6</td>\n",
       "      <td>15</td>\n",
       "      <td>0.94653</td>\n",
       "      <td>0.91406</td>\n",
       "    </tr>\n",
       "    <tr>\n",
       "      <th>1242</th>\n",
       "      <td>0.3</td>\n",
       "      <td>2</td>\n",
       "      <td>60</td>\n",
       "      <td>0.94149</td>\n",
       "      <td>0.91400</td>\n",
       "    </tr>\n",
       "    <tr>\n",
       "      <th>825</th>\n",
       "      <td>0.1</td>\n",
       "      <td>6</td>\n",
       "      <td>25</td>\n",
       "      <td>0.96263</td>\n",
       "      <td>0.91306</td>\n",
       "    </tr>\n",
       "  </tbody>\n",
       "</table>\n",
       "</div>"
      ],
      "text/plain": [
       "      eta  max_depth  num_iter  train_auc  val_auc\n",
       "1238  0.3          2        40    0.92913  0.91914\n",
       "1239  0.3          2        45    0.93457  0.91880\n",
       "1241  0.3          2        55    0.93888  0.91854\n",
       "1240  0.3          2        50    0.93669  0.91814\n",
       "824   0.1          6        20    0.95385  0.91607\n",
       "1237  0.3          2        35    0.92619  0.91526\n",
       "1031  0.2          4        30    0.95602  0.91446\n",
       "823   0.1          6        15    0.94653  0.91406\n",
       "1242  0.3          2        60    0.94149  0.91400\n",
       "825   0.1          6        25    0.96263  0.91306"
      ]
     },
     "execution_count": 41,
     "metadata": {},
     "output_type": "execute_result"
    }
   ],
   "source": [
    "df_score[df_score.val_auc >= 0.9].sort_values(\"val_auc\", ascending=False).head(10)"
   ]
  },
  {
   "cell_type": "code",
   "execution_count": 42,
   "metadata": {},
   "outputs": [
    {
     "data": {
      "text/plain": [
       "<matplotlib.legend.Legend at 0x14e5dc75b80>"
      ]
     },
     "execution_count": 42,
     "metadata": {},
     "output_type": "execute_result"
    },
    {
     "data": {
      "image/png": "[encoded data removed]",
      "text/plain": [
       "<Figure size 432x288 with 1 Axes>"
      ]
     },
     "metadata": {
      "needs_background": "light"
     },
     "output_type": "display_data"
    }
   ],
   "source": [
    "df_plot = df_score[df_score.eta == 0.3]\n",
    "df_plot = df_plot[df_plot.max_depth == 2]\n",
    "plt.plot(df_plot.num_iter, df_plot.train_auc, label='0.3_2_train')\n",
    "plt.plot(df_plot.num_iter, df_plot.val_auc, label='0.3_2_val')\n",
    "\n",
    "df_plot = df_score[df_score.eta == 0.1]\n",
    "df_plot = df_plot[df_plot.max_depth == 6]\n",
    "plt.plot(df_plot.num_iter, df_plot.train_auc, label='0.1_6_train')\n",
    "plt.plot(df_plot.num_iter, df_plot.val_auc, label='0.1_6_val')\n",
    "\n",
    "df_plot = df_score[df_score.eta == 0.2]\n",
    "df_plot = df_plot[df_plot.max_depth == 4]\n",
    "plt.plot(df_plot.num_iter, df_plot.train_auc, label='0.2_4_train')\n",
    "plt.plot(df_plot.num_iter, df_plot.val_auc, label='0.2_4_val')\n",
    "\n",
    "plt.legend()"
   ]
  },
  {
   "cell_type": "markdown",
   "metadata": {},
   "source": [
    "### Findings about XGB Forest model\n",
    "It seems that the model with the best performance is (ETA: 0.3 max_depth 2 num_iter= 40) that\n",
    "1. Slightly improves previous models. ROC_AUC = 0.91306\n",
    "2. Has less overfitting"
   ]
  },
  {
   "cell_type": "markdown",
   "metadata": {},
   "source": [
    "### Training and saving the XGB final model"
   ]
  },
  {
   "cell_type": "markdown",
   "metadata": {},
   "source": [
    "Training and Kfold validating"
   ]
  },
  {
   "cell_type": "code",
   "execution_count": 43,
   "metadata": {},
   "outputs": [],
   "source": [
    "# Functions to calculate XGBoost model\n",
    "def XGB_train(df_train, df_val, features, xgb_params, num_rounds):\n",
    "    train_dicts = df_train[features].to_dict(orient='records')\n",
    "    val_dicts = df_val[features].to_dict(orient='records')\n",
    "    dv = DictVectorizer(sparse=False) # OHE\n",
    "    X_train = dv.fit_transform(train_dicts)\n",
    "    X_val = dv.transform(val_dicts)\n",
    "\n",
    "    y_train = df_train.transported.values\n",
    "    y_val = df_val.transported.values\n",
    "    \n",
    "    features = dv.get_feature_names_out()\n",
    "    dtrain = xgb.DMatrix(X_train, label=y_train, feature_names=features)\n",
    "    dval = xgb.DMatrix(X_val, label=y_val, feature_names=features)\n",
    "    model = xgb.train(xgb_params, dtrain, num_boost_round=num_rounds)\n",
    "\n",
    "    return(dv,model,dtrain,dval)\n",
    "  \n",
    "def XGB_predict(dtrain, dval, model):\n",
    "    y_pred_train = model.predict(dtrain)\n",
    "    y_pred_val = model.predict(dval)\n",
    "\n",
    "    return(y_pred_train, y_pred_val)\n",
    "\n",
    "def XGB_calculate(features, xgb_params, num_rounds=100, print_kfold=True, print_summary=True,n_splits=5):\n",
    "    # Cross-Validating\n",
    "    print('ETA: ', xgb_params['eta'], 'max_depth: ', xgb_params['max_depth'], 'num_rounds: ', num_rounds)\n",
    "    if print_kfold: print('Doing validation with %s splits' % n_splits)\n",
    "    kfold = KFold(n_splits=n_splits, shuffle=True, random_state=1)\n",
    "    scores_train = []\n",
    "    scores_val = []\n",
    "    fold = 0\n",
    "\n",
    "    for train_idx, val_idx in kfold.split(df_full_train):\n",
    "        df_train = df_full_train.iloc[train_idx]\n",
    "        df_val = df_full_train.iloc[val_idx]\n",
    "\n",
    "        dv, model, dtrain, dval = XGB_train(df_train, df_val, features, xgb_params, num_rounds)\n",
    "        y_pred_train, y_pred_val = XGB_predict(dtrain, dval, model)\n",
    "\n",
    "        y_train = df_train.transported.values\n",
    "        y_val = df_val.transported.values\n",
    "        scores_train.append(round(roc_auc_score(y_train, y_pred_train),4))\n",
    "        scores_val.append(round(roc_auc_score(y_val, y_pred_val),4))\n",
    "\n",
    "        # Calculates and prints metrics\n",
    "        if print_kfold: print(f'Fold {fold} ROC_AUC train: {round(roc_auc_score(y_train, y_pred_train),4)} ROC_AUC val: {round(roc_auc_score(y_val, y_pred_val),4)}...')\n",
    "        fold = fold + 1\n",
    "\n",
    "    if print_kfold: print('Validation results:')\n",
    "    if print_kfold: print('ROC_AUC train: %.3f +- %.3f' % (np.mean(scores_train), np.std(scores_train))) \n",
    "    if print_kfold: print('ROC_AUC val: %.3f +- %.3f' % (np.mean(scores_val), np.std(scores_val))) \n",
    "\n",
    "    #Final model\n",
    "    if print_summary: print(\"Final model...\")\n",
    "    dv, model, dtrain, dtest = XGB_train(df_full_train, df_test, features, xgb_params, num_rounds)\n",
    "    y_pred_train, y_pred_test = XGB_predict(dtrain, dtest, model)\n",
    "\n",
    "    y_train = df_full_train.transported.values\n",
    "    y_test = df_test.transported.values\n",
    "   \n",
    "    if print_summary: print('ROC_AUC train: ',round(roc_auc_score(y_train, y_pred_train),4), ' ROC_AUC test: ',round(roc_auc_score(y_test, y_pred_test),4))\n",
    "      \n",
    "    return [xgb_params['eta'], xgb_params['max_depth'], num_rounds,\n",
    "          round(roc_auc_score(y_train, y_pred_train),4), round(roc_auc_score(y_test, y_pred_test),4)\n",
    "          ], dv, model"
   ]
  },
  {
   "cell_type": "code",
   "execution_count": 44,
   "metadata": {},
   "outputs": [
    {
     "name": "stdout",
     "output_type": "stream",
     "text": [
      "ETA:  0.3 max_depth:  2 num_rounds:  40\n",
      "Doing validation with 10 splits\n",
      "Fold 0 ROC_AUC train: 0.9361 ROC_AUC val: 0.8256...\n",
      "Fold 1 ROC_AUC train: 0.9292 ROC_AUC val: 0.8685...\n",
      "Fold 2 ROC_AUC train: 0.9264 ROC_AUC val: 0.8791...\n",
      "Fold 3 ROC_AUC train: 0.9317 ROC_AUC val: 0.912...\n",
      "Fold 4 ROC_AUC train: 0.9313 ROC_AUC val: 0.8705...\n",
      "Fold 5 ROC_AUC train: 0.9273 ROC_AUC val: 0.889...\n",
      "Fold 6 ROC_AUC train: 0.9341 ROC_AUC val: 0.7542...\n",
      "Fold 7 ROC_AUC train: 0.9364 ROC_AUC val: 0.7597...\n",
      "Fold 8 ROC_AUC train: 0.9293 ROC_AUC val: 0.8941...\n",
      "Fold 9 ROC_AUC train: 0.9306 ROC_AUC val: 0.8824...\n",
      "Validation results:\n",
      "ROC_AUC train: 0.931 +- 0.003\n",
      "ROC_AUC val: 0.854 +- 0.053\n",
      "Final model...\n",
      "ROC_AUC train:  0.9282  ROC_AUC test:  0.9191\n"
     ]
    }
   ],
   "source": [
    "features = ['homeplanet', 'cryosleep', 'destination', 'age',\n",
    "            'vip', 'roomservice', 'foodcourt', 'shoppingmall', 'spa', 'vrdeck', 'groupsize', 'deck', 'side']    \n",
    "xgb_params = {'eta': 0.3, 'max_depth': 2, 'min_child_weight': 1, 'objective': 'binary:logistic', 'nthread': 8, 'seed': 1, 'verbosity': 1}            \n",
    "sc,dv,model= XGB_calculate(features, xgb_params, 40, True, True, 10)"
   ]
  },
  {
   "cell_type": "code",
   "execution_count": 45,
   "metadata": {},
   "outputs": [
    {
     "data": {
      "text/plain": [
       "{'age': 2.097374439239502,\n",
       " 'cryosleep': 89.73260498046875,\n",
       " 'deck=a': 0.2523479461669922,\n",
       " 'deck=c': 3.0203444957733154,\n",
       " 'deck=g': 17.184673309326172,\n",
       " 'destination=55_cancri_e': 3.0814247131347656,\n",
       " 'destination=trappist-1e': 4.196163177490234,\n",
       " 'foodcourt': 4.963813304901123,\n",
       " 'groupsize': 1.7509393692016602,\n",
       " 'homeplanet=earth': 7.674045562744141,\n",
       " 'homeplanet=europa': 7.540081024169922,\n",
       " 'homeplanet=mars': 4.396103382110596,\n",
       " 'roomservice': 9.765000343322754,\n",
       " 'shoppingmall': 4.670716285705566,\n",
       " 'side=p': 3.6510543823242188,\n",
       " 'spa': 7.467918872833252,\n",
       " 'vrdeck': 5.533143997192383}"
      ]
     },
     "execution_count": 45,
     "metadata": {},
     "output_type": "execute_result"
    }
   ],
   "source": [
    "model.get_score(importance_type='gain')"
   ]
  },
  {
   "cell_type": "markdown",
   "metadata": {},
   "source": [
    "Previous findings regarding the importance of features cryosleep and deck=g are confirmed."
   ]
  },
  {
   "cell_type": "markdown",
   "metadata": {},
   "source": [
    "Saving the model using pickle"
   ]
  },
  {
   "cell_type": "code",
   "execution_count": 46,
   "metadata": {},
   "outputs": [],
   "source": [
    "import pickle\n",
    "\n",
    "with open('XGB_model.bin', 'wb') as f_out: \n",
    "    pickle.dump((dv, model), f_out)"
   ]
  },
  {
   "cell_type": "markdown",
   "metadata": {},
   "source": [
    "# Summary\n",
    "In this notebook I have:\n",
    "1. Done an analysis on the original dataset and verified that the dataset is in good condition but has many missing values\n",
    "2. Prepared the dataset and created 2 new variables extracting data from Cabin and PassengerId\n",
    "3. Compared the ROC_AUC of all model types studied in the course\n",
    "4. Chosen and tuned a XGBBoost model that is slightly better than the rest"
   ]
  },
  {
   "cell_type": "code",
   "execution_count": 47,
   "metadata": {},
   "outputs": [
    {
     "data": {
      "text/plain": [
       "array([0.88201535], dtype=float32)"
      ]
     },
     "execution_count": 47,
     "metadata": {},
     "output_type": "execute_result"
    }
   ],
   "source": [
    "model_file = 'XGB_model.bin'\n",
    "with open(model_file, 'rb') as f_in:\n",
    "    dv, model = pickle.load(f_in)\n",
    "\n",
    "passenger = {\n",
    "  \"homeplanet\": \"europa\",\n",
    "  \"cryosleep\": 0,\n",
    "  \"cabin\": \"e/608/s\",\n",
    "  \"destination\": \"55_cancri_e\",\n",
    "  \"age\": 32,\n",
    "  \"vip\": 0,\n",
    "  \"roomservice\": 0,\n",
    "  \"foodcourt\": 0,\n",
    "  \"shoppingmall\": 0,\n",
    "  \"spa\": 0,\n",
    "  \"vrdeck\": 0\n",
    "}\n",
    "\n",
    "X = dv.transform(passenger)\n",
    "features = dv.get_feature_names_out()\n",
    "dX = xgb.DMatrix(X, feature_names=features)\n",
    "y_pred = model.predict(dX)\n",
    "\n",
    "y_pred\n",
    "#passenger\n"
   ]
  },
  {
   "cell_type": "code",
   "execution_count": null,
   "metadata": {},
   "outputs": [],
   "source": []
  }
 ],
 "metadata": {
  "kernelspec": {
   "display_name": "Python 3 (ipykernel)",
   "language": "python",
   "name": "python3"
  },
  "language_info": {
   "codemirror_mode": {
    "name": "ipython",
    "version": 3
   },
   "file_extension": ".py",
   "mimetype": "text/x-python",
   "name": "python",
   "nbconvert_exporter": "python",
   "pygments_lexer": "ipython3",
   "version": "3.9.12"
  },
  "vscode": {
   "interpreter": {
    "hash": "6edbbda2ecb4ef9615421ce494c5ac943b59dcbabeff216561de605d99ec7306"
   }
  }
 },
 "nbformat": 4,
 "nbformat_minor": 2
}
