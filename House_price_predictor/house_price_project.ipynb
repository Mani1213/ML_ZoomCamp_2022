{
 "cells": [
  {
   "cell_type": "code",
   "execution_count": 1,
   "id": "de151148-b1db-4a0d-8d08-3f5787e4f25c",
   "metadata": {},
   "outputs": [],
   "source": [
    "import pandas as pd \n",
    "import numpy as np\n",
    "from matplotlib import pyplot as plt\n",
    "import seaborn as sns \n",
    "%matplotlib inline\n",
    "import unidecode\n",
    "import warnings\n",
    "warnings.filterwarnings('ignore')\n",
    "from sklearn.model_selection import train_test_split\n",
    "from sklearn.feature_extraction import DictVectorizer"
   ]
  },
  {
   "cell_type": "markdown",
   "id": "e46109ef-88f5-4260-8c89-7e0db77705c3",
   "metadata": {},
   "source": [
    "## Data preparation"
   ]
  },
  {
   "cell_type": "code",
   "execution_count": 88,
   "id": "993b2a61-dd86-4ec2-a228-efd3563c35cc",
   "metadata": {},
   "outputs": [],
   "source": [
    "df = pd.read_csv('input/house_prices.csv')"
   ]
  },
  {
   "cell_type": "code",
   "execution_count": 3,
   "id": "b0973f6d-92b5-4966-b6ff-bbd07ee483b4",
   "metadata": {},
   "outputs": [
    {
     "data": {
      "text/html": [
       "<div>\n",
       "<style scoped>\n",
       "    .dataframe tbody tr th:only-of-type {\n",
       "        vertical-align: middle;\n",
       "    }\n",
       "\n",
       "    .dataframe tbody tr th {\n",
       "        vertical-align: top;\n",
       "    }\n",
       "\n",
       "    .dataframe thead th {\n",
       "        text-align: right;\n",
       "    }\n",
       "</style>\n",
       "<table border=\"1\" class=\"dataframe\">\n",
       "  <thead>\n",
       "    <tr style=\"text-align: right;\">\n",
       "      <th></th>\n",
       "      <th>price</th>\n",
       "      <th>house_type</th>\n",
       "      <th>house_type_2</th>\n",
       "      <th>rooms</th>\n",
       "      <th>m2</th>\n",
       "      <th>elevator</th>\n",
       "      <th>garage</th>\n",
       "      <th>neighborhood</th>\n",
       "      <th>district</th>\n",
       "    </tr>\n",
       "  </thead>\n",
       "  <tbody>\n",
       "    <tr>\n",
       "      <th>0</th>\n",
       "      <td>495000</td>\n",
       "      <td>planta 1</td>\n",
       "      <td>exterior</td>\n",
       "      <td>3</td>\n",
       "      <td>118.0</td>\n",
       "      <td>True</td>\n",
       "      <td>True</td>\n",
       "      <td>Chopera</td>\n",
       "      <td>Arganzuela</td>\n",
       "    </tr>\n",
       "    <tr>\n",
       "      <th>1</th>\n",
       "      <td>485000</td>\n",
       "      <td>planta 2</td>\n",
       "      <td>exterior</td>\n",
       "      <td>2</td>\n",
       "      <td>82.0</td>\n",
       "      <td>True</td>\n",
       "      <td>True</td>\n",
       "      <td>Palos de Moguer</td>\n",
       "      <td>Arganzuela</td>\n",
       "    </tr>\n",
       "    <tr>\n",
       "      <th>2</th>\n",
       "      <td>315000</td>\n",
       "      <td>planta 2</td>\n",
       "      <td>exterior</td>\n",
       "      <td>2</td>\n",
       "      <td>72.0</td>\n",
       "      <td>False</td>\n",
       "      <td>False</td>\n",
       "      <td>Legazpi</td>\n",
       "      <td>Arganzuela</td>\n",
       "    </tr>\n",
       "    <tr>\n",
       "      <th>3</th>\n",
       "      <td>585000</td>\n",
       "      <td>planta 4</td>\n",
       "      <td>exterior</td>\n",
       "      <td>2</td>\n",
       "      <td>174.0</td>\n",
       "      <td>True</td>\n",
       "      <td>True</td>\n",
       "      <td>Palos de Moguer</td>\n",
       "      <td>Arganzuela</td>\n",
       "    </tr>\n",
       "    <tr>\n",
       "      <th>4</th>\n",
       "      <td>255000</td>\n",
       "      <td>bajo</td>\n",
       "      <td>exterior</td>\n",
       "      <td>3</td>\n",
       "      <td>75.0</td>\n",
       "      <td>False</td>\n",
       "      <td>False</td>\n",
       "      <td>Acacias</td>\n",
       "      <td>Arganzuela</td>\n",
       "    </tr>\n",
       "  </tbody>\n",
       "</table>\n",
       "</div>"
      ],
      "text/plain": [
       "    price house_type house_type_2  rooms     m2  elevator  garage  \\\n",
       "0  495000   planta 1     exterior      3  118.0      True    True   \n",
       "1  485000   planta 2     exterior      2   82.0      True    True   \n",
       "2  315000   planta 2     exterior      2   72.0     False   False   \n",
       "3  585000   planta 4     exterior      2  174.0      True    True   \n",
       "4  255000       bajo     exterior      3   75.0     False   False   \n",
       "\n",
       "      neighborhood    district  \n",
       "0          Chopera  Arganzuela  \n",
       "1  Palos de Moguer  Arganzuela  \n",
       "2          Legazpi  Arganzuela  \n",
       "3  Palos de Moguer  Arganzuela  \n",
       "4          Acacias  Arganzuela  "
      ]
     },
     "execution_count": 3,
     "metadata": {},
     "output_type": "execute_result"
    }
   ],
   "source": [
    "df.head()"
   ]
  },
  {
   "cell_type": "code",
   "execution_count": 4,
   "id": "801f6968-08c8-4641-b906-0af71daf7f88",
   "metadata": {},
   "outputs": [
    {
     "data": {
      "text/plain": [
       "(15975, 9)"
      ]
     },
     "execution_count": 4,
     "metadata": {},
     "output_type": "execute_result"
    }
   ],
   "source": [
    "df.shape"
   ]
  },
  {
   "cell_type": "code",
   "execution_count": 5,
   "id": "91b53965-27a3-47c2-990d-8638facc9e2d",
   "metadata": {},
   "outputs": [
    {
     "data": {
      "text/plain": [
       "1717"
      ]
     },
     "execution_count": 5,
     "metadata": {},
     "output_type": "execute_result"
    }
   ],
   "source": [
    "df.duplicated().sum()"
   ]
  },
  {
   "cell_type": "code",
   "execution_count": 6,
   "id": "504353b4-012d-4aa6-8ac4-78f6c46e2cf5",
   "metadata": {},
   "outputs": [
    {
     "data": {
      "text/plain": [
       "(14258, 9)"
      ]
     },
     "execution_count": 6,
     "metadata": {},
     "output_type": "execute_result"
    }
   ],
   "source": [
    "df = df.drop_duplicates()\n",
    "df.shape"
   ]
  },
  {
   "cell_type": "code",
   "execution_count": 7,
   "id": "48f44b5e-a86e-4055-b5ee-c06e82553d59",
   "metadata": {},
   "outputs": [
    {
     "data": {
      "text/plain": [
       "price             int64\n",
       "house_type       object\n",
       "house_type_2     object\n",
       "rooms             int64\n",
       "m2              float64\n",
       "elevator           bool\n",
       "garage             bool\n",
       "neighborhood     object\n",
       "district         object\n",
       "dtype: object"
      ]
     },
     "execution_count": 7,
     "metadata": {},
     "output_type": "execute_result"
    }
   ],
   "source": [
    "df.dtypes"
   ]
  },
  {
   "cell_type": "code",
   "execution_count": 8,
   "id": "62fa1aa2-fb5f-422b-ae21-dd55cff350c1",
   "metadata": {},
   "outputs": [],
   "source": [
    "columns_object = list(df.dtypes[df.dtypes == 'object'].index)"
   ]
  },
  {
   "cell_type": "code",
   "execution_count": 9,
   "id": "a09cb1e0-6c07-433d-ad9d-35a9c8895688",
   "metadata": {},
   "outputs": [],
   "source": [
    "for col in columns_object:\n",
    "    df[col] = df[col].astype('category')"
   ]
  },
  {
   "cell_type": "code",
   "execution_count": 10,
   "id": "893cc5ea-aa49-4123-89ae-d11106c142ed",
   "metadata": {},
   "outputs": [
    {
     "data": {
      "text/plain": [
       "price              int64\n",
       "house_type      category\n",
       "house_type_2    category\n",
       "rooms              int64\n",
       "m2               float64\n",
       "elevator            bool\n",
       "garage              bool\n",
       "neighborhood    category\n",
       "district        category\n",
       "dtype: object"
      ]
     },
     "execution_count": 10,
     "metadata": {},
     "output_type": "execute_result"
    }
   ],
   "source": [
    "df.dtypes"
   ]
  },
  {
   "cell_type": "markdown",
   "id": "326ea233-0bdf-4568-b78c-e2eb7d2e71ee",
   "metadata": {},
   "source": [
    "#### Normalizing category variables"
   ]
  },
  {
   "cell_type": "code",
   "execution_count": 11,
   "id": "2986ec82-8756-427e-a9a4-4d6c28c0ca75",
   "metadata": {},
   "outputs": [],
   "source": [
    "columns_category = list(df.dtypes[df.dtypes == 'category'].index)"
   ]
  },
  {
   "cell_type": "code",
   "execution_count": 12,
   "id": "0945a878-3b77-45ec-bb98-945bd61a6961",
   "metadata": {},
   "outputs": [],
   "source": [
    "for idx in columns_category:\n",
    "    df[idx] = (df[idx].apply(lambda x: unidecode.unidecode(x))\n",
    "               .str.lower()\n",
    "               .str.replace(\" \", \"_\"))"
   ]
  },
  {
   "cell_type": "markdown",
   "id": "9b0ff502-75da-4de2-826e-359f070507e5",
   "metadata": {},
   "source": [
    "#### Grouping neighborhood column"
   ]
  },
  {
   "cell_type": "code",
   "execution_count": 13,
   "id": "e2778d61-92d7-48bc-9881-0f521a222560",
   "metadata": {},
   "outputs": [
    {
     "data": {
      "text/plain": [
       "price           2001\n",
       "house_type        26\n",
       "house_type_2       2\n",
       "rooms             18\n",
       "m2               585\n",
       "elevator           2\n",
       "garage             2\n",
       "neighborhood     341\n",
       "district          21\n",
       "dtype: int64"
      ]
     },
     "execution_count": 13,
     "metadata": {},
     "output_type": "execute_result"
    }
   ],
   "source": [
    "df.nunique()"
   ]
  },
  {
   "cell_type": "code",
   "execution_count": 14,
   "id": "52e765af-b798-401c-a107-cc2a5691ac2f",
   "metadata": {},
   "outputs": [],
   "source": [
    "df.neighborhood = (df.neighborhood.str.replace(\"chalet_en_\", \"\")\n",
    "                                    .str.replace(\"chalet_pareado_en_\", \"\")\n",
    "                                    .str.replace(\"chalet_adosado_en_\", \"\")\n",
    "                                    .str.replace(\"duplex_en_\", \"\")\n",
    "                                    .str.replace(\"atico_en_\", \"\")\n",
    "                                    .str.replace(\"casa_o_chalet_independiente_en_\", \"\"))"
   ]
  },
  {
   "cell_type": "code",
   "execution_count": 15,
   "id": "e53dda94-1d47-4043-862c-0cf98d1b3c49",
   "metadata": {},
   "outputs": [
    {
     "data": {
      "text/plain": [
       "price           2001\n",
       "house_type        26\n",
       "house_type_2       2\n",
       "rooms             18\n",
       "m2               585\n",
       "elevator           2\n",
       "garage             2\n",
       "neighborhood     136\n",
       "district          21\n",
       "dtype: int64"
      ]
     },
     "execution_count": 15,
     "metadata": {},
     "output_type": "execute_result"
    }
   ],
   "source": [
    "df.nunique()"
   ]
  },
  {
   "cell_type": "code",
   "execution_count": 16,
   "id": "923f3781-8c07-4f2a-b83b-cbfb1be19330",
   "metadata": {},
   "outputs": [
    {
     "data": {
      "image/png": "[encoded data removed]",
      "text/plain": [
       "<Figure size 432x288 with 1 Axes>"
      ]
     },
     "metadata": {
      "needs_background": "light"
     },
     "output_type": "display_data"
    },
    {
     "data": {
      "image/png": "[encoded data removed]",
      "text/plain": [
       "<Figure size 432x288 with 1 Axes>"
      ]
     },
     "metadata": {
      "needs_background": "light"
     },
     "output_type": "display_data"
    }
   ],
   "source": [
    "for idx in [\"district\", \"neighborhood\"]:\n",
    "    df_plot = df.copy()\n",
    "    \n",
    "    df_plot = (df.groupby(idx)[idx].count()\n",
    "                                    .to_frame()\n",
    "                                    .rename(columns={idx: \"count\"})\n",
    "                                    .reset_index())\n",
    "    sns.barplot(x=df_plot[idx], y=df_plot[\"count\"])\n",
    "    plt.title(f\"Total of houses by {idx}\")\n",
    "    plt.tick_params(axis='x', labelsize=\"small\", labelrotation=90)\n",
    "    plt.locator_params(axis='x', nbins=25)\n",
    "    plt.show()"
   ]
  },
  {
   "cell_type": "markdown",
   "id": "96eb37b4-33ef-4617-8fa7-793c80f4e8da",
   "metadata": {},
   "source": [
    "#### Data cleaning"
   ]
  },
  {
   "cell_type": "code",
   "execution_count": 17,
   "id": "c98e7f12-d42b-41f8-b269-a5c5fadf19b9",
   "metadata": {},
   "outputs": [
    {
     "data": {
      "text/html": [
       "<div>\n",
       "<style scoped>\n",
       "    .dataframe tbody tr th:only-of-type {\n",
       "        vertical-align: middle;\n",
       "    }\n",
       "\n",
       "    .dataframe tbody tr th {\n",
       "        vertical-align: top;\n",
       "    }\n",
       "\n",
       "    .dataframe thead th {\n",
       "        text-align: right;\n",
       "    }\n",
       "</style>\n",
       "<table border=\"1\" class=\"dataframe\">\n",
       "  <thead>\n",
       "    <tr style=\"text-align: right;\">\n",
       "      <th></th>\n",
       "      <th>price</th>\n",
       "      <th>rooms</th>\n",
       "      <th>m2</th>\n",
       "    </tr>\n",
       "  </thead>\n",
       "  <tbody>\n",
       "    <tr>\n",
       "      <th>count</th>\n",
       "      <td>14258.0</td>\n",
       "      <td>14258.0</td>\n",
       "      <td>14258.0</td>\n",
       "    </tr>\n",
       "    <tr>\n",
       "      <th>mean</th>\n",
       "      <td>615402.0</td>\n",
       "      <td>3.0</td>\n",
       "      <td>124.0</td>\n",
       "    </tr>\n",
       "    <tr>\n",
       "      <th>std</th>\n",
       "      <td>780215.0</td>\n",
       "      <td>1.0</td>\n",
       "      <td>103.0</td>\n",
       "    </tr>\n",
       "    <tr>\n",
       "      <th>min</th>\n",
       "      <td>725.0</td>\n",
       "      <td>1.0</td>\n",
       "      <td>1.0</td>\n",
       "    </tr>\n",
       "    <tr>\n",
       "      <th>25%</th>\n",
       "      <td>195000.0</td>\n",
       "      <td>2.0</td>\n",
       "      <td>66.0</td>\n",
       "    </tr>\n",
       "    <tr>\n",
       "      <th>50%</th>\n",
       "      <td>350000.0</td>\n",
       "      <td>3.0</td>\n",
       "      <td>92.0</td>\n",
       "    </tr>\n",
       "    <tr>\n",
       "      <th>75%</th>\n",
       "      <td>710750.0</td>\n",
       "      <td>3.0</td>\n",
       "      <td>140.0</td>\n",
       "    </tr>\n",
       "    <tr>\n",
       "      <th>max</th>\n",
       "      <td>13950000.0</td>\n",
       "      <td>41.0</td>\n",
       "      <td>989.0</td>\n",
       "    </tr>\n",
       "  </tbody>\n",
       "</table>\n",
       "</div>"
      ],
      "text/plain": [
       "            price    rooms       m2\n",
       "count     14258.0  14258.0  14258.0\n",
       "mean     615402.0      3.0    124.0\n",
       "std      780215.0      1.0    103.0\n",
       "min         725.0      1.0      1.0\n",
       "25%      195000.0      2.0     66.0\n",
       "50%      350000.0      3.0     92.0\n",
       "75%      710750.0      3.0    140.0\n",
       "max    13950000.0     41.0    989.0"
      ]
     },
     "execution_count": 17,
     "metadata": {},
     "output_type": "execute_result"
    }
   ],
   "source": [
    "df.describe().round()"
   ]
  },
  {
   "cell_type": "code",
   "execution_count": 18,
   "id": "e5348234-f7a0-4039-9b81-0d6b9d0a0203",
   "metadata": {},
   "outputs": [
    {
     "data": {
      "text/html": [
       "<div>\n",
       "<style scoped>\n",
       "    .dataframe tbody tr th:only-of-type {\n",
       "        vertical-align: middle;\n",
       "    }\n",
       "\n",
       "    .dataframe tbody tr th {\n",
       "        vertical-align: top;\n",
       "    }\n",
       "\n",
       "    .dataframe thead th {\n",
       "        text-align: right;\n",
       "    }\n",
       "</style>\n",
       "<table border=\"1\" class=\"dataframe\">\n",
       "  <thead>\n",
       "    <tr style=\"text-align: right;\">\n",
       "      <th></th>\n",
       "      <th>price</th>\n",
       "      <th>house_type</th>\n",
       "      <th>house_type_2</th>\n",
       "      <th>rooms</th>\n",
       "      <th>m2</th>\n",
       "      <th>elevator</th>\n",
       "      <th>garage</th>\n",
       "      <th>neighborhood</th>\n",
       "      <th>district</th>\n",
       "    </tr>\n",
       "  </thead>\n",
       "  <tbody>\n",
       "    <tr>\n",
       "      <th>10002</th>\n",
       "      <td>725</td>\n",
       "      <td>planta_3</td>\n",
       "      <td>exterior</td>\n",
       "      <td>1</td>\n",
       "      <td>60.0</td>\n",
       "      <td>True</td>\n",
       "      <td>False</td>\n",
       "      <td>los_carmenes</td>\n",
       "      <td>latina</td>\n",
       "    </tr>\n",
       "  </tbody>\n",
       "</table>\n",
       "</div>"
      ],
      "text/plain": [
       "       price house_type house_type_2  rooms    m2  elevator  garage  \\\n",
       "10002    725   planta_3     exterior      1  60.0      True   False   \n",
       "\n",
       "       neighborhood district  \n",
       "10002  los_carmenes   latina  "
      ]
     },
     "execution_count": 18,
     "metadata": {},
     "output_type": "execute_result"
    }
   ],
   "source": [
    "df[df['price'] == 725]"
   ]
  },
  {
   "cell_type": "code",
   "execution_count": 19,
   "id": "6a4fafde-97d1-4eee-a28d-b6cf44f3cb41",
   "metadata": {},
   "outputs": [],
   "source": [
    "df.drop(10002, axis=0, inplace=True)"
   ]
  },
  {
   "cell_type": "code",
   "execution_count": 20,
   "id": "da0f14c9-3852-4b1e-b4a0-f31645c6211a",
   "metadata": {},
   "outputs": [
    {
     "data": {
      "text/plain": [
       "47500"
      ]
     },
     "execution_count": 20,
     "metadata": {},
     "output_type": "execute_result"
    }
   ],
   "source": [
    "df.price.min()"
   ]
  },
  {
   "cell_type": "code",
   "execution_count": 21,
   "id": "a92262f2-c12d-4b75-b8e5-96b2a668f3ac",
   "metadata": {},
   "outputs": [
    {
     "data": {
      "text/html": [
       "<div>\n",
       "<style scoped>\n",
       "    .dataframe tbody tr th:only-of-type {\n",
       "        vertical-align: middle;\n",
       "    }\n",
       "\n",
       "    .dataframe tbody tr th {\n",
       "        vertical-align: top;\n",
       "    }\n",
       "\n",
       "    .dataframe thead th {\n",
       "        text-align: right;\n",
       "    }\n",
       "</style>\n",
       "<table border=\"1\" class=\"dataframe\">\n",
       "  <thead>\n",
       "    <tr style=\"text-align: right;\">\n",
       "      <th></th>\n",
       "      <th>price</th>\n",
       "      <th>house_type</th>\n",
       "      <th>house_type_2</th>\n",
       "      <th>rooms</th>\n",
       "      <th>m2</th>\n",
       "      <th>elevator</th>\n",
       "      <th>garage</th>\n",
       "      <th>neighborhood</th>\n",
       "      <th>district</th>\n",
       "    </tr>\n",
       "  </thead>\n",
       "  <tbody>\n",
       "    <tr>\n",
       "      <th>11951</th>\n",
       "      <td>47500</td>\n",
       "      <td>bajo</td>\n",
       "      <td>exterior</td>\n",
       "      <td>1</td>\n",
       "      <td>24.0</td>\n",
       "      <td>False</td>\n",
       "      <td>False</td>\n",
       "      <td>palomeras_bajas</td>\n",
       "      <td>puente-de-vallecas</td>\n",
       "    </tr>\n",
       "  </tbody>\n",
       "</table>\n",
       "</div>"
      ],
      "text/plain": [
       "       price house_type house_type_2  rooms    m2  elevator  garage  \\\n",
       "11951  47500       bajo     exterior      1  24.0     False   False   \n",
       "\n",
       "          neighborhood            district  \n",
       "11951  palomeras_bajas  puente-de-vallecas  "
      ]
     },
     "execution_count": 21,
     "metadata": {},
     "output_type": "execute_result"
    }
   ],
   "source": [
    "df[df['price'] == 47500]"
   ]
  },
  {
   "cell_type": "code",
   "execution_count": 22,
   "id": "a16c8c22-e5b0-4d93-858b-8f7ccd1b638a",
   "metadata": {},
   "outputs": [
    {
     "data": {
      "text/html": [
       "<div>\n",
       "<style scoped>\n",
       "    .dataframe tbody tr th:only-of-type {\n",
       "        vertical-align: middle;\n",
       "    }\n",
       "\n",
       "    .dataframe tbody tr th {\n",
       "        vertical-align: top;\n",
       "    }\n",
       "\n",
       "    .dataframe thead th {\n",
       "        text-align: right;\n",
       "    }\n",
       "</style>\n",
       "<table border=\"1\" class=\"dataframe\">\n",
       "  <thead>\n",
       "    <tr style=\"text-align: right;\">\n",
       "      <th></th>\n",
       "      <th>price</th>\n",
       "      <th>rooms</th>\n",
       "      <th>m2</th>\n",
       "    </tr>\n",
       "  </thead>\n",
       "  <tbody>\n",
       "    <tr>\n",
       "      <th>count</th>\n",
       "      <td>14257.0</td>\n",
       "      <td>14257.0</td>\n",
       "      <td>14257.0</td>\n",
       "    </tr>\n",
       "    <tr>\n",
       "      <th>mean</th>\n",
       "      <td>615445.0</td>\n",
       "      <td>3.0</td>\n",
       "      <td>124.0</td>\n",
       "    </tr>\n",
       "    <tr>\n",
       "      <th>std</th>\n",
       "      <td>780225.0</td>\n",
       "      <td>1.0</td>\n",
       "      <td>103.0</td>\n",
       "    </tr>\n",
       "    <tr>\n",
       "      <th>min</th>\n",
       "      <td>47500.0</td>\n",
       "      <td>1.0</td>\n",
       "      <td>1.0</td>\n",
       "    </tr>\n",
       "    <tr>\n",
       "      <th>25%</th>\n",
       "      <td>195000.0</td>\n",
       "      <td>2.0</td>\n",
       "      <td>66.0</td>\n",
       "    </tr>\n",
       "    <tr>\n",
       "      <th>50%</th>\n",
       "      <td>350000.0</td>\n",
       "      <td>3.0</td>\n",
       "      <td>92.0</td>\n",
       "    </tr>\n",
       "    <tr>\n",
       "      <th>75%</th>\n",
       "      <td>711000.0</td>\n",
       "      <td>3.0</td>\n",
       "      <td>140.0</td>\n",
       "    </tr>\n",
       "    <tr>\n",
       "      <th>max</th>\n",
       "      <td>13950000.0</td>\n",
       "      <td>41.0</td>\n",
       "      <td>989.0</td>\n",
       "    </tr>\n",
       "  </tbody>\n",
       "</table>\n",
       "</div>"
      ],
      "text/plain": [
       "            price    rooms       m2\n",
       "count     14257.0  14257.0  14257.0\n",
       "mean     615445.0      3.0    124.0\n",
       "std      780225.0      1.0    103.0\n",
       "min       47500.0      1.0      1.0\n",
       "25%      195000.0      2.0     66.0\n",
       "50%      350000.0      3.0     92.0\n",
       "75%      711000.0      3.0    140.0\n",
       "max    13950000.0     41.0    989.0"
      ]
     },
     "execution_count": 22,
     "metadata": {},
     "output_type": "execute_result"
    }
   ],
   "source": [
    "df.describe().round()"
   ]
  },
  {
   "cell_type": "code",
   "execution_count": 23,
   "id": "0dab3c10-baf6-4fd3-90d1-40459e16d288",
   "metadata": {},
   "outputs": [
    {
     "data": {
      "text/html": [
       "<div>\n",
       "<style scoped>\n",
       "    .dataframe tbody tr th:only-of-type {\n",
       "        vertical-align: middle;\n",
       "    }\n",
       "\n",
       "    .dataframe tbody tr th {\n",
       "        vertical-align: top;\n",
       "    }\n",
       "\n",
       "    .dataframe thead th {\n",
       "        text-align: right;\n",
       "    }\n",
       "</style>\n",
       "<table border=\"1\" class=\"dataframe\">\n",
       "  <thead>\n",
       "    <tr style=\"text-align: right;\">\n",
       "      <th></th>\n",
       "      <th>price</th>\n",
       "      <th>house_type</th>\n",
       "      <th>house_type_2</th>\n",
       "      <th>rooms</th>\n",
       "      <th>m2</th>\n",
       "      <th>elevator</th>\n",
       "      <th>garage</th>\n",
       "      <th>neighborhood</th>\n",
       "      <th>district</th>\n",
       "    </tr>\n",
       "  </thead>\n",
       "  <tbody>\n",
       "    <tr>\n",
       "      <th>5827</th>\n",
       "      <td>13950000</td>\n",
       "      <td>chalet</td>\n",
       "      <td>exterior</td>\n",
       "      <td>6</td>\n",
       "      <td>1.116</td>\n",
       "      <td>False</td>\n",
       "      <td>True</td>\n",
       "      <td>el_viso</td>\n",
       "      <td>chamartin</td>\n",
       "    </tr>\n",
       "  </tbody>\n",
       "</table>\n",
       "</div>"
      ],
      "text/plain": [
       "         price house_type house_type_2  rooms     m2  elevator  garage  \\\n",
       "5827  13950000     chalet     exterior      6  1.116     False    True   \n",
       "\n",
       "     neighborhood   district  \n",
       "5827      el_viso  chamartin  "
      ]
     },
     "execution_count": 23,
     "metadata": {},
     "output_type": "execute_result"
    }
   ],
   "source": [
    "df[df['price'] == 13950000]"
   ]
  },
  {
   "cell_type": "code",
   "execution_count": 24,
   "id": "9c76617b-13a4-4ee7-9773-37e2ebf9fadf",
   "metadata": {},
   "outputs": [
    {
     "data": {
      "text/html": [
       "<div>\n",
       "<style scoped>\n",
       "    .dataframe tbody tr th:only-of-type {\n",
       "        vertical-align: middle;\n",
       "    }\n",
       "\n",
       "    .dataframe tbody tr th {\n",
       "        vertical-align: top;\n",
       "    }\n",
       "\n",
       "    .dataframe thead th {\n",
       "        text-align: right;\n",
       "    }\n",
       "</style>\n",
       "<table border=\"1\" class=\"dataframe\">\n",
       "  <thead>\n",
       "    <tr style=\"text-align: right;\">\n",
       "      <th></th>\n",
       "      <th>price</th>\n",
       "      <th>house_type</th>\n",
       "      <th>house_type_2</th>\n",
       "      <th>rooms</th>\n",
       "      <th>m2</th>\n",
       "      <th>elevator</th>\n",
       "      <th>garage</th>\n",
       "      <th>neighborhood</th>\n",
       "      <th>district</th>\n",
       "    </tr>\n",
       "  </thead>\n",
       "  <tbody>\n",
       "    <tr>\n",
       "      <th>779</th>\n",
       "      <td>4999999</td>\n",
       "      <td>bajo</td>\n",
       "      <td>exterior</td>\n",
       "      <td>41</td>\n",
       "      <td>1.76</td>\n",
       "      <td>True</td>\n",
       "      <td>True</td>\n",
       "      <td>timon</td>\n",
       "      <td>barajas</td>\n",
       "    </tr>\n",
       "  </tbody>\n",
       "</table>\n",
       "</div>"
      ],
      "text/plain": [
       "       price house_type house_type_2  rooms    m2  elevator  garage  \\\n",
       "779  4999999       bajo     exterior     41  1.76      True    True   \n",
       "\n",
       "    neighborhood district  \n",
       "779        timon  barajas  "
      ]
     },
     "execution_count": 24,
     "metadata": {},
     "output_type": "execute_result"
    }
   ],
   "source": [
    "df[df['rooms'] == 41]"
   ]
  },
  {
   "cell_type": "code",
   "execution_count": 25,
   "id": "bd68a073-1777-4fcf-bd68-f032a9611416",
   "metadata": {},
   "outputs": [],
   "source": [
    "df.drop(779, axis=0, inplace=True)"
   ]
  },
  {
   "cell_type": "code",
   "execution_count": 26,
   "id": "20940451-c716-4149-8c45-475536e3b920",
   "metadata": {},
   "outputs": [
    {
     "data": {
      "text/html": [
       "<div>\n",
       "<style scoped>\n",
       "    .dataframe tbody tr th:only-of-type {\n",
       "        vertical-align: middle;\n",
       "    }\n",
       "\n",
       "    .dataframe tbody tr th {\n",
       "        vertical-align: top;\n",
       "    }\n",
       "\n",
       "    .dataframe thead th {\n",
       "        text-align: right;\n",
       "    }\n",
       "</style>\n",
       "<table border=\"1\" class=\"dataframe\">\n",
       "  <thead>\n",
       "    <tr style=\"text-align: right;\">\n",
       "      <th></th>\n",
       "      <th>price</th>\n",
       "      <th>rooms</th>\n",
       "      <th>m2</th>\n",
       "    </tr>\n",
       "  </thead>\n",
       "  <tbody>\n",
       "    <tr>\n",
       "      <th>count</th>\n",
       "      <td>14256.0</td>\n",
       "      <td>14256.0</td>\n",
       "      <td>14256.0</td>\n",
       "    </tr>\n",
       "    <tr>\n",
       "      <th>mean</th>\n",
       "      <td>615137.0</td>\n",
       "      <td>3.0</td>\n",
       "      <td>124.0</td>\n",
       "    </tr>\n",
       "    <tr>\n",
       "      <th>std</th>\n",
       "      <td>779388.0</td>\n",
       "      <td>1.0</td>\n",
       "      <td>103.0</td>\n",
       "    </tr>\n",
       "    <tr>\n",
       "      <th>min</th>\n",
       "      <td>47500.0</td>\n",
       "      <td>1.0</td>\n",
       "      <td>1.0</td>\n",
       "    </tr>\n",
       "    <tr>\n",
       "      <th>25%</th>\n",
       "      <td>195000.0</td>\n",
       "      <td>2.0</td>\n",
       "      <td>66.0</td>\n",
       "    </tr>\n",
       "    <tr>\n",
       "      <th>50%</th>\n",
       "      <td>350000.0</td>\n",
       "      <td>3.0</td>\n",
       "      <td>92.0</td>\n",
       "    </tr>\n",
       "    <tr>\n",
       "      <th>75%</th>\n",
       "      <td>710250.0</td>\n",
       "      <td>3.0</td>\n",
       "      <td>140.0</td>\n",
       "    </tr>\n",
       "    <tr>\n",
       "      <th>max</th>\n",
       "      <td>13950000.0</td>\n",
       "      <td>17.0</td>\n",
       "      <td>989.0</td>\n",
       "    </tr>\n",
       "  </tbody>\n",
       "</table>\n",
       "</div>"
      ],
      "text/plain": [
       "            price    rooms       m2\n",
       "count     14256.0  14256.0  14256.0\n",
       "mean     615137.0      3.0    124.0\n",
       "std      779388.0      1.0    103.0\n",
       "min       47500.0      1.0      1.0\n",
       "25%      195000.0      2.0     66.0\n",
       "50%      350000.0      3.0     92.0\n",
       "75%      710250.0      3.0    140.0\n",
       "max    13950000.0     17.0    989.0"
      ]
     },
     "execution_count": 26,
     "metadata": {},
     "output_type": "execute_result"
    }
   ],
   "source": [
    "df.describe().round()"
   ]
  },
  {
   "cell_type": "code",
   "execution_count": 27,
   "id": "93e0dbd5-5c6d-4f08-beb9-1d237e1103a0",
   "metadata": {},
   "outputs": [
    {
     "data": {
      "text/html": [
       "<div>\n",
       "<style scoped>\n",
       "    .dataframe tbody tr th:only-of-type {\n",
       "        vertical-align: middle;\n",
       "    }\n",
       "\n",
       "    .dataframe tbody tr th {\n",
       "        vertical-align: top;\n",
       "    }\n",
       "\n",
       "    .dataframe thead th {\n",
       "        text-align: right;\n",
       "    }\n",
       "</style>\n",
       "<table border=\"1\" class=\"dataframe\">\n",
       "  <thead>\n",
       "    <tr style=\"text-align: right;\">\n",
       "      <th></th>\n",
       "      <th>price</th>\n",
       "      <th>house_type</th>\n",
       "      <th>house_type_2</th>\n",
       "      <th>rooms</th>\n",
       "      <th>m2</th>\n",
       "      <th>elevator</th>\n",
       "      <th>garage</th>\n",
       "      <th>neighborhood</th>\n",
       "      <th>district</th>\n",
       "    </tr>\n",
       "  </thead>\n",
       "  <tbody>\n",
       "    <tr>\n",
       "      <th>4053</th>\n",
       "      <td>2500000</td>\n",
       "      <td>planta_3</td>\n",
       "      <td>exterior</td>\n",
       "      <td>17</td>\n",
       "      <td>400.0</td>\n",
       "      <td>False</td>\n",
       "      <td>False</td>\n",
       "      <td>sol</td>\n",
       "      <td>centro</td>\n",
       "    </tr>\n",
       "  </tbody>\n",
       "</table>\n",
       "</div>"
      ],
      "text/plain": [
       "        price house_type house_type_2  rooms     m2  elevator  garage  \\\n",
       "4053  2500000   planta_3     exterior     17  400.0     False   False   \n",
       "\n",
       "     neighborhood district  \n",
       "4053          sol   centro  "
      ]
     },
     "execution_count": 27,
     "metadata": {},
     "output_type": "execute_result"
    }
   ],
   "source": [
    "df[df['rooms'] == 17]"
   ]
  },
  {
   "cell_type": "markdown",
   "id": "8ff32245-6f1c-41c4-af54-1c22f08f9d23",
   "metadata": {},
   "source": [
    "Error capturing the m2 because the \".\""
   ]
  },
  {
   "cell_type": "code",
   "execution_count": 28,
   "id": "af773e0d-bf07-46be-aa04-295b62492ea5",
   "metadata": {},
   "outputs": [
    {
     "data": {
      "text/html": [
       "<div>\n",
       "<style scoped>\n",
       "    .dataframe tbody tr th:only-of-type {\n",
       "        vertical-align: middle;\n",
       "    }\n",
       "\n",
       "    .dataframe tbody tr th {\n",
       "        vertical-align: top;\n",
       "    }\n",
       "\n",
       "    .dataframe thead th {\n",
       "        text-align: right;\n",
       "    }\n",
       "</style>\n",
       "<table border=\"1\" class=\"dataframe\">\n",
       "  <thead>\n",
       "    <tr style=\"text-align: right;\">\n",
       "      <th></th>\n",
       "      <th>price</th>\n",
       "      <th>house_type</th>\n",
       "      <th>house_type_2</th>\n",
       "      <th>rooms</th>\n",
       "      <th>m2</th>\n",
       "      <th>elevator</th>\n",
       "      <th>garage</th>\n",
       "      <th>neighborhood</th>\n",
       "      <th>district</th>\n",
       "    </tr>\n",
       "  </thead>\n",
       "  <tbody>\n",
       "    <tr>\n",
       "      <th>10660</th>\n",
       "      <td>3200000</td>\n",
       "      <td>casa</td>\n",
       "      <td>exterior</td>\n",
       "      <td>6</td>\n",
       "      <td>1.000</td>\n",
       "      <td>False</td>\n",
       "      <td>True</td>\n",
       "      <td>aravaca</td>\n",
       "      <td>moncloa</td>\n",
       "    </tr>\n",
       "    <tr>\n",
       "      <th>8780</th>\n",
       "      <td>2750000</td>\n",
       "      <td>chalet</td>\n",
       "      <td>exterior</td>\n",
       "      <td>7</td>\n",
       "      <td>1.000</td>\n",
       "      <td>False</td>\n",
       "      <td>True</td>\n",
       "      <td>fuentelarreina</td>\n",
       "      <td>fuencarral</td>\n",
       "    </tr>\n",
       "    <tr>\n",
       "      <th>8444</th>\n",
       "      <td>4900000</td>\n",
       "      <td>casa</td>\n",
       "      <td>exterior</td>\n",
       "      <td>9</td>\n",
       "      <td>1.000</td>\n",
       "      <td>False</td>\n",
       "      <td>True</td>\n",
       "      <td>fuentelarreina</td>\n",
       "      <td>fuencarral</td>\n",
       "    </tr>\n",
       "    <tr>\n",
       "      <th>10497</th>\n",
       "      <td>3200000</td>\n",
       "      <td>chalet</td>\n",
       "      <td>exterior</td>\n",
       "      <td>6</td>\n",
       "      <td>1.000</td>\n",
       "      <td>False</td>\n",
       "      <td>True</td>\n",
       "      <td>aravaca</td>\n",
       "      <td>moncloa</td>\n",
       "    </tr>\n",
       "    <tr>\n",
       "      <th>9468</th>\n",
       "      <td>3900000</td>\n",
       "      <td>chalet</td>\n",
       "      <td>exterior</td>\n",
       "      <td>7</td>\n",
       "      <td>1.016</td>\n",
       "      <td>False</td>\n",
       "      <td>True</td>\n",
       "      <td>conde_orgaz-piovera</td>\n",
       "      <td>hortaleza</td>\n",
       "    </tr>\n",
       "  </tbody>\n",
       "</table>\n",
       "</div>"
      ],
      "text/plain": [
       "         price house_type house_type_2  rooms     m2  elevator  garage  \\\n",
       "10660  3200000       casa     exterior      6  1.000     False    True   \n",
       "8780   2750000     chalet     exterior      7  1.000     False    True   \n",
       "8444   4900000       casa     exterior      9  1.000     False    True   \n",
       "10497  3200000     chalet     exterior      6  1.000     False    True   \n",
       "9468   3900000     chalet     exterior      7  1.016     False    True   \n",
       "\n",
       "              neighborhood    district  \n",
       "10660              aravaca     moncloa  \n",
       "8780        fuentelarreina  fuencarral  \n",
       "8444        fuentelarreina  fuencarral  \n",
       "10497              aravaca     moncloa  \n",
       "9468   conde_orgaz-piovera   hortaleza  "
      ]
     },
     "execution_count": 28,
     "metadata": {},
     "output_type": "execute_result"
    }
   ],
   "source": [
    "df.sort_values(by=\"m2\").head()"
   ]
  },
  {
   "cell_type": "code",
   "execution_count": 29,
   "id": "b2f62c56-0ddd-46e5-bd3f-bbd3d82ec6fb",
   "metadata": {},
   "outputs": [],
   "source": [
    "df.m2[df['m2'] < 10] = df.m2[df['m2'] < 10] * 1000"
   ]
  },
  {
   "cell_type": "code",
   "execution_count": 30,
   "id": "35ff45d1-1fe5-4fc9-83e8-54d51e29d3b0",
   "metadata": {},
   "outputs": [
    {
     "data": {
      "text/html": [
       "<div>\n",
       "<style scoped>\n",
       "    .dataframe tbody tr th:only-of-type {\n",
       "        vertical-align: middle;\n",
       "    }\n",
       "\n",
       "    .dataframe tbody tr th {\n",
       "        vertical-align: top;\n",
       "    }\n",
       "\n",
       "    .dataframe thead th {\n",
       "        text-align: right;\n",
       "    }\n",
       "</style>\n",
       "<table border=\"1\" class=\"dataframe\">\n",
       "  <thead>\n",
       "    <tr style=\"text-align: right;\">\n",
       "      <th></th>\n",
       "      <th>price</th>\n",
       "      <th>house_type</th>\n",
       "      <th>house_type_2</th>\n",
       "      <th>rooms</th>\n",
       "      <th>m2</th>\n",
       "      <th>elevator</th>\n",
       "      <th>garage</th>\n",
       "      <th>neighborhood</th>\n",
       "      <th>district</th>\n",
       "    </tr>\n",
       "  </thead>\n",
       "  <tbody>\n",
       "    <tr>\n",
       "      <th>4449</th>\n",
       "      <td>185000</td>\n",
       "      <td>planta_3</td>\n",
       "      <td>NaN</td>\n",
       "      <td>1</td>\n",
       "      <td>20.0</td>\n",
       "      <td>False</td>\n",
       "      <td>False</td>\n",
       "      <td>chueca-justicia</td>\n",
       "      <td>centro</td>\n",
       "    </tr>\n",
       "    <tr>\n",
       "      <th>4055</th>\n",
       "      <td>149900</td>\n",
       "      <td>planta_4</td>\n",
       "      <td>interior</td>\n",
       "      <td>1</td>\n",
       "      <td>20.0</td>\n",
       "      <td>True</td>\n",
       "      <td>False</td>\n",
       "      <td>malasana-universidad</td>\n",
       "      <td>centro</td>\n",
       "    </tr>\n",
       "    <tr>\n",
       "      <th>4354</th>\n",
       "      <td>75000</td>\n",
       "      <td>bajo</td>\n",
       "      <td>interior</td>\n",
       "      <td>1</td>\n",
       "      <td>20.0</td>\n",
       "      <td>False</td>\n",
       "      <td>False</td>\n",
       "      <td>lavapies-embajadores</td>\n",
       "      <td>centro</td>\n",
       "    </tr>\n",
       "    <tr>\n",
       "      <th>11487</th>\n",
       "      <td>86000</td>\n",
       "      <td>planta_2</td>\n",
       "      <td>exterior</td>\n",
       "      <td>1</td>\n",
       "      <td>20.0</td>\n",
       "      <td>False</td>\n",
       "      <td>False</td>\n",
       "      <td>san_diego</td>\n",
       "      <td>puente-de-vallecas</td>\n",
       "    </tr>\n",
       "    <tr>\n",
       "      <th>4430</th>\n",
       "      <td>98000</td>\n",
       "      <td>planta_1</td>\n",
       "      <td>interior</td>\n",
       "      <td>1</td>\n",
       "      <td>20.0</td>\n",
       "      <td>False</td>\n",
       "      <td>False</td>\n",
       "      <td>lavapies-embajadores</td>\n",
       "      <td>centro</td>\n",
       "    </tr>\n",
       "  </tbody>\n",
       "</table>\n",
       "</div>"
      ],
      "text/plain": [
       "        price house_type house_type_2  rooms    m2  elevator  garage  \\\n",
       "4449   185000   planta_3          NaN      1  20.0     False   False   \n",
       "4055   149900   planta_4     interior      1  20.0      True   False   \n",
       "4354    75000       bajo     interior      1  20.0     False   False   \n",
       "11487   86000   planta_2     exterior      1  20.0     False   False   \n",
       "4430    98000   planta_1     interior      1  20.0     False   False   \n",
       "\n",
       "               neighborhood            district  \n",
       "4449        chueca-justicia              centro  \n",
       "4055   malasana-universidad              centro  \n",
       "4354   lavapies-embajadores              centro  \n",
       "11487             san_diego  puente-de-vallecas  \n",
       "4430   lavapies-embajadores              centro  "
      ]
     },
     "execution_count": 30,
     "metadata": {},
     "output_type": "execute_result"
    }
   ],
   "source": [
    "df.sort_values(by=\"m2\").head()"
   ]
  },
  {
   "cell_type": "code",
   "execution_count": 31,
   "id": "c9fb5a55-2cf0-4ec9-a1ad-c99420476460",
   "metadata": {},
   "outputs": [
    {
     "data": {
      "text/html": [
       "<div>\n",
       "<style scoped>\n",
       "    .dataframe tbody tr th:only-of-type {\n",
       "        vertical-align: middle;\n",
       "    }\n",
       "\n",
       "    .dataframe tbody tr th {\n",
       "        vertical-align: top;\n",
       "    }\n",
       "\n",
       "    .dataframe thead th {\n",
       "        text-align: right;\n",
       "    }\n",
       "</style>\n",
       "<table border=\"1\" class=\"dataframe\">\n",
       "  <thead>\n",
       "    <tr style=\"text-align: right;\">\n",
       "      <th></th>\n",
       "      <th>price</th>\n",
       "      <th>house_type</th>\n",
       "      <th>house_type_2</th>\n",
       "      <th>rooms</th>\n",
       "      <th>m2</th>\n",
       "      <th>elevator</th>\n",
       "      <th>garage</th>\n",
       "      <th>neighborhood</th>\n",
       "      <th>district</th>\n",
       "    </tr>\n",
       "  </thead>\n",
       "  <tbody>\n",
       "    <tr>\n",
       "      <th>10389</th>\n",
       "      <td>3500000</td>\n",
       "      <td>chalet</td>\n",
       "      <td>exterior</td>\n",
       "      <td>10</td>\n",
       "      <td>2400.0</td>\n",
       "      <td>False</td>\n",
       "      <td>True</td>\n",
       "      <td>el_plantio</td>\n",
       "      <td>moncloa</td>\n",
       "    </tr>\n",
       "    <tr>\n",
       "      <th>10682</th>\n",
       "      <td>3500000</td>\n",
       "      <td>chalet</td>\n",
       "      <td>exterior</td>\n",
       "      <td>11</td>\n",
       "      <td>2400.0</td>\n",
       "      <td>False</td>\n",
       "      <td>False</td>\n",
       "      <td>el_plantio</td>\n",
       "      <td>moncloa</td>\n",
       "    </tr>\n",
       "  </tbody>\n",
       "</table>\n",
       "</div>"
      ],
      "text/plain": [
       "         price house_type house_type_2  rooms      m2  elevator  garage  \\\n",
       "10389  3500000     chalet     exterior     10  2400.0     False    True   \n",
       "10682  3500000     chalet     exterior     11  2400.0     False   False   \n",
       "\n",
       "      neighborhood district  \n",
       "10389   el_plantio  moncloa  \n",
       "10682   el_plantio  moncloa  "
      ]
     },
     "execution_count": 31,
     "metadata": {},
     "output_type": "execute_result"
    }
   ],
   "source": [
    "df[df['m2'] == 2400]"
   ]
  },
  {
   "cell_type": "markdown",
   "id": "0823fa6a-986c-440d-86d6-20864d7be468",
   "metadata": {},
   "source": [
    "## Exploratory Data Analysis"
   ]
  },
  {
   "cell_type": "code",
   "execution_count": 32,
   "id": "03124dc5-a0c4-4877-957e-a88f82572103",
   "metadata": {},
   "outputs": [
    {
     "data": {
      "text/html": [
       "<div>\n",
       "<style scoped>\n",
       "    .dataframe tbody tr th:only-of-type {\n",
       "        vertical-align: middle;\n",
       "    }\n",
       "\n",
       "    .dataframe tbody tr th {\n",
       "        vertical-align: top;\n",
       "    }\n",
       "\n",
       "    .dataframe thead th {\n",
       "        text-align: right;\n",
       "    }\n",
       "</style>\n",
       "<table border=\"1\" class=\"dataframe\">\n",
       "  <thead>\n",
       "    <tr style=\"text-align: right;\">\n",
       "      <th></th>\n",
       "      <th>price</th>\n",
       "      <th>house_type</th>\n",
       "      <th>house_type_2</th>\n",
       "      <th>rooms</th>\n",
       "      <th>m2</th>\n",
       "      <th>elevator</th>\n",
       "      <th>garage</th>\n",
       "      <th>neighborhood</th>\n",
       "      <th>district</th>\n",
       "    </tr>\n",
       "  </thead>\n",
       "  <tbody>\n",
       "    <tr>\n",
       "      <th>0</th>\n",
       "      <td>495000</td>\n",
       "      <td>planta_1</td>\n",
       "      <td>exterior</td>\n",
       "      <td>3</td>\n",
       "      <td>118.0</td>\n",
       "      <td>True</td>\n",
       "      <td>True</td>\n",
       "      <td>chopera</td>\n",
       "      <td>arganzuela</td>\n",
       "    </tr>\n",
       "    <tr>\n",
       "      <th>1</th>\n",
       "      <td>485000</td>\n",
       "      <td>planta_2</td>\n",
       "      <td>exterior</td>\n",
       "      <td>2</td>\n",
       "      <td>82.0</td>\n",
       "      <td>True</td>\n",
       "      <td>True</td>\n",
       "      <td>palos_de_moguer</td>\n",
       "      <td>arganzuela</td>\n",
       "    </tr>\n",
       "    <tr>\n",
       "      <th>2</th>\n",
       "      <td>315000</td>\n",
       "      <td>planta_2</td>\n",
       "      <td>exterior</td>\n",
       "      <td>2</td>\n",
       "      <td>72.0</td>\n",
       "      <td>False</td>\n",
       "      <td>False</td>\n",
       "      <td>legazpi</td>\n",
       "      <td>arganzuela</td>\n",
       "    </tr>\n",
       "    <tr>\n",
       "      <th>3</th>\n",
       "      <td>585000</td>\n",
       "      <td>planta_4</td>\n",
       "      <td>exterior</td>\n",
       "      <td>2</td>\n",
       "      <td>174.0</td>\n",
       "      <td>True</td>\n",
       "      <td>True</td>\n",
       "      <td>palos_de_moguer</td>\n",
       "      <td>arganzuela</td>\n",
       "    </tr>\n",
       "    <tr>\n",
       "      <th>4</th>\n",
       "      <td>255000</td>\n",
       "      <td>bajo</td>\n",
       "      <td>exterior</td>\n",
       "      <td>3</td>\n",
       "      <td>75.0</td>\n",
       "      <td>False</td>\n",
       "      <td>False</td>\n",
       "      <td>acacias</td>\n",
       "      <td>arganzuela</td>\n",
       "    </tr>\n",
       "  </tbody>\n",
       "</table>\n",
       "</div>"
      ],
      "text/plain": [
       "    price house_type house_type_2  rooms     m2  elevator  garage  \\\n",
       "0  495000   planta_1     exterior      3  118.0      True    True   \n",
       "1  485000   planta_2     exterior      2   82.0      True    True   \n",
       "2  315000   planta_2     exterior      2   72.0     False   False   \n",
       "3  585000   planta_4     exterior      2  174.0      True    True   \n",
       "4  255000       bajo     exterior      3   75.0     False   False   \n",
       "\n",
       "      neighborhood    district  \n",
       "0          chopera  arganzuela  \n",
       "1  palos_de_moguer  arganzuela  \n",
       "2          legazpi  arganzuela  \n",
       "3  palos_de_moguer  arganzuela  \n",
       "4          acacias  arganzuela  "
      ]
     },
     "execution_count": 32,
     "metadata": {},
     "output_type": "execute_result"
    }
   ],
   "source": [
    "df.head()"
   ]
  },
  {
   "cell_type": "code",
   "execution_count": 33,
   "id": "33042887-9b6c-4c04-af07-93774b4a1e78",
   "metadata": {},
   "outputs": [
    {
     "data": {
      "text/plain": [
       "(14256, 9)"
      ]
     },
     "execution_count": 33,
     "metadata": {},
     "output_type": "execute_result"
    }
   ],
   "source": [
    "df.shape"
   ]
  },
  {
   "cell_type": "code",
   "execution_count": 34,
   "id": "ce02e958-9517-46ca-b1fe-38b5953e6d04",
   "metadata": {},
   "outputs": [
    {
     "data": {
      "text/plain": [
       "price             0\n",
       "house_type        0\n",
       "house_type_2    463\n",
       "rooms             0\n",
       "m2                0\n",
       "elevator          0\n",
       "garage            0\n",
       "neighborhood      0\n",
       "district          0\n",
       "dtype: int64"
      ]
     },
     "execution_count": 34,
     "metadata": {},
     "output_type": "execute_result"
    }
   ],
   "source": [
    "df.isnull().sum()"
   ]
  },
  {
   "cell_type": "code",
   "execution_count": 35,
   "id": "e6dd2adc-752b-4fd7-ba4e-04bc36853766",
   "metadata": {},
   "outputs": [],
   "source": [
    "df.house_type_2 = df.house_type_2.fillna(\"unknow\")"
   ]
  },
  {
   "cell_type": "code",
   "execution_count": 36,
   "id": "e485298e-0757-4fe3-b6c0-26ef9c443ef9",
   "metadata": {},
   "outputs": [
    {
     "data": {
      "text/plain": [
       "price           False\n",
       "house_type      False\n",
       "house_type_2    False\n",
       "rooms           False\n",
       "m2              False\n",
       "elevator        False\n",
       "garage          False\n",
       "neighborhood    False\n",
       "district        False\n",
       "dtype: bool"
      ]
     },
     "execution_count": 36,
     "metadata": {},
     "output_type": "execute_result"
    }
   ],
   "source": [
    "df.isnull().any()"
   ]
  },
  {
   "cell_type": "markdown",
   "id": "4cbf1046-c59e-474b-92d0-79f7f04bf696",
   "metadata": {},
   "source": [
    "#### Centran tendency measures"
   ]
  },
  {
   "cell_type": "code",
   "execution_count": 37,
   "id": "a7422ab5-dbc4-4016-a581-861734c12077",
   "metadata": {},
   "outputs": [
    {
     "name": "stdout",
     "output_type": "stream",
     "text": [
      "   price -> mean: 615137.4, median: 350000.0, mode:   165000\n",
      "   rooms -> mean:      2.8, median:      3.0, mode:        3\n",
      "      m2 -> mean:    127.8, median:     92.0, mode:     60.0\n"
     ]
    }
   ],
   "source": [
    "for col in ['price', 'rooms', 'm2']:\n",
    "    print(f'{col:>8} -> mean: {round(df[col].mean(),1):>8}, median: {df[col].median():>8}, mode: {df[col].mode()[0]:>8}')"
   ]
  },
  {
   "cell_type": "markdown",
   "id": "eaea9dd9-90b2-4a76-82ed-0af98cfb860b",
   "metadata": {},
   "source": [
    "#### Price distribution"
   ]
  },
  {
   "cell_type": "code",
   "execution_count": 38,
   "id": "e8607e57-97c0-4238-8e69-f0c5e860940a",
   "metadata": {},
   "outputs": [
    {
     "data": {
      "image/png": "[encoded data removed]",
      "text/plain": [
       "<Figure size 432x288 with 1 Axes>"
      ]
     },
     "metadata": {
      "needs_background": "light"
     },
     "output_type": "display_data"
    }
   ],
   "source": [
    "sns.histplot(df.price, bins=30)\n",
    "plt.title('Madrid House Prices')\n",
    "plt.ylabel(\"Total\")\n",
    "plt.xlabel(\"Price\")\n",
    "plt.show()"
   ]
  },
  {
   "cell_type": "markdown",
   "id": "eb3648ad-6c92-4455-b6da-d14ed46e8fb2",
   "metadata": {},
   "source": [
    "As the distribution is a long tail, I will apply a log transformation to see the distribution"
   ]
  },
  {
   "cell_type": "code",
   "execution_count": 39,
   "id": "d59077ef-df2b-486d-bb29-c065b122fc67",
   "metadata": {},
   "outputs": [],
   "source": [
    "log_price = np.log1p(df.price)"
   ]
  },
  {
   "cell_type": "code",
   "execution_count": 40,
   "id": "94bb3a1e-29ab-4c97-909e-c56912403a19",
   "metadata": {},
   "outputs": [
    {
     "data": {
      "image/png": "[encoded data removed]",
      "text/plain": [
       "<Figure size 432x288 with 1 Axes>"
      ]
     },
     "metadata": {
      "needs_background": "light"
     },
     "output_type": "display_data"
    }
   ],
   "source": [
    "sns.histplot(log_price)\n",
    "plt.title('Madrid House Log(price + 1)')\n",
    "plt.ylabel(\"Total\")\n",
    "plt.xlabel(\"Log(Price + 1)\")\n",
    "plt.show()\n"
   ]
  },
  {
   "cell_type": "code",
   "execution_count": 41,
   "id": "17368272-5c6f-498c-b045-603550022fe0",
   "metadata": {},
   "outputs": [
    {
     "data": {
      "image/png": "[encoded data removed]",
      "text/plain": [
       "<Figure size 432x288 with 1 Axes>"
      ]
     },
     "metadata": {
      "needs_background": "light"
     },
     "output_type": "display_data"
    },
    {
     "name": "stdout",
     "output_type": "stream",
     "text": [
      "\n"
     ]
    },
    {
     "data": {
      "image/png": "[encoded data removed]",
      "text/plain": [
       "<Figure size 432x288 with 1 Axes>"
      ]
     },
     "metadata": {
      "needs_background": "light"
     },
     "output_type": "display_data"
    }
   ],
   "source": [
    "sns.histplot(df.m2, bins=30)\n",
    "plt.title('Madrid House m2')\n",
    "plt.ylabel(\"Total\")\n",
    "plt.xlabel(\"m2\")\n",
    "plt.show()\n",
    "print()\n",
    "sns.histplot(df.m2[df.m2 < 500], bins=30)\n",
    "plt.title('Madrid House m2 < 500')\n",
    "plt.ylabel(\"Total\")\n",
    "plt.xlabel(\"m2\")\n",
    "plt.show()"
   ]
  },
  {
   "cell_type": "code",
   "execution_count": 42,
   "id": "60450f21-5f76-4927-b850-2218444382f9",
   "metadata": {},
   "outputs": [
    {
     "data": {
      "text/html": [
       "<div>\n",
       "<style scoped>\n",
       "    .dataframe tbody tr th:only-of-type {\n",
       "        vertical-align: middle;\n",
       "    }\n",
       "\n",
       "    .dataframe tbody tr th {\n",
       "        vertical-align: top;\n",
       "    }\n",
       "\n",
       "    .dataframe thead th {\n",
       "        text-align: right;\n",
       "    }\n",
       "</style>\n",
       "<table border=\"1\" class=\"dataframe\">\n",
       "  <thead>\n",
       "    <tr style=\"text-align: right;\">\n",
       "      <th></th>\n",
       "      <th>price</th>\n",
       "      <th>house_type</th>\n",
       "      <th>house_type_2</th>\n",
       "      <th>rooms</th>\n",
       "      <th>m2</th>\n",
       "      <th>elevator</th>\n",
       "      <th>garage</th>\n",
       "      <th>neighborhood</th>\n",
       "      <th>district</th>\n",
       "    </tr>\n",
       "  </thead>\n",
       "  <tbody>\n",
       "    <tr>\n",
       "      <th>0</th>\n",
       "      <td>495000</td>\n",
       "      <td>planta_1</td>\n",
       "      <td>exterior</td>\n",
       "      <td>3</td>\n",
       "      <td>118.0</td>\n",
       "      <td>True</td>\n",
       "      <td>True</td>\n",
       "      <td>chopera</td>\n",
       "      <td>arganzuela</td>\n",
       "    </tr>\n",
       "    <tr>\n",
       "      <th>1</th>\n",
       "      <td>485000</td>\n",
       "      <td>planta_2</td>\n",
       "      <td>exterior</td>\n",
       "      <td>2</td>\n",
       "      <td>82.0</td>\n",
       "      <td>True</td>\n",
       "      <td>True</td>\n",
       "      <td>palos_de_moguer</td>\n",
       "      <td>arganzuela</td>\n",
       "    </tr>\n",
       "    <tr>\n",
       "      <th>2</th>\n",
       "      <td>315000</td>\n",
       "      <td>planta_2</td>\n",
       "      <td>exterior</td>\n",
       "      <td>2</td>\n",
       "      <td>72.0</td>\n",
       "      <td>False</td>\n",
       "      <td>False</td>\n",
       "      <td>legazpi</td>\n",
       "      <td>arganzuela</td>\n",
       "    </tr>\n",
       "    <tr>\n",
       "      <th>3</th>\n",
       "      <td>585000</td>\n",
       "      <td>planta_4</td>\n",
       "      <td>exterior</td>\n",
       "      <td>2</td>\n",
       "      <td>174.0</td>\n",
       "      <td>True</td>\n",
       "      <td>True</td>\n",
       "      <td>palos_de_moguer</td>\n",
       "      <td>arganzuela</td>\n",
       "    </tr>\n",
       "    <tr>\n",
       "      <th>4</th>\n",
       "      <td>255000</td>\n",
       "      <td>bajo</td>\n",
       "      <td>exterior</td>\n",
       "      <td>3</td>\n",
       "      <td>75.0</td>\n",
       "      <td>False</td>\n",
       "      <td>False</td>\n",
       "      <td>acacias</td>\n",
       "      <td>arganzuela</td>\n",
       "    </tr>\n",
       "  </tbody>\n",
       "</table>\n",
       "</div>"
      ],
      "text/plain": [
       "    price house_type house_type_2  rooms     m2  elevator  garage  \\\n",
       "0  495000   planta_1     exterior      3  118.0      True    True   \n",
       "1  485000   planta_2     exterior      2   82.0      True    True   \n",
       "2  315000   planta_2     exterior      2   72.0     False   False   \n",
       "3  585000   planta_4     exterior      2  174.0      True    True   \n",
       "4  255000       bajo     exterior      3   75.0     False   False   \n",
       "\n",
       "      neighborhood    district  \n",
       "0          chopera  arganzuela  \n",
       "1  palos_de_moguer  arganzuela  \n",
       "2          legazpi  arganzuela  \n",
       "3  palos_de_moguer  arganzuela  \n",
       "4          acacias  arganzuela  "
      ]
     },
     "execution_count": 42,
     "metadata": {},
     "output_type": "execute_result"
    }
   ],
   "source": [
    "df.head()"
   ]
  },
  {
   "cell_type": "code",
   "execution_count": 43,
   "id": "6413c6bf-6f55-48b2-a175-c877d4583921",
   "metadata": {},
   "outputs": [
    {
     "data": {
      "image/png": "[encoded data removed]",
      "text/plain": [
       "<Figure size 432x288 with 1 Axes>"
      ]
     },
     "metadata": {
      "needs_background": "light"
     },
     "output_type": "display_data"
    },
    {
     "name": "stdout",
     "output_type": "stream",
     "text": [
      "\n",
      "\n"
     ]
    },
    {
     "data": {
      "image/png": "[encoded data removed]",
      "text/plain": [
       "<Figure size 432x288 with 1 Axes>"
      ]
     },
     "metadata": {
      "needs_background": "light"
     },
     "output_type": "display_data"
    },
    {
     "name": "stdout",
     "output_type": "stream",
     "text": [
      "\n",
      "\n"
     ]
    },
    {
     "data": {
      "image/png": "[encoded data removed]",
      "text/plain": [
       "<Figure size 432x288 with 1 Axes>"
      ]
     },
     "metadata": {
      "needs_background": "light"
     },
     "output_type": "display_data"
    },
    {
     "name": "stdout",
     "output_type": "stream",
     "text": [
      "\n",
      "\n"
     ]
    },
    {
     "data": {
      "image/png": "[encoded data removed]",
      "text/plain": [
       "<Figure size 432x288 with 1 Axes>"
      ]
     },
     "metadata": {
      "needs_background": "light"
     },
     "output_type": "display_data"
    },
    {
     "name": "stdout",
     "output_type": "stream",
     "text": [
      "\n",
      "\n"
     ]
    },
    {
     "data": {
      "image/png": "[encoded data removed]",
      "text/plain": [
       "<Figure size 432x288 with 1 Axes>"
      ]
     },
     "metadata": {
      "needs_background": "light"
     },
     "output_type": "display_data"
    },
    {
     "name": "stdout",
     "output_type": "stream",
     "text": [
      "\n",
      "\n"
     ]
    }
   ],
   "source": [
    "for idx in [\"house_type\", \"house_type_2\", \"rooms\", \"elevator\", \"garage\"]:\n",
    "    df_fig = df[idx].value_counts().to_frame().reset_index().rename(columns=({idx:\"total\",\"index\":idx}))\n",
    "    sns.barplot(x=df_fig[idx], y=df_fig[\"total\"])\n",
    "    plt.title(f'Madrid houses characteristics: {idx}')\n",
    "    plt.tick_params(axis='x', labelsize=\"small\", labelrotation=90)\n",
    "    plt.show()\n",
    "    print()\n",
    "    print()"
   ]
  },
  {
   "cell_type": "markdown",
   "id": "d45cf1fe-9f8c-44b6-9530-4b5f12cc14f4",
   "metadata": {},
   "source": [
    "#### Feature importance"
   ]
  },
  {
   "cell_type": "code",
   "execution_count": 44,
   "id": "87f32b38-d468-4e24-979b-9fab55bb4fdb",
   "metadata": {},
   "outputs": [],
   "source": [
    "categorical = list(df.columns)\n",
    "categorical.remove(\"price\")\n",
    "categorical.remove(\"m2\")\n",
    "numerical = [\"m2\"]"
   ]
  },
  {
   "cell_type": "code",
   "execution_count": 45,
   "id": "ee6dee3e-a1e8-4f14-8ea0-512fcff4ce15",
   "metadata": {},
   "outputs": [],
   "source": [
    "from sklearn.metrics import mutual_info_score"
   ]
  },
  {
   "cell_type": "code",
   "execution_count": 46,
   "id": "85a9cf34-8db0-413b-9c00-187ff242f606",
   "metadata": {},
   "outputs": [],
   "source": [
    "def calculate_mi(series):\n",
    "    return mutual_info_score(series, np.log1p(df.price))"
   ]
  },
  {
   "cell_type": "code",
   "execution_count": 47,
   "id": "4677c01a-799f-427b-9ed9-ecfd52dc4f1c",
   "metadata": {},
   "outputs": [],
   "source": [
    "df_mi = df[categorical].apply(calculate_mi)\n",
    "df_mi = df_mi.sort_values(ascending=False).to_frame(name=\"mi_price\")"
   ]
  },
  {
   "cell_type": "markdown",
   "id": "8dde820b-5890-48cb-a5d0-eb28aa909331",
   "metadata": {},
   "source": [
    "Higher values of mutual information mean a higher degree of dependence"
   ]
  },
  {
   "cell_type": "code",
   "execution_count": 48,
   "id": "019f3fbf-5fe8-4efa-94c1-2df5efd575f6",
   "metadata": {},
   "outputs": [
    {
     "data": {
      "text/html": [
       "<div>\n",
       "<style scoped>\n",
       "    .dataframe tbody tr th:only-of-type {\n",
       "        vertical-align: middle;\n",
       "    }\n",
       "\n",
       "    .dataframe tbody tr th {\n",
       "        vertical-align: top;\n",
       "    }\n",
       "\n",
       "    .dataframe thead th {\n",
       "        text-align: right;\n",
       "    }\n",
       "</style>\n",
       "<table border=\"1\" class=\"dataframe\">\n",
       "  <thead>\n",
       "    <tr style=\"text-align: right;\">\n",
       "      <th></th>\n",
       "      <th>mi_price</th>\n",
       "    </tr>\n",
       "  </thead>\n",
       "  <tbody>\n",
       "    <tr>\n",
       "      <th>neighborhood</th>\n",
       "      <td>2.230669</td>\n",
       "    </tr>\n",
       "    <tr>\n",
       "      <th>district</th>\n",
       "      <td>1.078787</td>\n",
       "    </tr>\n",
       "    <tr>\n",
       "      <th>house_type</th>\n",
       "      <td>0.680991</td>\n",
       "    </tr>\n",
       "    <tr>\n",
       "      <th>rooms</th>\n",
       "      <td>0.523873</td>\n",
       "    </tr>\n",
       "    <tr>\n",
       "      <th>elevator</th>\n",
       "      <td>0.219474</td>\n",
       "    </tr>\n",
       "    <tr>\n",
       "      <th>garage</th>\n",
       "      <td>0.171235</td>\n",
       "    </tr>\n",
       "    <tr>\n",
       "      <th>house_type_2</th>\n",
       "      <td>0.109986</td>\n",
       "    </tr>\n",
       "  </tbody>\n",
       "</table>\n",
       "</div>"
      ],
      "text/plain": [
       "              mi_price\n",
       "neighborhood  2.230669\n",
       "district      1.078787\n",
       "house_type    0.680991\n",
       "rooms         0.523873\n",
       "elevator      0.219474\n",
       "garage        0.171235\n",
       "house_type_2  0.109986"
      ]
     },
     "execution_count": 48,
     "metadata": {},
     "output_type": "execute_result"
    }
   ],
   "source": [
    "df_mi"
   ]
  },
  {
   "cell_type": "markdown",
   "id": "ad313d46-5484-4bbb-ba7f-8b3a139a70e0",
   "metadata": {},
   "source": [
    "Correlation coefficient tells us the strength of the correleation, the \"m2\" variable has strong correlation with the price"
   ]
  },
  {
   "cell_type": "code",
   "execution_count": 49,
   "id": "8e44398f-4b29-4c20-b037-56382d115721",
   "metadata": {},
   "outputs": [
    {
     "data": {
      "text/html": [
       "<div>\n",
       "<style scoped>\n",
       "    .dataframe tbody tr th:only-of-type {\n",
       "        vertical-align: middle;\n",
       "    }\n",
       "\n",
       "    .dataframe tbody tr th {\n",
       "        vertical-align: top;\n",
       "    }\n",
       "\n",
       "    .dataframe thead th {\n",
       "        text-align: right;\n",
       "    }\n",
       "</style>\n",
       "<table border=\"1\" class=\"dataframe\">\n",
       "  <thead>\n",
       "    <tr style=\"text-align: right;\">\n",
       "      <th></th>\n",
       "      <th>cs_price</th>\n",
       "    </tr>\n",
       "  </thead>\n",
       "  <tbody>\n",
       "    <tr>\n",
       "      <th>m2</th>\n",
       "      <td>0.718595</td>\n",
       "    </tr>\n",
       "  </tbody>\n",
       "</table>\n",
       "</div>"
      ],
      "text/plain": [
       "    cs_price\n",
       "m2  0.718595"
      ]
     },
     "execution_count": 49,
     "metadata": {},
     "output_type": "execute_result"
    }
   ],
   "source": [
    "df[numerical].corrwith(np.log1p(df.price)).to_frame(name=\"cs_price\")"
   ]
  },
  {
   "cell_type": "code",
   "execution_count": 50,
   "id": "3d7ceee6-5dcc-476d-a474-f2036b01436c",
   "metadata": {},
   "outputs": [
    {
     "data": {
      "text/html": [
       "<div>\n",
       "<style scoped>\n",
       "    .dataframe tbody tr th:only-of-type {\n",
       "        vertical-align: middle;\n",
       "    }\n",
       "\n",
       "    .dataframe tbody tr th {\n",
       "        vertical-align: top;\n",
       "    }\n",
       "\n",
       "    .dataframe thead th {\n",
       "        text-align: right;\n",
       "    }\n",
       "</style>\n",
       "<table border=\"1\" class=\"dataframe\">\n",
       "  <thead>\n",
       "    <tr style=\"text-align: right;\">\n",
       "      <th></th>\n",
       "      <th>price</th>\n",
       "      <th>house_type</th>\n",
       "      <th>house_type_2</th>\n",
       "      <th>rooms</th>\n",
       "      <th>m2</th>\n",
       "      <th>elevator</th>\n",
       "      <th>garage</th>\n",
       "      <th>neighborhood</th>\n",
       "      <th>district</th>\n",
       "      <th>m2_price</th>\n",
       "    </tr>\n",
       "  </thead>\n",
       "  <tbody>\n",
       "    <tr>\n",
       "      <th>0</th>\n",
       "      <td>495000</td>\n",
       "      <td>planta_1</td>\n",
       "      <td>exterior</td>\n",
       "      <td>3</td>\n",
       "      <td>118.0</td>\n",
       "      <td>True</td>\n",
       "      <td>True</td>\n",
       "      <td>chopera</td>\n",
       "      <td>arganzuela</td>\n",
       "      <td>4194.915254</td>\n",
       "    </tr>\n",
       "    <tr>\n",
       "      <th>1</th>\n",
       "      <td>485000</td>\n",
       "      <td>planta_2</td>\n",
       "      <td>exterior</td>\n",
       "      <td>2</td>\n",
       "      <td>82.0</td>\n",
       "      <td>True</td>\n",
       "      <td>True</td>\n",
       "      <td>palos_de_moguer</td>\n",
       "      <td>arganzuela</td>\n",
       "      <td>5914.634146</td>\n",
       "    </tr>\n",
       "    <tr>\n",
       "      <th>2</th>\n",
       "      <td>315000</td>\n",
       "      <td>planta_2</td>\n",
       "      <td>exterior</td>\n",
       "      <td>2</td>\n",
       "      <td>72.0</td>\n",
       "      <td>False</td>\n",
       "      <td>False</td>\n",
       "      <td>legazpi</td>\n",
       "      <td>arganzuela</td>\n",
       "      <td>4375.000000</td>\n",
       "    </tr>\n",
       "    <tr>\n",
       "      <th>3</th>\n",
       "      <td>585000</td>\n",
       "      <td>planta_4</td>\n",
       "      <td>exterior</td>\n",
       "      <td>2</td>\n",
       "      <td>174.0</td>\n",
       "      <td>True</td>\n",
       "      <td>True</td>\n",
       "      <td>palos_de_moguer</td>\n",
       "      <td>arganzuela</td>\n",
       "      <td>3362.068966</td>\n",
       "    </tr>\n",
       "    <tr>\n",
       "      <th>4</th>\n",
       "      <td>255000</td>\n",
       "      <td>bajo</td>\n",
       "      <td>exterior</td>\n",
       "      <td>3</td>\n",
       "      <td>75.0</td>\n",
       "      <td>False</td>\n",
       "      <td>False</td>\n",
       "      <td>acacias</td>\n",
       "      <td>arganzuela</td>\n",
       "      <td>3400.000000</td>\n",
       "    </tr>\n",
       "  </tbody>\n",
       "</table>\n",
       "</div>"
      ],
      "text/plain": [
       "    price house_type house_type_2  rooms     m2  elevator  garage  \\\n",
       "0  495000   planta_1     exterior      3  118.0      True    True   \n",
       "1  485000   planta_2     exterior      2   82.0      True    True   \n",
       "2  315000   planta_2     exterior      2   72.0     False   False   \n",
       "3  585000   planta_4     exterior      2  174.0      True    True   \n",
       "4  255000       bajo     exterior      3   75.0     False   False   \n",
       "\n",
       "      neighborhood    district     m2_price  \n",
       "0          chopera  arganzuela  4194.915254  \n",
       "1  palos_de_moguer  arganzuela  5914.634146  \n",
       "2          legazpi  arganzuela  4375.000000  \n",
       "3  palos_de_moguer  arganzuela  3362.068966  \n",
       "4          acacias  arganzuela  3400.000000  "
      ]
     },
     "execution_count": 50,
     "metadata": {},
     "output_type": "execute_result"
    }
   ],
   "source": [
    "df_m2_price = df.copy()\n",
    "df_m2_price[\"m2_price\"] = (df_m2_price.price / df_m2_price.m2)\n",
    "df_m2_price.head()"
   ]
  },
  {
   "cell_type": "code",
   "execution_count": 51,
   "id": "20799268-eee1-44f6-a500-21c7810c6622",
   "metadata": {},
   "outputs": [
    {
     "data": {
      "text/html": [
       "<div>\n",
       "<style scoped>\n",
       "    .dataframe tbody tr th:only-of-type {\n",
       "        vertical-align: middle;\n",
       "    }\n",
       "\n",
       "    .dataframe tbody tr th {\n",
       "        vertical-align: top;\n",
       "    }\n",
       "\n",
       "    .dataframe thead th {\n",
       "        text-align: right;\n",
       "    }\n",
       "</style>\n",
       "<table border=\"1\" class=\"dataframe\">\n",
       "  <thead>\n",
       "    <tr style=\"text-align: right;\">\n",
       "      <th></th>\n",
       "      <th>district</th>\n",
       "      <th>m2_price</th>\n",
       "    </tr>\n",
       "  </thead>\n",
       "  <tbody>\n",
       "    <tr>\n",
       "      <th>2</th>\n",
       "      <td>barrio_de_salamanca</td>\n",
       "      <td>7276.891613</td>\n",
       "    </tr>\n",
       "    <tr>\n",
       "      <th>6</th>\n",
       "      <td>chamberi</td>\n",
       "      <td>6185.321283</td>\n",
       "    </tr>\n",
       "    <tr>\n",
       "      <th>5</th>\n",
       "      <td>chamartin</td>\n",
       "      <td>5887.423168</td>\n",
       "    </tr>\n",
       "    <tr>\n",
       "      <th>14</th>\n",
       "      <td>retiro</td>\n",
       "      <td>5704.871460</td>\n",
       "    </tr>\n",
       "    <tr>\n",
       "      <th>4</th>\n",
       "      <td>centro</td>\n",
       "      <td>5484.402420</td>\n",
       "    </tr>\n",
       "    <tr>\n",
       "      <th>11</th>\n",
       "      <td>moncloa</td>\n",
       "      <td>4658.780550</td>\n",
       "    </tr>\n",
       "    <tr>\n",
       "      <th>0</th>\n",
       "      <td>arganzuela</td>\n",
       "      <td>4442.613006</td>\n",
       "    </tr>\n",
       "    <tr>\n",
       "      <th>16</th>\n",
       "      <td>tetuan</td>\n",
       "      <td>4150.992369</td>\n",
       "    </tr>\n",
       "    <tr>\n",
       "      <th>9</th>\n",
       "      <td>hortaleza</td>\n",
       "      <td>4010.189655</td>\n",
       "    </tr>\n",
       "    <tr>\n",
       "      <th>8</th>\n",
       "      <td>fuencarral</td>\n",
       "      <td>3844.808720</td>\n",
       "    </tr>\n",
       "    <tr>\n",
       "      <th>7</th>\n",
       "      <td>ciudad_lineal</td>\n",
       "      <td>3717.695763</td>\n",
       "    </tr>\n",
       "    <tr>\n",
       "      <th>1</th>\n",
       "      <td>barajas</td>\n",
       "      <td>3338.225017</td>\n",
       "    </tr>\n",
       "    <tr>\n",
       "      <th>15</th>\n",
       "      <td>san-blas</td>\n",
       "      <td>2980.723142</td>\n",
       "    </tr>\n",
       "    <tr>\n",
       "      <th>18</th>\n",
       "      <td>vicalvaro</td>\n",
       "      <td>2938.923629</td>\n",
       "    </tr>\n",
       "    <tr>\n",
       "      <th>12</th>\n",
       "      <td>moratalaz</td>\n",
       "      <td>2798.829589</td>\n",
       "    </tr>\n",
       "    <tr>\n",
       "      <th>10</th>\n",
       "      <td>latina</td>\n",
       "      <td>2618.877949</td>\n",
       "    </tr>\n",
       "    <tr>\n",
       "      <th>19</th>\n",
       "      <td>villa-de-vallecas</td>\n",
       "      <td>2594.044890</td>\n",
       "    </tr>\n",
       "    <tr>\n",
       "      <th>3</th>\n",
       "      <td>carabanchel</td>\n",
       "      <td>2506.600167</td>\n",
       "    </tr>\n",
       "    <tr>\n",
       "      <th>13</th>\n",
       "      <td>puente-de-vallecas</td>\n",
       "      <td>2426.156752</td>\n",
       "    </tr>\n",
       "    <tr>\n",
       "      <th>17</th>\n",
       "      <td>usera</td>\n",
       "      <td>2335.059495</td>\n",
       "    </tr>\n",
       "    <tr>\n",
       "      <th>20</th>\n",
       "      <td>villaverde</td>\n",
       "      <td>1958.666050</td>\n",
       "    </tr>\n",
       "  </tbody>\n",
       "</table>\n",
       "</div>"
      ],
      "text/plain": [
       "               district     m2_price\n",
       "2   barrio_de_salamanca  7276.891613\n",
       "6              chamberi  6185.321283\n",
       "5             chamartin  5887.423168\n",
       "14               retiro  5704.871460\n",
       "4                centro  5484.402420\n",
       "11              moncloa  4658.780550\n",
       "0            arganzuela  4442.613006\n",
       "16               tetuan  4150.992369\n",
       "9             hortaleza  4010.189655\n",
       "8            fuencarral  3844.808720\n",
       "7         ciudad_lineal  3717.695763\n",
       "1               barajas  3338.225017\n",
       "15             san-blas  2980.723142\n",
       "18            vicalvaro  2938.923629\n",
       "12            moratalaz  2798.829589\n",
       "10               latina  2618.877949\n",
       "19    villa-de-vallecas  2594.044890\n",
       "3           carabanchel  2506.600167\n",
       "13   puente-de-vallecas  2426.156752\n",
       "17                usera  2335.059495\n",
       "20           villaverde  1958.666050"
      ]
     },
     "execution_count": 51,
     "metadata": {},
     "output_type": "execute_result"
    }
   ],
   "source": [
    "df_m2_price[[\"district\", \"m2_price\"]].groupby(\"district\").mean().reset_index().sort_values(by=\"m2_price\", ascending=False)"
   ]
  },
  {
   "cell_type": "code",
   "execution_count": 52,
   "id": "07bb433d-6c69-4584-8d73-e5b2d8baf4c0",
   "metadata": {},
   "outputs": [
    {
     "data": {
      "text/html": [
       "<div>\n",
       "<style scoped>\n",
       "    .dataframe tbody tr th:only-of-type {\n",
       "        vertical-align: middle;\n",
       "    }\n",
       "\n",
       "    .dataframe tbody tr th {\n",
       "        vertical-align: top;\n",
       "    }\n",
       "\n",
       "    .dataframe thead th {\n",
       "        text-align: right;\n",
       "    }\n",
       "</style>\n",
       "<table border=\"1\" class=\"dataframe\">\n",
       "  <thead>\n",
       "    <tr style=\"text-align: right;\">\n",
       "      <th></th>\n",
       "      <th>neighborhood</th>\n",
       "      <th>m2_price</th>\n",
       "    </tr>\n",
       "  </thead>\n",
       "  <tbody>\n",
       "    <tr>\n",
       "      <th>106</th>\n",
       "      <td>recoletos</td>\n",
       "      <td>9474.764106</td>\n",
       "    </tr>\n",
       "    <tr>\n",
       "      <th>32</th>\n",
       "      <td>castellana</td>\n",
       "      <td>8211.035878</td>\n",
       "    </tr>\n",
       "    <tr>\n",
       "      <th>65</th>\n",
       "      <td>jeronimos</td>\n",
       "      <td>8174.532960</td>\n",
       "    </tr>\n",
       "    <tr>\n",
       "      <th>7</th>\n",
       "      <td>almagro</td>\n",
       "      <td>7364.555497</td>\n",
       "    </tr>\n",
       "    <tr>\n",
       "      <th>50</th>\n",
       "      <td>el_viso</td>\n",
       "      <td>7220.556446</td>\n",
       "    </tr>\n",
       "    <tr>\n",
       "      <th>58</th>\n",
       "      <td>goya</td>\n",
       "      <td>6759.431281</td>\n",
       "    </tr>\n",
       "    <tr>\n",
       "      <th>70</th>\n",
       "      <td>lista</td>\n",
       "      <td>6740.465789</td>\n",
       "    </tr>\n",
       "    <tr>\n",
       "      <th>35</th>\n",
       "      <td>chueca-justicia</td>\n",
       "      <td>6512.833216</td>\n",
       "    </tr>\n",
       "    <tr>\n",
       "      <th>83</th>\n",
       "      <td>nueva_espana</td>\n",
       "      <td>6412.328316</td>\n",
       "    </tr>\n",
       "    <tr>\n",
       "      <th>63</th>\n",
       "      <td>ibiza</td>\n",
       "      <td>6271.591034</td>\n",
       "    </tr>\n",
       "  </tbody>\n",
       "</table>\n",
       "</div>"
      ],
      "text/plain": [
       "        neighborhood     m2_price\n",
       "106        recoletos  9474.764106\n",
       "32        castellana  8211.035878\n",
       "65         jeronimos  8174.532960\n",
       "7            almagro  7364.555497\n",
       "50           el_viso  7220.556446\n",
       "58              goya  6759.431281\n",
       "70             lista  6740.465789\n",
       "35   chueca-justicia  6512.833216\n",
       "83      nueva_espana  6412.328316\n",
       "63             ibiza  6271.591034"
      ]
     },
     "execution_count": 52,
     "metadata": {},
     "output_type": "execute_result"
    }
   ],
   "source": [
    "df_m2_price[[\"neighborhood\", \"m2_price\"]].groupby(\"neighborhood\").mean().reset_index().sort_values(by=\"m2_price\", ascending=False).head(10)"
   ]
  },
  {
   "cell_type": "code",
   "execution_count": 53,
   "id": "a0e26b2a-8d27-4f22-8ba2-836c17dc7346",
   "metadata": {},
   "outputs": [
    {
     "data": {
      "text/html": [
       "<div>\n",
       "<style scoped>\n",
       "    .dataframe tbody tr th:only-of-type {\n",
       "        vertical-align: middle;\n",
       "    }\n",
       "\n",
       "    .dataframe tbody tr th {\n",
       "        vertical-align: top;\n",
       "    }\n",
       "\n",
       "    .dataframe thead th {\n",
       "        text-align: right;\n",
       "    }\n",
       "</style>\n",
       "<table border=\"1\" class=\"dataframe\">\n",
       "  <thead>\n",
       "    <tr style=\"text-align: right;\">\n",
       "      <th></th>\n",
       "      <th>neighborhood</th>\n",
       "      <th>m2_price</th>\n",
       "    </tr>\n",
       "  </thead>\n",
       "  <tbody>\n",
       "    <tr>\n",
       "      <th>110</th>\n",
       "      <td>san_cristobal</td>\n",
       "      <td>1651.741373</td>\n",
       "    </tr>\n",
       "    <tr>\n",
       "      <th>52</th>\n",
       "      <td>entrevias</td>\n",
       "      <td>1841.672343</td>\n",
       "    </tr>\n",
       "    <tr>\n",
       "      <th>131</th>\n",
       "      <td>villaverde_alto</td>\n",
       "      <td>1927.638240</td>\n",
       "    </tr>\n",
       "    <tr>\n",
       "      <th>74</th>\n",
       "      <td>los_rosales</td>\n",
       "      <td>1932.742107</td>\n",
       "    </tr>\n",
       "    <tr>\n",
       "      <th>4</th>\n",
       "      <td>aeropuerto</td>\n",
       "      <td>1941.172897</td>\n",
       "    </tr>\n",
       "    <tr>\n",
       "      <th>87</th>\n",
       "      <td>orcasitas</td>\n",
       "      <td>2027.321330</td>\n",
       "    </tr>\n",
       "    <tr>\n",
       "      <th>135</th>\n",
       "      <td>zofio</td>\n",
       "      <td>2051.351515</td>\n",
       "    </tr>\n",
       "    <tr>\n",
       "      <th>71</th>\n",
       "      <td>los_angeles</td>\n",
       "      <td>2059.425436</td>\n",
       "    </tr>\n",
       "    <tr>\n",
       "      <th>72</th>\n",
       "      <td>los_berrocales</td>\n",
       "      <td>2080.342938</td>\n",
       "    </tr>\n",
       "    <tr>\n",
       "      <th>11</th>\n",
       "      <td>amposta</td>\n",
       "      <td>2106.664043</td>\n",
       "    </tr>\n",
       "  </tbody>\n",
       "</table>\n",
       "</div>"
      ],
      "text/plain": [
       "        neighborhood     m2_price\n",
       "110    san_cristobal  1651.741373\n",
       "52         entrevias  1841.672343\n",
       "131  villaverde_alto  1927.638240\n",
       "74       los_rosales  1932.742107\n",
       "4         aeropuerto  1941.172897\n",
       "87         orcasitas  2027.321330\n",
       "135            zofio  2051.351515\n",
       "71       los_angeles  2059.425436\n",
       "72    los_berrocales  2080.342938\n",
       "11           amposta  2106.664043"
      ]
     },
     "execution_count": 53,
     "metadata": {},
     "output_type": "execute_result"
    }
   ],
   "source": [
    "df_m2_price[[\"neighborhood\", \"m2_price\"]].groupby(\"neighborhood\").mean().reset_index().sort_values(by=\"m2_price\").head(10)"
   ]
  },
  {
   "cell_type": "code",
   "execution_count": 54,
   "id": "4223f9cc-c0d7-4304-a7ef-4857510cefa8",
   "metadata": {},
   "outputs": [],
   "source": [
    "df.elevator = df.elevator.astype('str')\n",
    "df.elevator = df.elevator.str.replace(\"True\", \"yes\").str.replace(\"False\",\"no\")"
   ]
  },
  {
   "cell_type": "code",
   "execution_count": 55,
   "id": "af800ff7-c50e-464b-b69c-d075e17b9023",
   "metadata": {},
   "outputs": [],
   "source": [
    "df.garage = df.garage.astype('str')\n",
    "df.garage = df.garage.str.replace(\"True\", \"yes\").str.replace(\"False\",\"no\")"
   ]
  },
  {
   "cell_type": "code",
   "execution_count": 56,
   "id": "3954686b-a248-4341-8761-57dd76a49250",
   "metadata": {},
   "outputs": [],
   "source": [
    "df.rooms = df.rooms.astype(\"str\")"
   ]
  },
  {
   "cell_type": "code",
   "execution_count": 57,
   "id": "e3a3b95c-a8ee-4512-82a2-167a99490c97",
   "metadata": {},
   "outputs": [
    {
     "data": {
      "text/html": [
       "<div>\n",
       "<style scoped>\n",
       "    .dataframe tbody tr th:only-of-type {\n",
       "        vertical-align: middle;\n",
       "    }\n",
       "\n",
       "    .dataframe tbody tr th {\n",
       "        vertical-align: top;\n",
       "    }\n",
       "\n",
       "    .dataframe thead th {\n",
       "        text-align: right;\n",
       "    }\n",
       "</style>\n",
       "<table border=\"1\" class=\"dataframe\">\n",
       "  <thead>\n",
       "    <tr style=\"text-align: right;\">\n",
       "      <th></th>\n",
       "      <th>price</th>\n",
       "      <th>house_type</th>\n",
       "      <th>house_type_2</th>\n",
       "      <th>rooms</th>\n",
       "      <th>m2</th>\n",
       "      <th>elevator</th>\n",
       "      <th>garage</th>\n",
       "      <th>neighborhood</th>\n",
       "      <th>district</th>\n",
       "    </tr>\n",
       "  </thead>\n",
       "  <tbody>\n",
       "    <tr>\n",
       "      <th>0</th>\n",
       "      <td>495000</td>\n",
       "      <td>planta_1</td>\n",
       "      <td>exterior</td>\n",
       "      <td>3</td>\n",
       "      <td>118.0</td>\n",
       "      <td>yes</td>\n",
       "      <td>yes</td>\n",
       "      <td>chopera</td>\n",
       "      <td>arganzuela</td>\n",
       "    </tr>\n",
       "    <tr>\n",
       "      <th>1</th>\n",
       "      <td>485000</td>\n",
       "      <td>planta_2</td>\n",
       "      <td>exterior</td>\n",
       "      <td>2</td>\n",
       "      <td>82.0</td>\n",
       "      <td>yes</td>\n",
       "      <td>yes</td>\n",
       "      <td>palos_de_moguer</td>\n",
       "      <td>arganzuela</td>\n",
       "    </tr>\n",
       "    <tr>\n",
       "      <th>2</th>\n",
       "      <td>315000</td>\n",
       "      <td>planta_2</td>\n",
       "      <td>exterior</td>\n",
       "      <td>2</td>\n",
       "      <td>72.0</td>\n",
       "      <td>no</td>\n",
       "      <td>no</td>\n",
       "      <td>legazpi</td>\n",
       "      <td>arganzuela</td>\n",
       "    </tr>\n",
       "    <tr>\n",
       "      <th>3</th>\n",
       "      <td>585000</td>\n",
       "      <td>planta_4</td>\n",
       "      <td>exterior</td>\n",
       "      <td>2</td>\n",
       "      <td>174.0</td>\n",
       "      <td>yes</td>\n",
       "      <td>yes</td>\n",
       "      <td>palos_de_moguer</td>\n",
       "      <td>arganzuela</td>\n",
       "    </tr>\n",
       "    <tr>\n",
       "      <th>4</th>\n",
       "      <td>255000</td>\n",
       "      <td>bajo</td>\n",
       "      <td>exterior</td>\n",
       "      <td>3</td>\n",
       "      <td>75.0</td>\n",
       "      <td>no</td>\n",
       "      <td>no</td>\n",
       "      <td>acacias</td>\n",
       "      <td>arganzuela</td>\n",
       "    </tr>\n",
       "  </tbody>\n",
       "</table>\n",
       "</div>"
      ],
      "text/plain": [
       "    price house_type house_type_2 rooms     m2 elevator garage  \\\n",
       "0  495000   planta_1     exterior     3  118.0      yes    yes   \n",
       "1  485000   planta_2     exterior     2   82.0      yes    yes   \n",
       "2  315000   planta_2     exterior     2   72.0       no     no   \n",
       "3  585000   planta_4     exterior     2  174.0      yes    yes   \n",
       "4  255000       bajo     exterior     3   75.0       no     no   \n",
       "\n",
       "      neighborhood    district  \n",
       "0          chopera  arganzuela  \n",
       "1  palos_de_moguer  arganzuela  \n",
       "2          legazpi  arganzuela  \n",
       "3  palos_de_moguer  arganzuela  \n",
       "4          acacias  arganzuela  "
      ]
     },
     "execution_count": 57,
     "metadata": {},
     "output_type": "execute_result"
    }
   ],
   "source": [
    "df.head()"
   ]
  },
  {
   "cell_type": "code",
   "execution_count": 58,
   "id": "00a1ec95-6961-4a4a-b399-3590404ff41e",
   "metadata": {},
   "outputs": [
    {
     "data": {
      "text/plain": [
       "price             int64\n",
       "house_type       object\n",
       "house_type_2     object\n",
       "rooms            object\n",
       "m2              float64\n",
       "elevator         object\n",
       "garage           object\n",
       "neighborhood     object\n",
       "district         object\n",
       "dtype: object"
      ]
     },
     "execution_count": 58,
     "metadata": {},
     "output_type": "execute_result"
    }
   ],
   "source": [
    "df.dtypes"
   ]
  },
  {
   "cell_type": "code",
   "execution_count": 59,
   "id": "d85bb7d2-bb94-4c48-848b-aa073031eaf6",
   "metadata": {},
   "outputs": [],
   "source": [
    "df.to_csv('output/preprocessed_house_prices.csv', index=False)"
   ]
  },
  {
   "cell_type": "markdown",
   "id": "6e81b7ef-e682-4c8b-b07d-89b53ff80b85",
   "metadata": {},
   "source": [
    "## Data Preparation"
   ]
  },
  {
   "cell_type": "code",
   "execution_count": 60,
   "id": "888bcf66-483c-4089-b510-aef4c24d7e83",
   "metadata": {},
   "outputs": [],
   "source": [
    "df_full_train, df_test = train_test_split(df, test_size=0.2, random_state=31)\n",
    "df_train, df_val = train_test_split(df_full_train, test_size=0.25, random_state=31)"
   ]
  },
  {
   "cell_type": "code",
   "execution_count": 61,
   "id": "f05d22ca-9b99-48a8-ae23-1ba76d37e06b",
   "metadata": {},
   "outputs": [
    {
     "name": "stdout",
     "output_type": "stream",
     "text": [
      "8553 2851 2852\n"
     ]
    }
   ],
   "source": [
    "print(len(df_train), len(df_val), len(df_test))"
   ]
  },
  {
   "cell_type": "code",
   "execution_count": 62,
   "id": "28d5dfb8-9b2b-4850-a233-cc6d1ed1b0a9",
   "metadata": {},
   "outputs": [],
   "source": [
    "df_full_train = df_full_train.reset_index(drop=True)\n",
    "df_train = df_train.reset_index(drop=True)\n",
    "df_val = df_val.reset_index(drop=True)\n",
    "df_test = df_test.reset_index(drop=True)"
   ]
  },
  {
   "cell_type": "code",
   "execution_count": 63,
   "id": "98370404-f77c-4157-b3f8-a51d13682470",
   "metadata": {},
   "outputs": [],
   "source": [
    "y_full_train = np.log1p(df_full_train.price)\n",
    "y_train = np.log1p(df_train.price)\n",
    "y_val = np.log1p(df_val.price)\n",
    "y_test = np.log1p(df_test.price)"
   ]
  },
  {
   "cell_type": "code",
   "execution_count": 64,
   "id": "7f444756-fbcd-48ca-b7ab-e6e6789da4e6",
   "metadata": {},
   "outputs": [],
   "source": [
    "del df_full_train[\"price\"]\n",
    "del df_train[\"price\"]\n",
    "del df_val[\"price\"]\n",
    "del df_test[\"price\"]"
   ]
  },
  {
   "cell_type": "code",
   "execution_count": 65,
   "id": "0d2579c5-eae3-4d6b-8f79-672fce2e3eee",
   "metadata": {},
   "outputs": [],
   "source": [
    "dict_full_train = df_full_train.to_dict(orient=\"records\")\n",
    "dict_train = df_train.to_dict(orient=\"records\")\n",
    "dict_val = df_val.to_dict(orient=\"records\")\n",
    "dict_test = df_test.to_dict(orient=\"records\")"
   ]
  },
  {
   "cell_type": "code",
   "execution_count": 66,
   "id": "cb11dbe5-7c80-41e8-9889-1087601ca263",
   "metadata": {},
   "outputs": [],
   "source": [
    "dv = DictVectorizer(sparse=False)\n",
    "X_full_train = dv.fit_transform(dict_full_train)\n",
    "X_train = dv.transform(dict_train)\n",
    "X_val = dv.transform(dict_val)\n",
    "X_test = dv.transform(dict_test)"
   ]
  },
  {
   "cell_type": "code",
   "execution_count": 67,
   "id": "ff987fb3-1068-4aed-88d1-970f0e079430",
   "metadata": {},
   "outputs": [
    {
     "data": {
      "text/html": [
       "<div>\n",
       "<style scoped>\n",
       "    .dataframe tbody tr th:only-of-type {\n",
       "        vertical-align: middle;\n",
       "    }\n",
       "\n",
       "    .dataframe tbody tr th {\n",
       "        vertical-align: top;\n",
       "    }\n",
       "\n",
       "    .dataframe thead th {\n",
       "        text-align: right;\n",
       "    }\n",
       "</style>\n",
       "<table border=\"1\" class=\"dataframe\">\n",
       "  <thead>\n",
       "    <tr style=\"text-align: right;\">\n",
       "      <th></th>\n",
       "      <th>price</th>\n",
       "      <th>house_type</th>\n",
       "      <th>house_type_2</th>\n",
       "      <th>rooms</th>\n",
       "      <th>m2</th>\n",
       "      <th>elevator</th>\n",
       "      <th>garage</th>\n",
       "      <th>neighborhood</th>\n",
       "      <th>district</th>\n",
       "    </tr>\n",
       "  </thead>\n",
       "  <tbody>\n",
       "    <tr>\n",
       "      <th>0</th>\n",
       "      <td>495000</td>\n",
       "      <td>planta_1</td>\n",
       "      <td>exterior</td>\n",
       "      <td>3</td>\n",
       "      <td>118.0</td>\n",
       "      <td>yes</td>\n",
       "      <td>yes</td>\n",
       "      <td>chopera</td>\n",
       "      <td>arganzuela</td>\n",
       "    </tr>\n",
       "    <tr>\n",
       "      <th>1</th>\n",
       "      <td>485000</td>\n",
       "      <td>planta_2</td>\n",
       "      <td>exterior</td>\n",
       "      <td>2</td>\n",
       "      <td>82.0</td>\n",
       "      <td>yes</td>\n",
       "      <td>yes</td>\n",
       "      <td>palos_de_moguer</td>\n",
       "      <td>arganzuela</td>\n",
       "    </tr>\n",
       "    <tr>\n",
       "      <th>2</th>\n",
       "      <td>315000</td>\n",
       "      <td>planta_2</td>\n",
       "      <td>exterior</td>\n",
       "      <td>2</td>\n",
       "      <td>72.0</td>\n",
       "      <td>no</td>\n",
       "      <td>no</td>\n",
       "      <td>legazpi</td>\n",
       "      <td>arganzuela</td>\n",
       "    </tr>\n",
       "    <tr>\n",
       "      <th>3</th>\n",
       "      <td>585000</td>\n",
       "      <td>planta_4</td>\n",
       "      <td>exterior</td>\n",
       "      <td>2</td>\n",
       "      <td>174.0</td>\n",
       "      <td>yes</td>\n",
       "      <td>yes</td>\n",
       "      <td>palos_de_moguer</td>\n",
       "      <td>arganzuela</td>\n",
       "    </tr>\n",
       "    <tr>\n",
       "      <th>4</th>\n",
       "      <td>255000</td>\n",
       "      <td>bajo</td>\n",
       "      <td>exterior</td>\n",
       "      <td>3</td>\n",
       "      <td>75.0</td>\n",
       "      <td>no</td>\n",
       "      <td>no</td>\n",
       "      <td>acacias</td>\n",
       "      <td>arganzuela</td>\n",
       "    </tr>\n",
       "  </tbody>\n",
       "</table>\n",
       "</div>"
      ],
      "text/plain": [
       "    price house_type house_type_2 rooms     m2 elevator garage  \\\n",
       "0  495000   planta_1     exterior     3  118.0      yes    yes   \n",
       "1  485000   planta_2     exterior     2   82.0      yes    yes   \n",
       "2  315000   planta_2     exterior     2   72.0       no     no   \n",
       "3  585000   planta_4     exterior     2  174.0      yes    yes   \n",
       "4  255000       bajo     exterior     3   75.0       no     no   \n",
       "\n",
       "      neighborhood    district  \n",
       "0          chopera  arganzuela  \n",
       "1  palos_de_moguer  arganzuela  \n",
       "2          legazpi  arganzuela  \n",
       "3  palos_de_moguer  arganzuela  \n",
       "4          acacias  arganzuela  "
      ]
     },
     "execution_count": 67,
     "metadata": {},
     "output_type": "execute_result"
    }
   ],
   "source": [
    "df.head()"
   ]
  },
  {
   "cell_type": "markdown",
   "id": "a96630a0-9c93-4522-a166-54541edebc78",
   "metadata": {},
   "source": [
    "## Linear Regression"
   ]
  },
  {
   "cell_type": "code",
   "execution_count": 68,
   "id": "9fe1a790-49d9-4616-ac68-efcf50e5f3e6",
   "metadata": {},
   "outputs": [],
   "source": [
    "from sklearn.linear_model import LinearRegression, Ridge\n",
    "from sklearn.metrics import mean_squared_error"
   ]
  },
  {
   "cell_type": "code",
   "execution_count": 69,
   "id": "c2c9f0d3-5419-49fb-8765-e669f2191939",
   "metadata": {},
   "outputs": [],
   "source": [
    "model_regression = LinearRegression()"
   ]
  },
  {
   "cell_type": "code",
   "execution_count": 70,
   "id": "fc9bcf8e-10e6-4255-9584-638e34de8c6a",
   "metadata": {},
   "outputs": [
    {
     "data": {
      "text/plain": [
       "LinearRegression()"
      ]
     },
     "execution_count": 70,
     "metadata": {},
     "output_type": "execute_result"
    }
   ],
   "source": [
    "model_regression.fit(X_train, y_train)"
   ]
  },
  {
   "cell_type": "code",
   "execution_count": 71,
   "id": "b13f8b49-fbf9-48e5-a137-1c2f15500305",
   "metadata": {},
   "outputs": [],
   "source": [
    "y_pred = model_regression.predict(X_val)"
   ]
  },
  {
   "cell_type": "code",
   "execution_count": 72,
   "id": "79810ae3-63e0-4bf4-beeb-51a509876629",
   "metadata": {},
   "outputs": [
    {
     "data": {
      "text/plain": [
       "0.28770034460942023"
      ]
     },
     "execution_count": 72,
     "metadata": {},
     "output_type": "execute_result"
    }
   ],
   "source": [
    "mean_squared_error(y_val, y_pred, squared=False)"
   ]
  },
  {
   "cell_type": "markdown",
   "id": "19399661-838e-46ca-9cf9-339e5bd56867",
   "metadata": {},
   "source": [
    "## Ridge Regression"
   ]
  },
  {
   "cell_type": "code",
   "execution_count": 73,
   "id": "1b691698-f85b-4140-8c90-cb32ab1b5056",
   "metadata": {},
   "outputs": [
    {
     "name": "stdout",
     "output_type": "stream",
     "text": [
      "alpha: 0.001, rmse:0.28770\n",
      "alpha:  0.01, rmse:0.28767\n",
      "alpha:   0.5, rmse:0.28682\n",
      "alpha:     1, rmse:0.28647\n",
      "alpha:     3, rmse:0.28618\n",
      "alpha:     5, rmse:0.28639\n",
      "alpha:    10, rmse:0.28756\n"
     ]
    }
   ],
   "source": [
    "for alpha in [0.001, 0.01, 0.5, 1, 3, 5, 10]:\n",
    "    model_ridge = Ridge(alpha=alpha)\n",
    "    model_ridge.fit(X_train, y_train)\n",
    "    y_pred = model_ridge.predict(X_val)\n",
    "    rmse = mean_squared_error(y_val, y_pred, squared=False)\n",
    "    print(f'alpha:{alpha:>6}, rmse:{rmse:.5f}')\n",
    "    \n",
    "    "
   ]
  },
  {
   "cell_type": "code",
   "execution_count": 74,
   "id": "f3a1e3f8-5aae-47ca-b99b-e83e228640bd",
   "metadata": {},
   "outputs": [
    {
     "data": {
      "text/plain": [
       "0.28618138605753185"
      ]
     },
     "execution_count": 74,
     "metadata": {},
     "output_type": "execute_result"
    }
   ],
   "source": [
    "model_ridge = Ridge(alpha=3)\n",
    "model_ridge.fit(X_train, y_train)\n",
    "y_pred = model_ridge.predict(X_val)\n",
    "mean_squared_error(y_val, y_pred, squared=False)"
   ]
  },
  {
   "cell_type": "markdown",
   "id": "24a733da-3416-4f9b-9c26-df6f2b26f5cd",
   "metadata": {},
   "source": [
    "## Random Forest"
   ]
  },
  {
   "cell_type": "code",
   "execution_count": 75,
   "id": "9ec885ce-f7cd-464f-9666-d478eba3fe71",
   "metadata": {},
   "outputs": [],
   "source": [
    "from sklearn.ensemble import RandomForestRegressor"
   ]
  },
  {
   "cell_type": "code",
   "execution_count": 76,
   "id": "cac6ae37-c933-49d7-8597-72a0fb11813b",
   "metadata": {},
   "outputs": [
    {
     "name": "stdout",
     "output_type": "stream",
     "text": [
      "i:     10, rmse: 0.23410\n",
      "i:     20, rmse: 0.22990\n",
      "i:     30, rmse: 0.22752\n",
      "i:     40, rmse: 0.22774\n",
      "i:     50, rmse: 0.22764\n",
      "i:     60, rmse: 0.22752\n",
      "i:     70, rmse: 0.22694\n",
      "i:     80, rmse: 0.22659\n",
      "i:     90, rmse: 0.22627\n",
      "i:    100, rmse: 0.22634\n",
      "i:    110, rmse: 0.22643\n",
      "i:    120, rmse: 0.22667\n",
      "i:    130, rmse: 0.22655\n",
      "i:    140, rmse: 0.22637\n",
      "i:    150, rmse: 0.22620\n",
      "i:    160, rmse: 0.22620\n",
      "i:    170, rmse: 0.22631\n",
      "i:    180, rmse: 0.22614\n",
      "i:    190, rmse: 0.22620\n",
      "i:    200, rmse: 0.22614\n"
     ]
    }
   ],
   "source": [
    "rmses = []\n",
    "for i in range(10, 201, 10):\n",
    "    rf = RandomForestRegressor(n_estimators=i, random_state=31)\n",
    "    rf.fit(X_train, y_train)\n",
    "    \n",
    "    y_pred = rf.predict(X_val)\n",
    "    rmse = mean_squared_error(y_val, y_pred, squared=False)\n",
    "    rmses.append(rmse)\n",
    "    print(f'i: {i:>6}, rmse: {rmse:.5f}')"
   ]
  },
  {
   "cell_type": "code",
   "execution_count": 77,
   "id": "9653749c-d011-484d-b0ac-260da3aa2732",
   "metadata": {},
   "outputs": [
    {
     "data": {
      "image/png": "[encoded data removed]",
      "text/plain": [
       "<Figure size 432x288 with 1 Axes>"
      ]
     },
     "metadata": {
      "needs_background": "light"
     },
     "output_type": "display_data"
    }
   ],
   "source": [
    "plt.plot(range(10, 201, 10), rmses)\n",
    "plt.title(\"Number of trees vs RMSE\")\n",
    "plt.show()"
   ]
  },
  {
   "cell_type": "code",
   "execution_count": 78,
   "id": "eef7ce78-8000-4044-a30e-b6f6cc596af3",
   "metadata": {},
   "outputs": [
    {
     "name": "stdout",
     "output_type": "stream",
     "text": [
      "depth: 20\n",
      "i:     10, rmse: 0.24025\n",
      "i:     20, rmse: 0.23585\n",
      "i:     30, rmse: 0.23284\n",
      "i:     40, rmse: 0.23268\n",
      "i:     50, rmse: 0.23277\n",
      "i:     60, rmse: 0.23242\n",
      "i:     70, rmse: 0.23198\n",
      "i:     80, rmse: 0.23170\n",
      "i:     90, rmse: 0.23153\n",
      "i:    100, rmse: 0.23143\n",
      "i:    110, rmse: 0.23158\n",
      "i:    120, rmse: 0.23167\n",
      "i:    130, rmse: 0.23153\n",
      "i:    140, rmse: 0.23129\n",
      "i:    150, rmse: 0.23109\n",
      "i:    160, rmse: 0.23120\n",
      "i:    170, rmse: 0.23129\n",
      "i:    180, rmse: 0.23119\n",
      "i:    190, rmse: 0.23115\n",
      "i:    200, rmse: 0.23103\n",
      "\n",
      "depth: 25\n",
      "i:     10, rmse: 0.23526\n",
      "i:     20, rmse: 0.23071\n",
      "i:     30, rmse: 0.22837\n",
      "i:     40, rmse: 0.22863\n",
      "i:     50, rmse: 0.22879\n",
      "i:     60, rmse: 0.22868\n",
      "i:     70, rmse: 0.22809\n",
      "i:     80, rmse: 0.22785\n",
      "i:     90, rmse: 0.22770\n",
      "i:    100, rmse: 0.22766\n",
      "i:    110, rmse: 0.22780\n",
      "i:    120, rmse: 0.22800\n",
      "i:    130, rmse: 0.22793\n",
      "i:    140, rmse: 0.22780\n",
      "i:    150, rmse: 0.22761\n",
      "i:    160, rmse: 0.22752\n",
      "i:    170, rmse: 0.22763\n",
      "i:    180, rmse: 0.22746\n",
      "i:    190, rmse: 0.22744\n",
      "i:    200, rmse: 0.22735\n",
      "\n",
      "depth: 30\n",
      "i:     10, rmse: 0.23420\n",
      "i:     20, rmse: 0.22948\n",
      "i:     30, rmse: 0.22689\n",
      "i:     40, rmse: 0.22691\n",
      "i:     50, rmse: 0.22703\n",
      "i:     60, rmse: 0.22686\n",
      "i:     70, rmse: 0.22648\n",
      "i:     80, rmse: 0.22625\n",
      "i:     90, rmse: 0.22607\n",
      "i:    100, rmse: 0.22615\n",
      "i:    110, rmse: 0.22628\n",
      "i:    120, rmse: 0.22639\n",
      "i:    130, rmse: 0.22619\n",
      "i:    140, rmse: 0.22623\n",
      "i:    150, rmse: 0.22604\n",
      "i:    160, rmse: 0.22610\n",
      "i:    170, rmse: 0.22614\n",
      "i:    180, rmse: 0.22596\n",
      "i:    190, rmse: 0.22601\n",
      "i:    200, rmse: 0.22592\n",
      "\n",
      "depth: 35\n",
      "i:     10, rmse: 0.23473\n",
      "i:     20, rmse: 0.22988\n",
      "i:     30, rmse: 0.22760\n",
      "i:     40, rmse: 0.22777\n",
      "i:     50, rmse: 0.22777\n",
      "i:     60, rmse: 0.22764\n",
      "i:     70, rmse: 0.22712\n",
      "i:     80, rmse: 0.22666\n",
      "i:     90, rmse: 0.22635\n",
      "i:    100, rmse: 0.22633\n",
      "i:    110, rmse: 0.22641\n",
      "i:    120, rmse: 0.22661\n",
      "i:    130, rmse: 0.22646\n",
      "i:    140, rmse: 0.22626\n",
      "i:    150, rmse: 0.22607\n",
      "i:    160, rmse: 0.22604\n",
      "i:    170, rmse: 0.22619\n",
      "i:    180, rmse: 0.22599\n",
      "i:    190, rmse: 0.22606\n",
      "i:    200, rmse: 0.22596\n",
      "\n"
     ]
    }
   ],
   "source": [
    "all_rmses = {}\n",
    "\n",
    "for depth in [20, 25, 30, 35]:\n",
    "    print(f'depth: {depth}')\n",
    "    rmses = []\n",
    "    for i in range (10, 201, 10):\n",
    "        rf = RandomForestRegressor(n_estimators=i, max_depth=depth, random_state=31)\n",
    "        rf.fit(X_train, y_train)\n",
    "        y_pred = rf.predict(X_val)\n",
    "        rmse = mean_squared_error(y_val, y_pred, squared=False)\n",
    "        rmses.append(rmse)\n",
    "        print(f'i: {i:>6}, rmse: {rmse:.5f}')\n",
    "        \n",
    "    all_rmses[depth] = rmses\n",
    "    print()\n",
    "    "
   ]
  },
  {
   "cell_type": "code",
   "execution_count": 79,
   "id": "fa4a990c-7425-4072-ab95-4370cf1196e1",
   "metadata": {},
   "outputs": [
    {
     "data": {
      "image/png": "[encoded data removed]",
      "text/plain": [
       "<Figure size 432x288 with 1 Axes>"
      ]
     },
     "metadata": {
      "needs_background": "light"
     },
     "output_type": "display_data"
    }
   ],
   "source": [
    "num_trees = list(range(10, 201, 10))\n",
    "plt.plot(num_trees, all_rmses[20], label = 'depth=20')\n",
    "plt.plot(num_trees, all_rmses[25], label = 'depth=25')\n",
    "plt.plot(num_trees, all_rmses[30], label = 'depth=30')\n",
    "plt.plot(num_trees, all_rmses[35], label = 'depth=35')\n",
    "plt.legend()\n",
    "plt.title('Number of trees vs RMSE')\n",
    "plt.show()"
   ]
  },
  {
   "cell_type": "code",
   "execution_count": 80,
   "id": "877c66eb-f2a9-4885-b79b-7ee725e09218",
   "metadata": {},
   "outputs": [
    {
     "name": "stdout",
     "output_type": "stream",
     "text": [
      "min_samples_leaf: 1\n",
      "i:     10, rmse: 0.23420\n",
      "i:     30, rmse: 0.22689\n",
      "i:     50, rmse: 0.22703\n",
      "i:     70, rmse: 0.22648\n",
      "i:     90, rmse: 0.22607\n",
      "i:    110, rmse: 0.22628\n",
      "i:    130, rmse: 0.22619\n",
      "i:    150, rmse: 0.22604\n",
      "i:    170, rmse: 0.22614\n",
      "i:    190, rmse: 0.22601\n",
      "\n",
      "min_samples_leaf: 2\n",
      "i:     10, rmse: 0.23739\n",
      "i:     30, rmse: 0.22985\n",
      "i:     50, rmse: 0.22907\n",
      "i:     70, rmse: 0.22916\n",
      "i:     90, rmse: 0.22894\n",
      "i:    110, rmse: 0.22908\n",
      "i:    130, rmse: 0.22935\n",
      "i:    150, rmse: 0.22906\n",
      "i:    170, rmse: 0.22928\n",
      "i:    190, rmse: 0.22915\n",
      "\n",
      "min_samples_leaf: 3\n",
      "i:     10, rmse: 0.24170\n",
      "i:     30, rmse: 0.23620\n",
      "i:     50, rmse: 0.23521\n",
      "i:     70, rmse: 0.23533\n",
      "i:     90, rmse: 0.23516\n",
      "i:    110, rmse: 0.23496\n",
      "i:    130, rmse: 0.23495\n",
      "i:    150, rmse: 0.23465\n",
      "i:    170, rmse: 0.23473\n",
      "i:    190, rmse: 0.23469\n",
      "\n",
      "min_samples_leaf: 5\n",
      "i:     10, rmse: 0.25175\n",
      "i:     30, rmse: 0.24652\n",
      "i:     50, rmse: 0.24610\n",
      "i:     70, rmse: 0.24579\n",
      "i:     90, rmse: 0.24575\n",
      "i:    110, rmse: 0.24568\n",
      "i:    130, rmse: 0.24576\n",
      "i:    150, rmse: 0.24546\n",
      "i:    170, rmse: 0.24548\n",
      "i:    190, rmse: 0.24535\n",
      "\n"
     ]
    }
   ],
   "source": [
    "all_rmses = {}\n",
    "\n",
    "for m in [1, 2, 3, 5]:\n",
    "    print(f'min_samples_leaf: {m}')\n",
    "    rmses = []\n",
    "    \n",
    "    for i in range(10, 201, 20):\n",
    "        rf = RandomForestRegressor(n_estimators=i, max_depth=30, min_samples_leaf=m, random_state=31)\n",
    "        rf.fit(X_train, y_train)\n",
    "        y_pred = rf.predict(X_val)\n",
    "        rmse = mean_squared_error(y_val, y_pred, squared=False)\n",
    "        rmses.append(rmse)\n",
    "        print(f'i: {i:>6}, rmse: {rmse:.5f}')\n",
    "        \n",
    "    all_rmses[m] = rmses\n",
    "    print()\n",
    "    "
   ]
  },
  {
   "cell_type": "code",
   "execution_count": 81,
   "id": "6dfaebfb-2385-453e-8a37-30b743361644",
   "metadata": {},
   "outputs": [
    {
     "data": {
      "image/png": "[encoded data removed]",
      "text/plain": [
       "<Figure size 432x288 with 1 Axes>"
      ]
     },
     "metadata": {
      "needs_background": "light"
     },
     "output_type": "display_data"
    }
   ],
   "source": [
    "num_trees = list(range(10, 201, 20))\n",
    "plt.plot(num_trees, all_rmses[1], label = 'min_sample_leaf=1')\n",
    "plt.plot(num_trees, all_rmses[2], label = 'min_sample_leaf=2')\n",
    "plt.plot(num_trees, all_rmses[3], label = 'min_sample_leaf=3')\n",
    "plt.plot(num_trees, all_rmses[5], label = 'min_sample_leaf=5')\n",
    "plt.legend()\n",
    "plt.title('Number of trees vs RMSE')\n",
    "plt.show()"
   ]
  },
  {
   "cell_type": "code",
   "execution_count": 82,
   "id": "fd2fc7c3-383a-4c16-8af6-2cb6190a7151",
   "metadata": {},
   "outputs": [
    {
     "name": "stdout",
     "output_type": "stream",
     "text": [
      "val rmse:0.22604\n"
     ]
    }
   ],
   "source": [
    "rf = RandomForestRegressor(n_estimators=150, max_depth=30, min_samples_leaf=1, random_state=31)\n",
    "rf.fit(X_train, y_train)\n",
    "y_pred = rf.predict(X_val)\n",
    "print(f'val rmse:{mean_squared_error(y_val, y_pred, squared=False):.5f}')"
   ]
  },
  {
   "cell_type": "markdown",
   "id": "77d766e4-9bc5-4068-bb66-9ebb7427a457",
   "metadata": {},
   "source": [
    "## Training the finale model"
   ]
  },
  {
   "cell_type": "code",
   "execution_count": 83,
   "id": "c7de32c1-6877-4c8c-80b5-5cb454381e49",
   "metadata": {},
   "outputs": [
    {
     "data": {
      "text/plain": [
       "RandomForestRegressor(max_depth=30, n_estimators=150, random_state=31)"
      ]
     },
     "execution_count": 83,
     "metadata": {},
     "output_type": "execute_result"
    }
   ],
   "source": [
    "rf = RandomForestRegressor(n_estimators=150, max_depth=30, min_samples_leaf=1, random_state=31)\n",
    "rf.fit(X_full_train, y_full_train)"
   ]
  },
  {
   "cell_type": "code",
   "execution_count": 84,
   "id": "4fedf09e-3b05-41a6-b620-d16d17d1d29f",
   "metadata": {},
   "outputs": [
    {
     "name": "stdout",
     "output_type": "stream",
     "text": [
      "test rmse:0.21832\n"
     ]
    }
   ],
   "source": [
    "y_pred = rf.predict(X_test)\n",
    "print(f'test rmse:{mean_squared_error(y_test, y_pred, squared=False):.5f}')"
   ]
  },
  {
   "cell_type": "code",
   "execution_count": 85,
   "id": "2ad2fe18-9218-46c1-b6fb-ac50b13f9ed6",
   "metadata": {},
   "outputs": [
    {
     "data": {
      "text/plain": [
       "house_type        planta_8\n",
       "house_type_2      exterior\n",
       "rooms                    1\n",
       "m2                    62.0\n",
       "elevator               yes\n",
       "garage                 yes\n",
       "neighborhood       legazpi\n",
       "district        arganzuela\n",
       "Name: 10, dtype: object"
      ]
     },
     "execution_count": 85,
     "metadata": {},
     "output_type": "execute_result"
    }
   ],
   "source": [
    "df_test.iloc[10]"
   ]
  },
  {
   "cell_type": "code",
   "execution_count": 86,
   "id": "916882a9-a18a-4f43-8da4-c83c784bdbd9",
   "metadata": {},
   "outputs": [
    {
     "data": {
      "text/plain": [
       "371155.0476089779"
      ]
     },
     "execution_count": 86,
     "metadata": {},
     "output_type": "execute_result"
    }
   ],
   "source": [
    "np.expm1(rf.predict(dv.transform(df_test.iloc[10].to_dict()))[0])"
   ]
  },
  {
   "cell_type": "code",
   "execution_count": 87,
   "id": "48d3cb52-825a-4c7f-a0b6-954b3efbbf00",
   "metadata": {},
   "outputs": [
    {
     "data": {
      "text/plain": [
       "359900.0000000002"
      ]
     },
     "execution_count": 87,
     "metadata": {},
     "output_type": "execute_result"
    }
   ],
   "source": [
    "np.expm1(y_test.iloc[10])"
   ]
  }
 ],
 "metadata": {
  "kernelspec": {
   "display_name": "Python 3 (ipykernel)",
   "language": "python",
   "name": "python3"
  },
  "language_info": {
   "codemirror_mode": {
    "name": "ipython",
    "version": 3
   },
   "file_extension": ".py",
   "mimetype": "text/x-python",
   "name": "python",
   "nbconvert_exporter": "python",
   "pygments_lexer": "ipython3",
   "version": "3.9.12"
  }
 },
 "nbformat": 4,
 "nbformat_minor": 5
}
