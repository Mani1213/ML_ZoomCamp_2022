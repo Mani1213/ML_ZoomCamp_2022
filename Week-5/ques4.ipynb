{
 "cells": [
  {
   "cell_type": "code",
   "execution_count": 18,
   "id": "d357d450",
   "metadata": {},
   "outputs": [
    {
     "data": {
      "application/javascript": [
       "IPython.notebook.set_autosave_interval(0)"
      ]
     },
     "metadata": {},
     "output_type": "display_data"
    },
    {
     "name": "stdout",
     "output_type": "stream",
     "text": [
      "Autosave disabled\n"
     ]
    }
   ],
   "source": [
    " %autosave 0"
   ]
  },
  {
   "cell_type": "code",
   "execution_count": 19,
   "id": "3f50a770",
   "metadata": {},
   "outputs": [],
   "source": [
    "import requests"
   ]
  },
  {
   "cell_type": "code",
   "execution_count": 20,
   "id": "976b1474",
   "metadata": {},
   "outputs": [],
   "source": [
    "url=\"http://localhost:9696/predict\""
   ]
  },
  {
   "cell_type": "code",
   "execution_count": 21,
   "id": "4f28e590",
   "metadata": {},
   "outputs": [],
   "source": [
    "client = {\"reports\": 0, \"share\": 0.245, \"expenditure\": 3.438, \"owner\": \"yes\"}"
   ]
  },
  {
   "cell_type": "code",
   "execution_count": 23,
   "id": "43c8beab",
   "metadata": {},
   "outputs": [
    {
     "data": {
      "text/plain": [
       "{'get_card': False, 'proba': 0.16213414434326598}"
      ]
     },
     "execution_count": 23,
     "metadata": {},
     "output_type": "execute_result"
    }
   ],
   "source": [
    "requests.post(url,json=client).json()"
   ]
  },
  {
   "cell_type": "code",
   "execution_count": null,
   "id": "3b5f7657",
   "metadata": {},
   "outputs": [],
   "source": []
  }
 ],
 "metadata": {
  "kernelspec": {
   "display_name": "Python 3",
   "language": "python",
   "name": "python3"
  },
  "language_info": {
   "codemirror_mode": {
    "name": "ipython",
    "version": 3
   },
   "file_extension": ".py",
   "mimetype": "text/x-python",
   "name": "python",
   "nbconvert_exporter": "python",
   "pygments_lexer": "ipython3",
   "version": "3.9.12"
  }
 },
 "nbformat": 4,
 "nbformat_minor": 5
}
