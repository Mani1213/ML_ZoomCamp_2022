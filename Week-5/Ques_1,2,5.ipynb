{
 "cells": [
  {
   "cell_type": "markdown",
   "id": "63cf6a2c",
   "metadata": {},
   "source": [
    "### Question 1\n",
    "- Install Pipenv\n",
    "- What's the version of pipenv you installed?\n",
    "- Use `--version` to find out"
   ]
  },
  {
   "cell_type": "code",
   "execution_count": 5,
   "id": "eda737a6",
   "metadata": {},
   "outputs": [
    {
     "name": "stdout",
     "output_type": "stream",
     "text": [
      "Requirement already satisfied: pipenv in c:\\users\\gmani\\anaconda3\\lib\\site-packages (2022.10.10)\n",
      "Requirement already satisfied: certifi in c:\\users\\gmani\\anaconda3\\lib\\site-packages (from pipenv) (2022.6.15)\n",
      "Requirement already satisfied: virtualenv-clone>=0.2.5 in c:\\users\\gmani\\anaconda3\\lib\\site-packages (from pipenv) (0.5.7)\n",
      "Requirement already satisfied: virtualenv in c:\\users\\gmani\\anaconda3\\lib\\site-packages (from pipenv) (20.16.5)\n",
      "Requirement already satisfied: setuptools>=36.2.1 in c:\\users\\gmani\\anaconda3\\lib\\site-packages (from pipenv) (61.2.0)\n",
      "Requirement already satisfied: distlib<1,>=0.3.5 in c:\\users\\gmani\\anaconda3\\lib\\site-packages (from virtualenv->pipenv) (0.3.6)\n",
      "Requirement already satisfied: platformdirs<3,>=2.4 in c:\\users\\gmani\\anaconda3\\lib\\site-packages (from virtualenv->pipenv) (2.5.2)\n",
      "Requirement already satisfied: filelock<4,>=3.4.1 in c:\\users\\gmani\\anaconda3\\lib\\site-packages (from virtualenv->pipenv) (3.6.0)\n"
     ]
    }
   ],
   "source": [
    "!pip install pipenv"
   ]
  },
  {
   "cell_type": "code",
   "execution_count": 7,
   "id": "a0ae71c6",
   "metadata": {},
   "outputs": [
    {
     "name": "stdout",
     "output_type": "stream",
     "text": [
      "pipenv, version 2022.10.10\n",
      "\n"
     ]
    }
   ],
   "source": [
    "! pipenv --version"
   ]
  },
  {
   "cell_type": "markdown",
   "id": "3aa838e2",
   "metadata": {},
   "source": [
    "__pipenv-2022.10.10__"
   ]
  },
  {
   "cell_type": "markdown",
   "id": "7f99a49f",
   "metadata": {},
   "source": [
    "### Question 2\n",
    "\n",
    "- Use Pipenv to install Scikit-Learn version 1.0.2\n",
    "- What's the first hash for scikit-learn you get in Pipfile.lock?"
   ]
  },
  {
   "cell_type": "markdown",
   "id": "2000775b",
   "metadata": {},
   "source": [
    "__\"\"sha256\": \"8742d8c53a4babef7dc52aa7fe736fb8681cda6f7baa4f5a78f28353eed21c0f\"__"
   ]
  },
  {
   "cell_type": "markdown",
   "id": "d531501d",
   "metadata": {},
   "source": [
    "### Models\n",
    "We've prepared a dictionary vectorizer and a model.\n",
    "\n",
    "They were trained (roughly) using this code:\n",
    "\n",
    "```python\n",
    "features = ['reports', 'share', 'expenditure', 'owner']\n",
    "dicts = df[features].to_dict(orient='records')\n",
    "\n",
    "dv = DictVectorizer(sparse=False)\n",
    "X = dv.fit_transform(dicts)\n",
    "\n",
    "model = LogisticRegression(solver='liblinear').fit(X, y)\n",
    "```\n",
    "\n",
    "- Note: You don't need to train the model. This code is just for your reference.\n",
    "\n",
    "And then saved with Pickle. Download them:\n",
    "\n",
    "- DictVectorizer\n",
    "- LogisticRegression\n",
    "\n",
    "With `wget`:\n",
    "\n",
    "\n",
    "```\n",
    "PREFIX=https://raw.githubusercontent.com/alexeygrigorev/mlbookcamp-code/master/course-zoomcamp/cohorts/2022/05-deployment/homework\n",
    "wget $PREFIX/model1.bin\n",
    "wget $PREFIX/dv.bin\n",
    "```"
   ]
  },
  {
   "cell_type": "code",
   "execution_count": 9,
   "id": "5a35ef28",
   "metadata": {},
   "outputs": [
    {
     "name": "stdout",
     "output_type": "stream",
     "text": [
      "Installing scikit-learn==1.0.2...\n",
      "\n",
      "Installing dependencies from Pipfile.lock (d21c0f)...\n",
      "To activate this project's virtualenv, run pipenv shell.\n",
      "Alternatively, run a command inside the virtualenv with pipenv run.\n"
     ]
    },
    {
     "name": "stderr",
     "output_type": "stream",
     "text": [
      "\n",
      "[    ] Installing...\b\n",
      "[=   ] Installing scikit-learn...\b\n",
      "[==  ] Installing scikit-learn...\b\n",
      "[=== ] Installing scikit-learn...\b\n",
      "[ ===] Installing scikit-learn...\b\n",
      "[  ==] Installing scikit-learn...\b\n",
      "[   =] Installing scikit-learn...\b\n",
      "[    ] Installing scikit-learn...\b\n",
      "[   =] Installing scikit-learn...\b\n",
      "[  ==] Installing scikit-learn...\b\n",
      "[ ===] Installing scikit-learn...\b\n",
      "[====] Installing scikit-learn...\b\n",
      "[=== ] Installing scikit-learn...\b\n",
      "[==  ] Installing scikit-learn...\b\n",
      "[=   ] Installing scikit-learn...\b\n",
      "[    ] Installing scikit-learn...\b\n",
      "[=   ] Installing scikit-learn...\b\n",
      "[==  ] Installing scikit-learn...\b\n",
      "[=== ] Installing scikit-learn...\b\n",
      "[ ===] Installing scikit-learn...\b\n",
      "[  ==] Installing scikit-learn...\b\n",
      "[   =] Installing scikit-learn...\n",
      "Adding scikit-learn to Pipfile's [packages]...\n",
      "\bInstallation Succeeded \n"
     ]
    }
   ],
   "source": [
    "!pipenv install scikit-learn==1.0.2"
   ]
  },
  {
   "cell_type": "code",
   "execution_count": 10,
   "id": "14cd04d6",
   "metadata": {},
   "outputs": [
    {
     "name": "stdout",
     "output_type": "stream",
     "text": [
      "Requirement already satisfied: wget in c:\\users\\gmani\\anaconda3\\lib\\site-packages (3.2)\n"
     ]
    }
   ],
   "source": [
    "!pip install wget"
   ]
  },
  {
   "cell_type": "code",
   "execution_count": null,
   "id": "610086b4",
   "metadata": {},
   "outputs": [],
   "source": [
    "import wget\n",
    "PREFIX = \"https://raw.githubusercontent.com/alexeygrigorev/mlbookcamp-code/master/course-zoomcamp/cohorts/2022/05-deployment/homework\"\n",
    "wget.download(PREFIX+\"/model1.bin\")\n",
    "wget.download(PREFIX+\"/dv.bin\")"
   ]
  },
  {
   "cell_type": "markdown",
   "id": "b21ce34a",
   "metadata": {},
   "source": [
    "### Question 5\n",
    "Download the base image svizor/zoomcamp-model:3.9.12-slim. You can easily make it by using docker pull command.\n",
    "\n",
    "So what's the size of this base image?\n",
    "\n",
    "- 15 Mb\n",
    "- 125 Mb\n",
    "- 275 Mb\n",
    "- 415 Mb\n",
    "\n",
    "You can get this information when running `docker images` - it'll be in the \"SIZE\" column."
   ]
  },
  {
   "cell_type": "markdown",
   "id": "1dcb0c9b",
   "metadata": {},
   "source": [
    "answer: __option b `125 Mb`__"
   ]
  },
  {
   "cell_type": "markdown",
   "id": "45f411ae",
   "metadata": {},
   "source": [
    "### Question 6\n",
    "Let's run your docker container!\n",
    "\n",
    "After running it, score this client once again:\n",
    "\n",
    "```python\n",
    "url = \"YOUR_URL\"\n",
    "client = {\"reports\": 0, \"share\": 0.245, \"expenditure\": 3.438, \"owner\": \"yes\"}\n",
    "requests.post(url, json=client).json()\n",
    "```\n",
    "\n",
    "What's the probability that this client will get a credit card now?\n",
    "\n",
    "- 0.289\n",
    "- 0.502\n",
    "- 0.769\n",
    "- 0.972"
   ]
  },
  {
   "cell_type": "code",
   "execution_count": null,
   "id": "82e79ed9",
   "metadata": {},
   "outputs": [],
   "source": []
  }
 ],
 "metadata": {
  "kernelspec": {
   "display_name": "Python 3 (ipykernel)",
   "language": "python",
   "name": "python3"
  },
  "language_info": {
   "codemirror_mode": {
    "name": "ipython",
    "version": 3
   },
   "file_extension": ".py",
   "mimetype": "text/x-python",
   "name": "python",
   "nbconvert_exporter": "python",
   "pygments_lexer": "ipython3",
   "version": "3.9.12"
  }
 },
 "nbformat": 4,
 "nbformat_minor": 5
}
